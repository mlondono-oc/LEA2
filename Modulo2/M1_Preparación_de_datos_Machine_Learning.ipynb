{
  "cells": [
    {
      "cell_type": "markdown",
      "metadata": {
        "id": "Hkr8gmU5R2Kt"
      },
      "source": [
        "# Introducción al preprocesamiento de datos en el aprendizaje automático\n",
        "\n",
        "El preprocesamiento de datos es el método de análisis, filtrado, transformación y codificación de datos para que un algoritmo de aprendizaje automático pueda comprender y trabajar con la salida procesada.\n",
        "\n",
        "En lugar de hacer esto manualmente, se recomienda la creación de funciones:\n",
        "\n",
        "*   Esto le permitirá reproducir estas transformaciones fácilmente en cualquier conjunto de datos.\n",
        "*   Construirá gradualmente una biblioteca de funciones de transformación que podrá reutilizar en futuros proyectos."
      ]
    },
    {
      "cell_type": "markdown",
      "metadata": {
        "id": "dunD-D_NVtcG"
      },
      "source": [
        "## Preparación del notebook"
      ]
    },
    {
      "cell_type": "code",
      "execution_count": null,
      "metadata": {},
      "outputs": [],
      "source": [
        "#%pip install imblearn"
      ]
    },
    {
      "cell_type": "code",
      "execution_count": 1,
      "metadata": {
        "id": "bid7IGwV-t8m"
      },
      "outputs": [],
      "source": [
        "import warnings\n",
        "warnings.filterwarnings('ignore')"
      ]
    },
    {
      "cell_type": "code",
      "execution_count": 2,
      "metadata": {
        "id": "TBwQLucXQjNZ"
      },
      "outputs": [],
      "source": [
        "%matplotlib inline\n",
        "import numpy as np\n",
        "import pandas as pd\n",
        "import matplotlib.pyplot as plt\n",
        "import seaborn as sns\n",
        "import sklearn"
      ]
    },
    {
      "cell_type": "markdown",
      "metadata": {
        "id": "QE3ptSR-1bWo"
      },
      "source": [
        "## Importar datos"
      ]
    },
    {
      "cell_type": "code",
      "execution_count": null,
      "metadata": {
        "colab": {
          "base_uri": "https://localhost:8080/",
          "height": 363
        },
        "id": "eNTiK06C1ici",
        "outputId": "59a20c07-ca5b-48f0-9701-a39bb19c430b"
      },
      "outputs": [],
      "source": [
        "#clientes que han comprado a un retailer\n",
        "\n",
        "# Lectura de archivo csv\n",
        "df = pd.read_csv(\"data/dataPreprocessing.csv\", sep=\";\")\n",
        "\n",
        "# Obtener los 10 primeros registros\n",
        "df.head(10)"
      ]
    },
    {
      "cell_type": "code",
      "execution_count": null,
      "metadata": {
        "colab": {
          "base_uri": "https://localhost:8080/"
        },
        "id": "Mj32F3XW1qAq",
        "outputId": "15cd22e7-1caf-4b82-c73b-561893264b76"
      },
      "outputs": [],
      "source": [
        "# Tamaño del dataset\n",
        "df.shape"
      ]
    },
    {
      "cell_type": "markdown",
      "metadata": {
        "id": "tMtOcn2o4dEJ"
      },
      "source": [
        "## Identificación y tratamiento de los valores faltantes (Missing values)\n",
        "\n",
        "Los datos faltantes pueden inducir error o crear problemas en el análisis de los datos. Este paso es importante porque, normalmente, los modelos de aprendizaje automático no pueden tratar automáticamente los valores que faltan.\n",
        "\n",
        "Para evitar estos problemas, es necesario tratar los datos que faltan, estas son algunas de las estrategias aplicadas:\n",
        "\n",
        "\n",
        "\n",
        "*   Eliminar una fila determinada que contenga valores ausentes\n",
        "*   Reemplazar los valores ausentes (imputación)por otro valor como: 0, mean, median, mode.\n",
        "\n",
        "\n"
      ]
    },
    {
      "cell_type": "code",
      "execution_count": null,
      "metadata": {
        "colab": {
          "base_uri": "https://localhost:8080/"
        },
        "id": "YPGT-_Ul2RcT",
        "outputId": "9e6aee2f-c682-4307-d81d-2c3977e25687"
      },
      "outputs": [],
      "source": [
        "# Identificación de valores ausentes\n",
        "df.isnull().sum()"
      ]
    },
    {
      "cell_type": "code",
      "execution_count": null,
      "metadata": {
        "colab": {
          "base_uri": "https://localhost:8080/"
        },
        "id": "gCvAoRed-E1I",
        "outputId": "a12ce56f-af2c-4a42-84af-f6b39880b248"
      },
      "outputs": [],
      "source": [
        "# Estrategia 1: Eliminación de ejemplos con nulls\n",
        "\n",
        "# copia de df\n",
        "df1 = df.copy()\n",
        "\n",
        "print(\"Antes:\",df.shape)\n",
        "\n",
        "# Eliminar filas con valores null\n",
        "df1.dropna(inplace=True)\n",
        "\n",
        "print(\"Después:\",df1.shape)"
      ]
    },
    {
      "cell_type": "code",
      "execution_count": null,
      "metadata": {
        "colab": {
          "base_uri": "https://localhost:8080/",
          "height": 310
        },
        "id": "Cdv6O6dB-oWy",
        "outputId": "da62d569-410a-4a6b-a35d-9be989c2da30"
      },
      "outputs": [],
      "source": [
        "# Estrategia 2: Imputacion de datos\n",
        "\n",
        "# copia de df\n",
        "df2 = df.copy()\n",
        "\n",
        "# Reemplazar valores null con la mediana (var numéricas)\n",
        "age_median = df2[\"Age\"].median()\n",
        "df2[\"Age\"].fillna(age_median, inplace=True)\n",
        "\n",
        "salary_median = df2[\"Salary\"].median()\n",
        "df2[\"Salary\"].fillna(salary_median, inplace=True)\n",
        "\n",
        "# Reemplazar valores null con la moda (var categóricas)\n",
        "country_mode = df2[\"Country\"].mode()\n",
        "df2[\"Country\"].fillna(country_mode[0], inplace=True)\n",
        "\n",
        "# Numero de valores ausentes por columna\n",
        "print(df2.isnull().sum())\n",
        "\n",
        "df2.head()"
      ]
    },
    {
      "cell_type": "code",
      "execution_count": null,
      "metadata": {
        "colab": {
          "base_uri": "https://localhost:8080/"
        },
        "id": "-d_PSimy_57E",
        "outputId": "162a3151-57ab-4b42-a624-c22e1b0713d4"
      },
      "outputs": [],
      "source": [
        "# Estrategia 2: Imputacion de datos - sklearn\n",
        "\n",
        "from sklearn.impute import SimpleImputer\n",
        "\n",
        "# copia de df\n",
        "df3 = df.copy()\n",
        "\n",
        "# Definir imputer para variables numéricas\n",
        "imp_num = SimpleImputer(strategy='median')\n",
        "\n",
        "# Ajustar imputer y trasnformar las variables con valores null\n",
        "imp_num.fit(df3.iloc[:, 1:3])\n",
        "df3.iloc[:, 1:3] = imp_num.transform(df3.iloc[:, 1:3])\n",
        "\n",
        "# Definir imputer para variables categóricas\n",
        "imp_cat = SimpleImputer(strategy='most_frequent')\n",
        "\n",
        "df3[\"Country\"] = imp_cat.fit_transform(df3[\"Country\"].values.reshape(-1, 1))\n",
        "\n",
        "print(df3.isnull().sum())"
      ]
    },
    {
      "cell_type": "markdown",
      "metadata": {
        "id": "QkJCQz1GGh8U"
      },
      "source": [
        "## Codificación de los datos categóricos\n",
        "\n",
        "La mayoría de las bibliotecas de aprendizaje automático están diseñadas para trabajar con variables numéricas. Así que las variables categóricas en su forma original de descripción de texto no pueden utilizarse directamente para la construcción de modelos.\n",
        "\n",
        "Los siguientes son algunos de los métodos habituales para tratar datos categóricos en función de su número de niveles:\n",
        "\n"
      ]
    },
    {
      "cell_type": "code",
      "execution_count": null,
      "metadata": {
        "colab": {
          "base_uri": "https://localhost:8080/"
        },
        "id": "7rHX03tp9fwh",
        "outputId": "190697d8-c3e2-4297-e205-6957c49d5c8c"
      },
      "outputs": [],
      "source": [
        "# OneHotEncoder - variables dummys\n",
        "from sklearn.compose import ColumnTransformer\n",
        "from sklearn.preprocessing import OneHotEncoder\n",
        "\n",
        "df4 = df3.copy()\n",
        "df4.Country.unique()"
      ]
    },
    {
      "cell_type": "code",
      "execution_count": null,
      "metadata": {},
      "outputs": [],
      "source": [
        "ct = ColumnTransformer(transformers=[('encoder', OneHotEncoder(), ['Country', 'Sex'])], remainder='passthrough')\n",
        "x_transform = ct.fit_transform(df4)\n",
        "\n",
        "print(df4.head(3))\n",
        "print(x_transform[0:3,:])"
      ]
    },
    {
      "cell_type": "code",
      "execution_count": null,
      "metadata": {},
      "outputs": [],
      "source": [
        "print(ct.get_feature_names_out())"
      ]
    },
    {
      "cell_type": "code",
      "execution_count": null,
      "metadata": {
        "colab": {
          "base_uri": "https://localhost:8080/",
          "height": 250
        },
        "id": "HGHWEg_JMUhH",
        "outputId": "7abd16e3-cfdf-4b19-b5de-d895d8a26440"
      },
      "outputs": [],
      "source": [
        "# Usando get_dummies de pandas\n",
        "y = df3.Purchased\n",
        "x = df3.drop(['Purchased'], axis=1)\n",
        "\n",
        "df4_dummys = pd.get_dummies(x)\n",
        "df4_dummys.head()"
      ]
    },
    {
      "cell_type": "code",
      "execution_count": null,
      "metadata": {
        "colab": {
          "base_uri": "https://localhost:8080/"
        },
        "id": "83Qytmc_Ql3g",
        "outputId": "56006dd3-cbf5-473a-e748-32b5c1fe8aad"
      },
      "outputs": [],
      "source": [
        "# LabelEncoder\n",
        "from sklearn.preprocessing import LabelEncoder\n",
        "le = LabelEncoder()\n",
        "y = le.fit_transform(y)\n",
        "\n",
        "print(y[0:5])\n",
        "\n",
        "print(le.classes_)"
      ]
    },
    {
      "cell_type": "markdown",
      "metadata": {
        "id": "2Qs4S3hMRQpr"
      },
      "source": [
        "## Estandarización y escalado de variables\n",
        "\n",
        "Es un método para estandarizar las variables independientes de un conjunto de datos dentro de un rango específico.\n",
        "\n",
        "En otras palabras, el escalado de características limita el rango de variables para poder compararlas sobre bases comunes."
      ]
    },
    {
      "cell_type": "markdown",
      "metadata": {
        "id": "uBekCqf-SYLf"
      },
      "source": [
        "### MinMax Scaler\n",
        "![image.png](data:image/png;base64,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)"
      ]
    },
    {
      "cell_type": "code",
      "execution_count": null,
      "metadata": {
        "colab": {
          "base_uri": "https://localhost:8080/"
        },
        "id": "t7BJLxtoS2oO",
        "outputId": "7fd51008-4925-47e2-f268-ff1374210dae"
      },
      "outputs": [],
      "source": [
        "# MinMax Scaler\n",
        "from sklearn.preprocessing import MinMaxScaler\n",
        "\n",
        "mm = MinMaxScaler()\n",
        "\n",
        "x1 = x_transform.copy()\n",
        "x1 = x1[:,:-1]\n",
        "\n",
        "x1[:, 5:] = mm.fit_transform(x1[:, 5:])\n",
        "\n",
        "x1[0:5]"
      ]
    },
    {
      "cell_type": "markdown",
      "metadata": {
        "id": "u6zzezerT05-"
      },
      "source": [
        "### Standard Scaler\n",
        "StandardScaler sigue la Distribución Normal Estándar (SND). Por lo tanto, hace media = 0 y escala los datos a varianza unitaria.\n",
        "\n",
        "![image.png](data:image/png;base64,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)"
      ]
    },
    {
      "cell_type": "code",
      "execution_count": null,
      "metadata": {
        "colab": {
          "base_uri": "https://localhost:8080/"
        },
        "id": "BuPNxVCzTk9L",
        "outputId": "de0e3192-8b48-457a-ce4c-7578351c5e71"
      },
      "outputs": [],
      "source": [
        "from sklearn.preprocessing import StandardScaler\n",
        "sta = StandardScaler()\n",
        "\n",
        "x2 = x_transform.copy()\n",
        "\n",
        "x2 = x2[:,:-1]\n",
        "\n",
        "x2[:, 5:] = sta.fit_transform(x2[:, 5:])\n",
        "\n",
        "x2[0:5]"
      ]
    },
    {
      "cell_type": "markdown",
      "metadata": {
        "id": "BuGJGblPYCmE"
      },
      "source": [
        "## Desbalanceo de clases\n"
      ]
    },
    {
      "cell_type": "code",
      "execution_count": null,
      "metadata": {
        "colab": {
          "base_uri": "https://localhost:8080/",
          "height": 288
        },
        "id": "TWjWGSyiX-gr",
        "outputId": "94db1bcf-7eaa-49c4-ade7-6f4fdfd3bba8"
      },
      "outputs": [],
      "source": [
        "# Identificación de ejemplos de entrenamiento por clases\n",
        "df4['Purchased'].value_counts().plot(kind='bar')"
      ]
    },
    {
      "cell_type": "code",
      "execution_count": null,
      "metadata": {},
      "outputs": [],
      "source": [
        "print(x1.shape)\n",
        "print(y.shape)"
      ]
    },
    {
      "cell_type": "markdown",
      "metadata": {},
      "source": [
        "## Submuestreo aleatorio con Imblearn"
      ]
    },
    {
      "cell_type": "code",
      "execution_count": null,
      "metadata": {},
      "outputs": [],
      "source": [
        "# importar libreria\n",
        "from imblearn.under_sampling import RandomUnderSampler\n",
        "from collections import Counter\n",
        "\n",
        "rus = RandomUnderSampler(random_state=42) \n",
        "# fit predictor and target variable\n",
        "x_rus, y_rus = rus.fit_resample(x1, y)\n",
        "\n",
        "print('original dataset shape:', Counter(y))\n",
        "print('Resample dataset shape', Counter(y_rus))"
      ]
    },
    {
      "cell_type": "code",
      "execution_count": null,
      "metadata": {},
      "outputs": [],
      "source": [
        "# importar libreria\n",
        "from imblearn.under_sampling import RandomUnderSampler\n",
        "from collections import Counter\n",
        "\n",
        "rus = RandomUnderSampler(random_state=42) \n",
        "# fit predictor and target variable\n",
        "x_rus, y_rus = rus.fit_resample(x1, y)\n",
        "\n",
        "print('original dataset shape:', Counter(y))\n",
        "print('Resample dataset shape', Counter(y_rus))"
      ]
    },
    {
      "cell_type": "code",
      "execution_count": null,
      "metadata": {},
      "outputs": [],
      "source": [
        "ros = RandomOverSampler(random_state=42)\n",
        "\n",
        "# fit predictor and target variablex_ros, y_ros = ros.fit_resample(x, y)\n",
        "x_ros, y_ros = ros.fit_resample(x1, y)\n",
        "\n",
        "print('Original dataset shape', Counter(y))\n",
        "print('Resample dataset shape', Counter(y_ros))"
      ]
    }
  ],
  "metadata": {
    "colab": {
      "provenance": []
    },
    "kernelspec": {
      "display_name": "Python 3",
      "name": "python3"
    },
    "language_info": {
      "codemirror_mode": {
        "name": "ipython",
        "version": 3
      },
      "file_extension": ".py",
      "mimetype": "text/x-python",
      "name": "python",
      "nbconvert_exporter": "python",
      "pygments_lexer": "ipython3",
      "version": "3.9.7"
    }
  },
  "nbformat": 4,
  "nbformat_minor": 0
}
