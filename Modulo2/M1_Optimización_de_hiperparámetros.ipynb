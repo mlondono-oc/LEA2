{
  "cells": [
    {
      "cell_type": "markdown",
      "metadata": {
        "id": "z8DaE1IBk6WH"
      },
      "source": [
        "## Configuración del Notebook"
      ]
    },
    {
      "cell_type": "code",
      "execution_count": null,
      "metadata": {
        "id": "6B72APW1cRZJ"
      },
      "outputs": [],
      "source": [
        "#!pip install xgboost"
      ]
    },
    {
      "cell_type": "code",
      "execution_count": 9,
      "metadata": {
        "id": "-_AoN-dWOHLi"
      },
      "outputs": [],
      "source": [
        "# Importar librerias necesarias\n",
        "import pandas as pd\n",
        "import numpy as np\n",
        "import matplotlib.pyplot as plt\n",
        "from sklearn.linear_model import LinearRegression\n",
        "from sklearn.impute import SimpleImputer\n",
        "from sklearn.preprocessing import OneHotEncoder, StandardScaler\n",
        "from sklearn.pipeline import Pipeline\n",
        "from sklearn.compose import ColumnTransformer\n",
        "from sklearn.model_selection import train_test_split\n",
        "from sklearn.model_selection import cross_val_score\n",
        "from sklearn.metrics import r2_score"
      ]
    },
    {
      "cell_type": "markdown",
      "metadata": {
        "id": "MgTWFBBPk-P4"
      },
      "source": [
        "## Lectura de datos y separación de datasets de entrenamiento y validación"
      ]
    },
    {
      "cell_type": "code",
      "execution_count": 7,
      "metadata": {
        "colab": {
          "base_uri": "https://localhost:8080/"
        },
        "id": "CwaK3-ywFs0U",
        "outputId": "c26e9fe4-9364-4bb4-e912-684f183845ab"
      },
      "outputs": [
        {
          "name": "stdout",
          "output_type": "stream",
          "text": [
            "Tamaño del conjunto de entrenamiento: (358, 7)\n",
            "Tamaño del conjunto de validación: (40, 7)\n"
          ]
        }
      ],
      "source": [
        "# Lectura de los datos\n",
        "df= pd.read_csv(\"https://raw.githubusercontent.com/mlondono-oc/LEA2_20232/main/Modulo2/data/auto-mpg.csv\", na_values = '?')\n",
        "\n",
        "# copia de df\n",
        "df1 = df\n",
        "df1['country_code'] = df1.origin.replace([1,2,3],['USA','Europe','Japan'])\n",
        "df1 = df1.rename(columns = {'mpg' : 'target', \"model year\": \"model_year\"})\n",
        "df1.drop([\"car name\", \"origin\"], axis = 1, inplace = True)\n",
        "\n",
        "# Para cambiar el tipo de dato puede utilizar la función astype de pandas\n",
        "df1.cylinders = df1.cylinders.astype(str)\n",
        "df1.model_year = df1.model_year.astype(str)\n",
        "df1.weight = df1.weight.astype(float)\n",
        "\n",
        "# Separación de caracteristicas y target (X , y)\n",
        "y = df1.target\n",
        "X = df1.drop([\"target\"], axis = 1)\n",
        "\n",
        "# Separación en conjuntos de entrenamiento y validación con 90% de muestras para entrenamiento\n",
        "X_train, X_test, y_train, y_test = train_test_split(X, y, test_size=0.1, random_state=42)\n",
        "\n",
        "print(\"Tamaño del conjunto de entrenamiento:\", X_train.shape)\n",
        "print(\"Tamaño del conjunto de validación:\",  X_test.shape)\n",
        "\n",
        "#Separación de caracteristicas númericas y categóricas\n",
        "numeric_columns=list(X.select_dtypes('float64').columns)\n",
        "categorical_columns=list(X.select_dtypes('object').columns)"
      ]
    },
    {
      "cell_type": "markdown",
      "metadata": {
        "id": "tKigDfhcla2p"
      },
      "source": [
        "## Modelos Base"
      ]
    },
    {
      "cell_type": "markdown",
      "metadata": {
        "id": "ctTsQAmOlfCf"
      },
      "source": [
        "### Linear Regression"
      ]
    },
    {
      "cell_type": "code",
      "execution_count": null,
      "metadata": {
        "colab": {
          "base_uri": "https://localhost:8080/"
        },
        "id": "zz5eUEC7TmSC",
        "outputId": "df3571ef-cdc4-47e1-e4bd-2cfbb8cc3a9c"
      },
      "outputs": [],
      "source": [
        "# Transformador para variables numericas\n",
        "numeric_transformer = Pipeline(steps=[(\"imputer\", SimpleImputer(strategy=\"median\")),\n",
        "                                      (\"scaler\", StandardScaler())])\n",
        "\n",
        "#Pipeline de Procesamiento\n",
        "transformer = ColumnTransformer([('num',numeric_transformer, numeric_columns),\n",
        "                                 ('cat', OneHotEncoder(), categorical_columns)])\n",
        "\n",
        "#Pipeline de Entrenamiento Ridge\n",
        "pipeline = Pipeline([('transformer', transformer),\n",
        "                     ('Ridge Model', LinearRegression())])\n",
        "\n",
        "scores_ridge = cross_val_score(pipeline, X_train, y_train, cv = 5, scoring='neg_mean_squared_error')\n",
        "print('neg_mean_squared_error: %.3f' % (scores_ridge.mean()))"
      ]
    },
    {
      "cell_type": "code",
      "execution_count": null,
      "metadata": {
        "colab": {
          "base_uri": "https://localhost:8080/"
        },
        "id": "7WwupnNBNHJx",
        "outputId": "bc5791ed-b842-4004-a240-422f5a1e96a2"
      },
      "outputs": [],
      "source": [
        "scores_ridge = cross_val_score(pipeline, X_train, y_train, cv = 5, scoring='r2')\n",
        "print('Mean r2: %.3f' % (scores_ridge.mean()))"
      ]
    },
    {
      "cell_type": "markdown",
      "metadata": {
        "id": "AvBa9qCOljND"
      },
      "source": [
        "### Random Forest Regressor"
      ]
    },
    {
      "cell_type": "code",
      "execution_count": null,
      "metadata": {
        "colab": {
          "base_uri": "https://localhost:8080/"
        },
        "id": "wZXDzz_mZOjB",
        "outputId": "6b1d3705-37f3-4f8b-dfc2-1ee24f9ca4ca"
      },
      "outputs": [],
      "source": [
        "from sklearn.ensemble import RandomForestRegressor\n",
        "\n",
        "# Transformador para variables numericas\n",
        "numeric_transformer = Pipeline(steps=[(\"imputer\", SimpleImputer(strategy=\"median\"))])\n",
        "\n",
        "#Pipeline de Procesamiento\n",
        "transformer = ColumnTransformer([('num',numeric_transformer, numeric_columns),\n",
        "                                 ('cat', OneHotEncoder(), categorical_columns)])\n",
        "\n",
        "\n",
        "#Definición del modelo\n",
        "ranfor = RandomForestRegressor(n_estimators = 200,\n",
        "                               criterion    = 'squared_error',\n",
        "                               n_jobs       = -1,\n",
        "                               random_state = 42)\n",
        "\n",
        "#Pipeline de Entrenamiento Ridge\n",
        "pipeline = Pipeline([('transformer', transformer),\n",
        "                     ('Random Forest Model', ranfor)])\n",
        "\n",
        "scores_ranfor = cross_val_score(pipeline, X_train, y_train, cv = 5, scoring='r2')\n",
        "print('Mean R2: %.3f' % (scores_ranfor.mean()))"
      ]
    },
    {
      "cell_type": "code",
      "execution_count": null,
      "metadata": {
        "colab": {
          "base_uri": "https://localhost:8080/"
        },
        "id": "OHcp42aLugEd",
        "outputId": "972662d2-829d-464d-c184-fdda85f9f61d"
      },
      "outputs": [],
      "source": [
        "ranfor.get_params()"
      ]
    },
    {
      "cell_type": "markdown",
      "metadata": {
        "id": "P-oXY9v8ls0C"
      },
      "source": [
        "### XGB Regressor"
      ]
    },
    {
      "cell_type": "code",
      "execution_count": null,
      "metadata": {
        "colab": {
          "base_uri": "https://localhost:8080/"
        },
        "id": "GszXmLD_b4R3",
        "outputId": "0f80577c-a9c9-4018-b9e7-9fce85d11f8d"
      },
      "outputs": [],
      "source": [
        "from xgboost import XGBRegressor\n",
        "\n",
        "# Transformador para variables numericas\n",
        "numeric_transformer = Pipeline(steps=[(\"imputer\", SimpleImputer(strategy=\"median\"))])\n",
        "\n",
        "#Pipeline de Procesamiento\n",
        "transformer = ColumnTransformer([('num',numeric_transformer, numeric_columns),\n",
        "                                 ('cat', OneHotEncoder(), categorical_columns)])\n",
        "\n",
        "#Definición del modelo\n",
        "XGBmodel = XGBRegressor(n_estimators=500,\n",
        "                        eta=0.1,\n",
        "                        colsample_bytree=0.9,\n",
        "                        random_state=42\n",
        "                        )\n",
        "\n",
        "#Pipeline de Entrenamiento Ridge\n",
        "pipeline = Pipeline([('transformer', transformer),\n",
        "                     ('XGBoost', XGBmodel)])\n",
        "\n",
        "scores_xgb = cross_val_score(pipeline, X_train, y_train, cv = 5, scoring='r2')\n",
        "print('Mean R2: %.3f' % (scores_xgb.mean()))"
      ]
    },
    {
      "cell_type": "markdown",
      "metadata": {
        "id": "Ke5DoVMImA-z"
      },
      "source": [
        "## Optimización de Hiperparámetros: Random Forest Regressor"
      ]
    },
    {
      "cell_type": "code",
      "execution_count": 17,
      "metadata": {
        "id": "E8fYQsJApsfn"
      },
      "outputs": [],
      "source": [
        "# Definición de cuadricula de hiperparametros\n",
        "parameters = {'max_depth': [3,5,7,9,12],\n",
        "              'max_features': [0.8,0.9,1],\n",
        "              'max_leaf_nodes': [3,6,9,10],\n",
        "              'min_samples_leaf': [5,7,10,12],\n",
        "              'n_estimators': [200,500,800]}"
      ]
    },
    {
      "cell_type": "markdown",
      "metadata": {
        "id": "CCPvIkK0sIKH"
      },
      "source": [
        "### Búsqueda en cuadrícula"
      ]
    },
    {
      "cell_type": "code",
      "execution_count": 18,
      "metadata": {
        "colab": {
          "base_uri": "https://localhost:8080/"
        },
        "id": "bcHrgcZ4ebg7",
        "outputId": "2f48f057-b190-46c1-a26c-fd1095c52ce5"
      },
      "outputs": [],
      "source": [
        "from sklearn.model_selection import GridSearchCV\n",
        "\n",
        "# Transformador para variables numericas\n",
        "numeric_transformer = Pipeline(steps=[(\"imputer\", SimpleImputer(strategy=\"median\"))])\n",
        "\n",
        "#Pipeline de Procesamiento\n",
        "transformer = ColumnTransformer([('num',numeric_transformer, numeric_columns),\n",
        "                                 ('cat', OneHotEncoder(), categorical_columns)])\n",
        "\n",
        "#Definición del modelo\n",
        "ranfor = RandomForestRegressor(random_state = 42)\n",
        "\n",
        "# Transformación conjunto de train y test\n",
        "X_train_std = transformer.fit_transform(X_train)\n",
        "X_test_std = transformer.transform(X_test)\n",
        "\n",
        "grid_search = GridSearchCV(ranfor, parameters, cv=5, scoring='r2', n_jobs=-1)\n",
        "grid_result = grid_search.fit(X_train_std, y_train)\n",
        "\n",
        "print('Best Params: ', grid_result.best_params_)\n",
        "print('Best Score: ', grid_result.best_score_)"
      ]
    },
    {
      "cell_type": "markdown",
      "metadata": {
        "id": "I89ykH-5sfAZ"
      },
      "source": [
        "### Búsqueda aleatoria"
      ]
    },
    {
      "cell_type": "code",
      "execution_count": null,
      "metadata": {
        "colab": {
          "base_uri": "https://localhost:8080/"
        },
        "id": "kwrVAXsemQfb",
        "outputId": "23d50075-f43f-4fb1-e9f8-6b540d3a2388"
      },
      "outputs": [],
      "source": [
        "from sklearn.model_selection import RandomizedSearchCV\n",
        "# Transformador para variables numericas\n",
        "numeric_transformer = Pipeline(steps=[(\"imputer\", SimpleImputer(strategy=\"median\"))])\n",
        "\n",
        "#Pipeline de Procesamiento\n",
        "transformer = ColumnTransformer([('num',numeric_transformer, numeric_columns),\n",
        "                                 ('cat', OneHotEncoder(), categorical_columns)])\n",
        "\n",
        "#Definición del modelo\n",
        "ranfor = RandomForestRegressor(random_state = 42)\n",
        "\n",
        "# Transformación conjunto de train y test\n",
        "X_train_std = transformer.fit_transform(X_train)\n",
        "X_test_std = transformer.transform(X_test) # Aqui no se debe volver a ajustar, solo transformar\n",
        "\n",
        "rand_s = RandomizedSearchCV(estimator=ranfor, param_distributions=parameters, n_iter=10, scoring='r2', cv=5, verbose=False)\n",
        "rand_s.fit(X_train_std, y_train)\n",
        "\n",
        "print('Best Params: ', rand_s.best_params_)\n",
        "print('Best Score: ', rand_s.best_score_)"
      ]
    },
    {
      "cell_type": "code",
      "execution_count": null,
      "metadata": {
        "colab": {
          "base_uri": "https://localhost:8080/"
        },
        "id": "w4dwnS_xaemB",
        "outputId": "958ed795-fe8d-4f66-bdc4-d347e77e0f54"
      },
      "outputs": [],
      "source": [
        "#Tamaño de entrenamiento\n",
        "print(X_train_std.shape)\n",
        "# Tamano de validación\n",
        "print(X_test_std.shape)"
      ]
    },
    {
      "cell_type": "code",
      "execution_count": null,
      "metadata": {
        "colab": {
          "base_uri": "https://localhost:8080/"
        },
        "id": "pdyMtYphZ63L",
        "outputId": "1236bb86-fdb1-49a1-ebb4-6c58686658d8"
      },
      "outputs": [],
      "source": [
        "rand_s.best_estimator_.predict(X_test_std)"
      ]
    },
    {
      "cell_type": "code",
      "execution_count": null,
      "metadata": {
        "colab": {
          "base_uri": "https://localhost:8080/"
        },
        "id": "-a2CgMyLYGHr",
        "outputId": "ff2bbb35-f973-4c34-952b-2fe91839615c"
      },
      "outputs": [],
      "source": [
        "print(\"R2:{:.2f}\".format(rand_s.best_estimator_.score(X_test_std,y_test)))"
      ]
    },
    {
      "cell_type": "markdown",
      "metadata": {
        "id": "m4FnOBnOmLLe"
      },
      "source": [
        "## Optimización de Hiperparámetros: XGBoosting"
      ]
    },
    {
      "cell_type": "code",
      "execution_count": null,
      "metadata": {
        "id": "sDCGvUQ3svY3"
      },
      "outputs": [],
      "source": [
        "# Definición de cuadricula de hiperparametros\n",
        "parameters = {'eta': [0.01,0.1,0.3],\n",
        "              'colsample_bytree': [0.8,0.9,1],\n",
        "              'max_depth': [4,6,8,10,12],\n",
        "              'n_estimators': [200,500,800]}"
      ]
    },
    {
      "cell_type": "markdown",
      "metadata": {
        "id": "KzOOCpjxsMGx"
      },
      "source": [
        "### Búsqueda en cuadrícula"
      ]
    },
    {
      "cell_type": "code",
      "execution_count": null,
      "metadata": {
        "id": "HHo9saT2soGr"
      },
      "outputs": [],
      "source": [
        "from sklearn.model_selection import GridSearchCV\n",
        "# Transformador para variables numericas\n",
        "numeric_transformer = Pipeline(steps=[(\"imputer\", SimpleImputer(strategy=\"median\"))])\n",
        "\n",
        "#Pipeline de Procesamiento\n",
        "transformer = ColumnTransformer([('num',numeric_transformer, numeric_columns),\n",
        "                                 ('cat', OneHotEncoder(), categorical_columns)])\n",
        "\n",
        "#Definición del modelo\n",
        "XGBmodel = XGBRegressor(random_state=42)\n",
        "\n",
        "# Transformación conjunto de train y test\n",
        "X_train_std = transformer.fit_transform(X_train)\n",
        "X_test_std = transformer.fit_transform(X_test)\n",
        "\n",
        "grid_search = GridSearchCV(XGBmodel, parameters, cv=5, scoring='r2', n_jobs=-1)\n",
        "grid_result = grid_search.fit(X_train_std, y_train)\n",
        "\n",
        "print('Best Params: ', grid_result.best_params_)\n",
        "print('Best Score: ', grid_result.best_score_)"
      ]
    },
    {
      "cell_type": "markdown",
      "metadata": {
        "id": "GcQDVgzJsOIc"
      },
      "source": [
        "### Búsqueda Aleatoria"
      ]
    },
    {
      "cell_type": "code",
      "execution_count": null,
      "metadata": {
        "colab": {
          "base_uri": "https://localhost:8080/"
        },
        "id": "1YLR69UgsSGy",
        "outputId": "bedc4dda-ea5b-4f16-dc8f-b39b4662a3c9"
      },
      "outputs": [],
      "source": [
        "from sklearn.model_selection import RandomizedSearchCV\n",
        "\n",
        "# Transformador para variables numericas\n",
        "numeric_transformer = Pipeline(steps=[(\"imputer\", SimpleImputer(strategy=\"median\"))])\n",
        "\n",
        "#Pipeline de Procesamiento\n",
        "transformer = ColumnTransformer([('num',numeric_transformer, numeric_columns),\n",
        "                                 ('cat', OneHotEncoder(), categorical_columns)])\n",
        "\n",
        "#Definición del modelo\n",
        "XGBmodel = XGBRegressor(random_state=42)\n",
        "\n",
        "# Transformación conjunto de train y test\n",
        "X_train_std = transformer.fit_transform(X_train)\n",
        "X_test_std = transformer.fit_transform(X_test)\n",
        "\n",
        "rand_s = RandomizedSearchCV(estimator=XGBmodel, param_distributions=parameters, n_iter=10, scoring='r2', cv=5, verbose=True)\n",
        "\n",
        "rand_s.fit(X_train_std, y_train)\n",
        "\n",
        "print('Best Params: ', rand_s.best_params_)\n",
        "print('Best Score: ', rand_s.best_score_)"
      ]
    },
    {
      "cell_type": "code",
      "execution_count": null,
      "metadata": {
        "colab": {
          "base_uri": "https://localhost:8080/"
        },
        "id": "td-84PxYakEv",
        "outputId": "0fab0d00-9f24-4afb-8f20-ae4dc3be1bd0"
      },
      "outputs": [],
      "source": [
        "bestModel_xgb=rand_s.best_estimator_\n",
        "print(\"R2:{:.2f}\".format(bestModel_xgb.score(X_test_std,y_test)))"
      ]
    }
  ],
  "metadata": {
    "colab": {
      "collapsed_sections": [
        "z8DaE1IBk6WH",
        "MgTWFBBPk-P4",
        "ctTsQAmOlfCf"
      ],
      "provenance": []
    },
    "kernelspec": {
      "display_name": "Python 3",
      "name": "python3"
    },
    "language_info": {
      "codemirror_mode": {
        "name": "ipython",
        "version": 3
      },
      "file_extension": ".py",
      "mimetype": "text/x-python",
      "name": "python",
      "nbconvert_exporter": "python",
      "pygments_lexer": "ipython3",
      "version": "3.9.7"
    }
  },
  "nbformat": 4,
  "nbformat_minor": 0
}
