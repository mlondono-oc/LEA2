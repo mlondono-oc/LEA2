{
  "cells": [
    {
      "cell_type": "markdown",
      "metadata": {
        "id": "z8DaE1IBk6WH"
      },
      "source": [
        "## Configuración del Notebook"
      ]
    },
    {
      "cell_type": "code",
      "execution_count": null,
      "metadata": {
        "id": "6B72APW1cRZJ"
      },
      "outputs": [],
      "source": [
        "#!pip install xgboost"
      ]
    },
    {
      "cell_type": "code",
      "execution_count": 1,
      "metadata": {
        "id": "-_AoN-dWOHLi"
      },
      "outputs": [],
      "source": [
        "# Importar librerias necesarias\n",
        "import pandas as pd\n",
        "import numpy as np\n",
        "import matplotlib.pyplot as plt\n",
        "from sklearn.linear_model import LinearRegression\n",
        "from sklearn.impute import SimpleImputer\n",
        "from sklearn.preprocessing import OneHotEncoder, StandardScaler\n",
        "from sklearn.pipeline import Pipeline\n",
        "from sklearn.compose import ColumnTransformer\n",
        "from sklearn.model_selection import train_test_split\n",
        "from sklearn.model_selection import cross_val_score\n",
        "from sklearn.metrics import r2_score"
      ]
    },
    {
      "cell_type": "markdown",
      "metadata": {
        "id": "MgTWFBBPk-P4"
      },
      "source": [
        "## Lectura de datos y separación de datasets de entrenamiento y validación"
      ]
    },
    {
      "cell_type": "code",
      "execution_count": 2,
      "metadata": {
        "colab": {
          "base_uri": "https://localhost:8080/"
        },
        "id": "CwaK3-ywFs0U",
        "outputId": "c26e9fe4-9364-4bb4-e912-684f183845ab"
      },
      "outputs": [
        {
          "name": "stdout",
          "output_type": "stream",
          "text": [
            "Tamaño del conjunto de entrenamiento: (358, 7)\n",
            "Tamaño del conjunto de validación: (40, 7)\n"
          ]
        }
      ],
      "source": [
        "# Lectura de los datos\n",
        "df= pd.read_csv(\"https://raw.githubusercontent.com/mlondono-oc/LEA2_20232/main/Modulo2/data/auto-mpg.csv\", na_values = '?')\n",
        "\n",
        "# copia de df\n",
        "df1 = df\n",
        "df1['country_code'] = df1.origin.replace([1,2,3],['USA','Europe','Japan'])\n",
        "df1 = df1.rename(columns = {'mpg' : 'target', \"model year\": \"model_year\"})\n",
        "df1.drop([\"car name\", \"origin\"], axis = 1, inplace = True)\n",
        "\n",
        "# Para cambiar el tipo de dato puede utilizar la función astype de pandas\n",
        "df1.cylinders = df1.cylinders.astype(str)\n",
        "df1.model_year = df1.model_year.astype(str)\n",
        "df1.weight = df1.weight.astype(float)\n",
        "\n",
        "# Separación de caracteristicas y target (X , y)\n",
        "y = df1.target\n",
        "X = df1.drop([\"target\"], axis = 1)\n",
        "\n",
        "# Separación en conjuntos de entrenamiento y validación con 90% de muestras para entrenamiento\n",
        "X_train, X_test, y_train, y_test = train_test_split(X, y, test_size=0.1, random_state=42)\n",
        "\n",
        "print(\"Tamaño del conjunto de entrenamiento:\", X_train.shape)\n",
        "print(\"Tamaño del conjunto de validación:\",  X_test.shape)\n",
        "\n",
        "#Separación de caracteristicas númericas y categóricas\n",
        "numeric_columns=list(X.select_dtypes('float64').columns)\n",
        "categorical_columns=list(X.select_dtypes('object').columns)"
      ]
    },
    {
      "cell_type": "code",
      "execution_count": 3,
      "metadata": {},
      "outputs": [
        {
          "data": {
            "text/html": [
              "<div>\n",
              "<style scoped>\n",
              "    .dataframe tbody tr th:only-of-type {\n",
              "        vertical-align: middle;\n",
              "    }\n",
              "\n",
              "    .dataframe tbody tr th {\n",
              "        vertical-align: top;\n",
              "    }\n",
              "\n",
              "    .dataframe thead th {\n",
              "        text-align: right;\n",
              "    }\n",
              "</style>\n",
              "<table border=\"1\" class=\"dataframe\">\n",
              "  <thead>\n",
              "    <tr style=\"text-align: right;\">\n",
              "      <th></th>\n",
              "      <th>cylinders</th>\n",
              "      <th>displacement</th>\n",
              "      <th>horsepower</th>\n",
              "      <th>weight</th>\n",
              "      <th>acceleration</th>\n",
              "      <th>model_year</th>\n",
              "      <th>country_code</th>\n",
              "    </tr>\n",
              "  </thead>\n",
              "  <tbody>\n",
              "    <tr>\n",
              "      <th>0</th>\n",
              "      <td>8</td>\n",
              "      <td>307.0</td>\n",
              "      <td>130.0</td>\n",
              "      <td>3504.0</td>\n",
              "      <td>12.0</td>\n",
              "      <td>70</td>\n",
              "      <td>USA</td>\n",
              "    </tr>\n",
              "    <tr>\n",
              "      <th>1</th>\n",
              "      <td>8</td>\n",
              "      <td>350.0</td>\n",
              "      <td>165.0</td>\n",
              "      <td>3693.0</td>\n",
              "      <td>11.5</td>\n",
              "      <td>70</td>\n",
              "      <td>USA</td>\n",
              "    </tr>\n",
              "    <tr>\n",
              "      <th>2</th>\n",
              "      <td>8</td>\n",
              "      <td>318.0</td>\n",
              "      <td>150.0</td>\n",
              "      <td>3436.0</td>\n",
              "      <td>11.0</td>\n",
              "      <td>70</td>\n",
              "      <td>USA</td>\n",
              "    </tr>\n",
              "  </tbody>\n",
              "</table>\n",
              "</div>"
            ],
            "text/plain": [
              "  cylinders  displacement  horsepower  weight  acceleration model_year  \\\n",
              "0         8         307.0       130.0  3504.0          12.0         70   \n",
              "1         8         350.0       165.0  3693.0          11.5         70   \n",
              "2         8         318.0       150.0  3436.0          11.0         70   \n",
              "\n",
              "  country_code  \n",
              "0          USA  \n",
              "1          USA  \n",
              "2          USA  "
            ]
          },
          "execution_count": 3,
          "metadata": {},
          "output_type": "execute_result"
        }
      ],
      "source": [
        "X.head(3)"
      ]
    },
    {
      "cell_type": "code",
      "execution_count": 4,
      "metadata": {},
      "outputs": [
        {
          "name": "stdout",
          "output_type": "stream",
          "text": [
            "['displacement', 'horsepower', 'weight', 'acceleration']\n",
            "['cylinders', 'model_year', 'country_code']\n"
          ]
        }
      ],
      "source": [
        "print(numeric_columns)\n",
        "print(categorical_columns)"
      ]
    },
    {
      "cell_type": "markdown",
      "metadata": {
        "id": "tKigDfhcla2p"
      },
      "source": [
        "## Modelos Base"
      ]
    },
    {
      "cell_type": "markdown",
      "metadata": {
        "id": "ctTsQAmOlfCf"
      },
      "source": [
        "### Linear Regression"
      ]
    },
    {
      "cell_type": "code",
      "execution_count": 5,
      "metadata": {
        "colab": {
          "base_uri": "https://localhost:8080/"
        },
        "id": "zz5eUEC7TmSC",
        "outputId": "df3571ef-cdc4-47e1-e4bd-2cfbb8cc3a9c"
      },
      "outputs": [],
      "source": [
        "# Transformador para variables numericas\n",
        "numeric_transformer = Pipeline(steps=[(\"imputer\", SimpleImputer(strategy=\"median\")),\n",
        "                                      (\"scaler\", StandardScaler())])\n",
        "\n",
        "#Pipeline de Procesamiento\n",
        "transformer = ColumnTransformer([('num',numeric_transformer, numeric_columns),\n",
        "                                 ('cat', OneHotEncoder(), categorical_columns)])\n",
        "\n",
        "#Pipeline de Entrenamiento Ridge\n",
        "pipeline = Pipeline([('transformer', transformer),\n",
        "                     ('Linear Regression Model', LinearRegression())])"
      ]
    },
    {
      "cell_type": "code",
      "execution_count": 6,
      "metadata": {},
      "outputs": [
        {
          "name": "stdout",
          "output_type": "stream",
          "text": [
            "neg_mean_squared_error: -8.958\n"
          ]
        }
      ],
      "source": [
        "# Entrenamiento\n",
        "scores_linearRegression = cross_val_score(pipeline, X_train, y_train, cv = 5, scoring='neg_mean_squared_error')\n",
        "print('neg_mean_squared_error: %.3f' % (scores_linearRegression.mean()))"
      ]
    },
    {
      "cell_type": "code",
      "execution_count": 7,
      "metadata": {
        "colab": {
          "base_uri": "https://localhost:8080/"
        },
        "id": "7WwupnNBNHJx",
        "outputId": "bc5791ed-b842-4004-a240-422f5a1e96a2"
      },
      "outputs": [
        {
          "name": "stdout",
          "output_type": "stream",
          "text": [
            "Mean r2: 0.854\n"
          ]
        }
      ],
      "source": [
        "scores_linearRegression = cross_val_score(pipeline, X_train, y_train, cv = 5, scoring='r2')\n",
        "print('Mean r2: %.3f' % (scores_linearRegression.mean()))"
      ]
    },
    {
      "cell_type": "code",
      "execution_count": 8,
      "metadata": {},
      "outputs": [
        {
          "data": {
            "text/plain": [
              "array([0.88566076, 0.88778739, 0.81019133, 0.84144637, 0.84266479])"
            ]
          },
          "execution_count": 8,
          "metadata": {},
          "output_type": "execute_result"
        }
      ],
      "source": [
        "scores_linearRegression"
      ]
    },
    {
      "cell_type": "markdown",
      "metadata": {
        "id": "AvBa9qCOljND"
      },
      "source": [
        "### Random Forest Regressor"
      ]
    },
    {
      "cell_type": "code",
      "execution_count": 9,
      "metadata": {
        "colab": {
          "base_uri": "https://localhost:8080/"
        },
        "id": "wZXDzz_mZOjB",
        "outputId": "6b1d3705-37f3-4f8b-dfc2-1ee24f9ca4ca"
      },
      "outputs": [],
      "source": [
        "from sklearn.ensemble import RandomForestRegressor\n",
        "\n",
        "# Transformador para variables numericas\n",
        "numeric_transformer = Pipeline(steps=[(\"imputer\", SimpleImputer(strategy=\"median\"))])\n",
        "\n",
        "#Pipeline de Procesamiento\n",
        "transformer = ColumnTransformer([('num',numeric_transformer, numeric_columns),\n",
        "                                 ('cat', OneHotEncoder(), categorical_columns)])\n",
        "\n",
        "\n",
        "#Definición del modelo\n",
        "ranfor = RandomForestRegressor(n_estimators = 200,\n",
        "                               criterion    = 'squared_error',\n",
        "                               n_jobs       = -1,\n",
        "                               random_state = 42)\n",
        "\n",
        "#Pipeline de Entrenamiento Random Forest\n",
        "pipeline_ranfor = Pipeline([('transformer', transformer),\n",
        "                     ('Random Forest Model', ranfor)])"
      ]
    },
    {
      "cell_type": "code",
      "execution_count": 10,
      "metadata": {},
      "outputs": [
        {
          "name": "stdout",
          "output_type": "stream",
          "text": [
            "Mean R2: 0.820\n"
          ]
        }
      ],
      "source": [
        "# Entrenamiento\n",
        "scores_ranfor = cross_val_score(pipeline_ranfor, X_train, y_train, cv = 5, scoring='r2')\n",
        "print('Mean R2: %.3f' % (scores_ranfor.mean()))"
      ]
    },
    {
      "cell_type": "code",
      "execution_count": 11,
      "metadata": {
        "colab": {
          "base_uri": "https://localhost:8080/"
        },
        "id": "OHcp42aLugEd",
        "outputId": "972662d2-829d-464d-c184-fdda85f9f61d"
      },
      "outputs": [
        {
          "data": {
            "text/plain": [
              "{'bootstrap': True,\n",
              " 'ccp_alpha': 0.0,\n",
              " 'criterion': 'squared_error',\n",
              " 'max_depth': None,\n",
              " 'max_features': 1.0,\n",
              " 'max_leaf_nodes': None,\n",
              " 'max_samples': None,\n",
              " 'min_impurity_decrease': 0.0,\n",
              " 'min_samples_leaf': 1,\n",
              " 'min_samples_split': 2,\n",
              " 'min_weight_fraction_leaf': 0.0,\n",
              " 'n_estimators': 200,\n",
              " 'n_jobs': -1,\n",
              " 'oob_score': False,\n",
              " 'random_state': 42,\n",
              " 'verbose': 0,\n",
              " 'warm_start': False}"
            ]
          },
          "execution_count": 11,
          "metadata": {},
          "output_type": "execute_result"
        }
      ],
      "source": [
        "ranfor.get_params()"
      ]
    },
    {
      "cell_type": "markdown",
      "metadata": {
        "id": "P-oXY9v8ls0C"
      },
      "source": [
        "### XGB Regressor"
      ]
    },
    {
      "cell_type": "code",
      "execution_count": 12,
      "metadata": {
        "colab": {
          "base_uri": "https://localhost:8080/"
        },
        "id": "GszXmLD_b4R3",
        "outputId": "0f80577c-a9c9-4018-b9e7-9fce85d11f8d"
      },
      "outputs": [],
      "source": [
        "from xgboost import XGBRegressor\n",
        "\n",
        "# Transformador para variables numericas\n",
        "numeric_transformer = Pipeline(steps=[(\"imputer\", SimpleImputer(strategy=\"median\"))])\n",
        "\n",
        "#Pipeline de Procesamiento\n",
        "transformer = ColumnTransformer([('num',numeric_transformer, numeric_columns),\n",
        "                                 ('cat', OneHotEncoder(), categorical_columns)])\n",
        "\n",
        "#Definición del modelo\n",
        "XGBmodel = XGBRegressor(n_estimators=200,\n",
        "                        random_state=42\n",
        "                        )\n",
        "\n",
        "#Pipeline de Entrenamiento Ridge\n",
        "pipeline_xgboost = Pipeline([('transformer', transformer),\n",
        "                     ('XGBoost', XGBmodel)])"
      ]
    },
    {
      "cell_type": "code",
      "execution_count": 13,
      "metadata": {},
      "outputs": [
        {
          "name": "stdout",
          "output_type": "stream",
          "text": [
            "Mean R2: 0.828\n"
          ]
        }
      ],
      "source": [
        "# Entrenamiento\n",
        "scores_xgb = cross_val_score(pipeline_xgboost, X_train, y_train, cv = 5, scoring='r2')\n",
        "print('Mean R2: %.3f' % (scores_xgb.mean()))"
      ]
    },
    {
      "cell_type": "markdown",
      "metadata": {
        "id": "Ke5DoVMImA-z"
      },
      "source": [
        "## Optimización de Hiperparámetros: Random Forest Regressor"
      ]
    },
    {
      "cell_type": "code",
      "execution_count": 14,
      "metadata": {
        "id": "E8fYQsJApsfn"
      },
      "outputs": [],
      "source": [
        "# Definición de cuadricula de hiperparametros\n",
        "parameters = {'max_depth': [5,7,9,12],\n",
        "              'max_features': [0.7,0.8,0.9,1],\n",
        "              'max_leaf_nodes': [9,11,13],\n",
        "              'min_samples_leaf': [5,7,10,12],\n",
        "              'n_estimators': [300,500,800]}"
      ]
    },
    {
      "cell_type": "markdown",
      "metadata": {
        "id": "CCPvIkK0sIKH"
      },
      "source": [
        "### Búsqueda en cuadrícula"
      ]
    },
    {
      "cell_type": "code",
      "execution_count": 15,
      "metadata": {
        "colab": {
          "base_uri": "https://localhost:8080/"
        },
        "id": "bcHrgcZ4ebg7",
        "outputId": "2f48f057-b190-46c1-a26c-fd1095c52ce5"
      },
      "outputs": [],
      "source": [
        "from sklearn.model_selection import GridSearchCV\n",
        "\n",
        "# Transformador para variables numericas\n",
        "numeric_transformer = Pipeline(steps=[(\"imputer\", SimpleImputer(strategy=\"median\"))])\n",
        "\n",
        "#Pipeline de Procesamiento\n",
        "transformer = ColumnTransformer([('num',numeric_transformer, numeric_columns),\n",
        "                                 ('cat', OneHotEncoder(), categorical_columns)])\n",
        "\n",
        "#Definición del modelo\n",
        "ranfor = RandomForestRegressor(random_state = 42)\n",
        "\n",
        "# Transformación conjunto de train y test\n",
        "X_train_std = transformer.fit_transform(X_train)\n",
        "X_test_std = transformer.transform(X_test)\n",
        "\n",
        "grid_search = GridSearchCV(ranfor, parameters, cv=5, scoring='r2', n_jobs=-1)\n",
        "\n",
        "# Iniciamos la busqueda\n",
        "grid_result = grid_search.fit(X_train_std, y_train)"
      ]
    },
    {
      "cell_type": "code",
      "execution_count": 16,
      "metadata": {},
      "outputs": [
        {
          "name": "stdout",
          "output_type": "stream",
          "text": [
            "Best Params:  {'max_depth': 7, 'max_features': 0.7, 'max_leaf_nodes': 13, 'min_samples_leaf': 5, 'n_estimators': 800}\n",
            "Best Score:  0.775305542538872\n"
          ]
        }
      ],
      "source": [
        "print('Best Params: ', grid_result.best_params_)\n",
        "print('Best Score: ', grid_result.best_score_)"
      ]
    },
    {
      "cell_type": "code",
      "execution_count": null,
      "metadata": {},
      "outputs": [],
      "source": [
        "#Definición del modelo optimo\n",
        "ranfor_optimo = RandomForestRegressor(n_estimators = 200,\n",
        "                               criterion    = 'squared_error',\n",
        "                               n_jobs       = -1,\n",
        "                               random_state = 42)"
      ]
    },
    {
      "cell_type": "markdown",
      "metadata": {
        "id": "I89ykH-5sfAZ"
      },
      "source": [
        "### Búsqueda aleatoria"
      ]
    },
    {
      "cell_type": "code",
      "execution_count": 17,
      "metadata": {
        "colab": {
          "base_uri": "https://localhost:8080/"
        },
        "id": "kwrVAXsemQfb",
        "outputId": "23d50075-f43f-4fb1-e9f8-6b540d3a2388"
      },
      "outputs": [
        {
          "data": {
            "text/html": [
              "<style>#sk-container-id-1 {color: black;}#sk-container-id-1 pre{padding: 0;}#sk-container-id-1 div.sk-toggleable {background-color: white;}#sk-container-id-1 label.sk-toggleable__label {cursor: pointer;display: block;width: 100%;margin-bottom: 0;padding: 0.3em;box-sizing: border-box;text-align: center;}#sk-container-id-1 label.sk-toggleable__label-arrow:before {content: \"▸\";float: left;margin-right: 0.25em;color: #696969;}#sk-container-id-1 label.sk-toggleable__label-arrow:hover:before {color: black;}#sk-container-id-1 div.sk-estimator:hover label.sk-toggleable__label-arrow:before {color: black;}#sk-container-id-1 div.sk-toggleable__content {max-height: 0;max-width: 0;overflow: hidden;text-align: left;background-color: #f0f8ff;}#sk-container-id-1 div.sk-toggleable__content pre {margin: 0.2em;color: black;border-radius: 0.25em;background-color: #f0f8ff;}#sk-container-id-1 input.sk-toggleable__control:checked~div.sk-toggleable__content {max-height: 200px;max-width: 100%;overflow: auto;}#sk-container-id-1 input.sk-toggleable__control:checked~label.sk-toggleable__label-arrow:before {content: \"▾\";}#sk-container-id-1 div.sk-estimator input.sk-toggleable__control:checked~label.sk-toggleable__label {background-color: #d4ebff;}#sk-container-id-1 div.sk-label input.sk-toggleable__control:checked~label.sk-toggleable__label {background-color: #d4ebff;}#sk-container-id-1 input.sk-hidden--visually {border: 0;clip: rect(1px 1px 1px 1px);clip: rect(1px, 1px, 1px, 1px);height: 1px;margin: -1px;overflow: hidden;padding: 0;position: absolute;width: 1px;}#sk-container-id-1 div.sk-estimator {font-family: monospace;background-color: #f0f8ff;border: 1px dotted black;border-radius: 0.25em;box-sizing: border-box;margin-bottom: 0.5em;}#sk-container-id-1 div.sk-estimator:hover {background-color: #d4ebff;}#sk-container-id-1 div.sk-parallel-item::after {content: \"\";width: 100%;border-bottom: 1px solid gray;flex-grow: 1;}#sk-container-id-1 div.sk-label:hover label.sk-toggleable__label {background-color: #d4ebff;}#sk-container-id-1 div.sk-serial::before {content: \"\";position: absolute;border-left: 1px solid gray;box-sizing: border-box;top: 0;bottom: 0;left: 50%;z-index: 0;}#sk-container-id-1 div.sk-serial {display: flex;flex-direction: column;align-items: center;background-color: white;padding-right: 0.2em;padding-left: 0.2em;position: relative;}#sk-container-id-1 div.sk-item {position: relative;z-index: 1;}#sk-container-id-1 div.sk-parallel {display: flex;align-items: stretch;justify-content: center;background-color: white;position: relative;}#sk-container-id-1 div.sk-item::before, #sk-container-id-1 div.sk-parallel-item::before {content: \"\";position: absolute;border-left: 1px solid gray;box-sizing: border-box;top: 0;bottom: 0;left: 50%;z-index: -1;}#sk-container-id-1 div.sk-parallel-item {display: flex;flex-direction: column;z-index: 1;position: relative;background-color: white;}#sk-container-id-1 div.sk-parallel-item:first-child::after {align-self: flex-end;width: 50%;}#sk-container-id-1 div.sk-parallel-item:last-child::after {align-self: flex-start;width: 50%;}#sk-container-id-1 div.sk-parallel-item:only-child::after {width: 0;}#sk-container-id-1 div.sk-dashed-wrapped {border: 1px dashed gray;margin: 0 0.4em 0.5em 0.4em;box-sizing: border-box;padding-bottom: 0.4em;background-color: white;}#sk-container-id-1 div.sk-label label {font-family: monospace;font-weight: bold;display: inline-block;line-height: 1.2em;}#sk-container-id-1 div.sk-label-container {text-align: center;}#sk-container-id-1 div.sk-container {/* jupyter's `normalize.less` sets `[hidden] { display: none; }` but bootstrap.min.css set `[hidden] { display: none !important; }` so we also need the `!important` here to be able to override the default hidden behavior on the sphinx rendered scikit-learn.org. See: https://github.com/scikit-learn/scikit-learn/issues/21755 */display: inline-block !important;position: relative;}#sk-container-id-1 div.sk-text-repr-fallback {display: none;}</style><div id=\"sk-container-id-1\" class=\"sk-top-container\"><div class=\"sk-text-repr-fallback\"><pre>RandomizedSearchCV(cv=5, estimator=RandomForestRegressor(random_state=42),\n",
              "                   param_distributions={&#x27;max_depth&#x27;: [5, 7, 9, 12],\n",
              "                                        &#x27;max_features&#x27;: [0.7, 0.8, 0.9, 1],\n",
              "                                        &#x27;max_leaf_nodes&#x27;: [9, 11, 13],\n",
              "                                        &#x27;min_samples_leaf&#x27;: [5, 7, 10, 12],\n",
              "                                        &#x27;n_estimators&#x27;: [300, 500, 800]},\n",
              "                   scoring=&#x27;r2&#x27;, verbose=False)</pre><b>In a Jupyter environment, please rerun this cell to show the HTML representation or trust the notebook. <br />On GitHub, the HTML representation is unable to render, please try loading this page with nbviewer.org.</b></div><div class=\"sk-container\" hidden><div class=\"sk-item sk-dashed-wrapped\"><div class=\"sk-label-container\"><div class=\"sk-label sk-toggleable\"><input class=\"sk-toggleable__control sk-hidden--visually\" id=\"sk-estimator-id-1\" type=\"checkbox\" ><label for=\"sk-estimator-id-1\" class=\"sk-toggleable__label sk-toggleable__label-arrow\">RandomizedSearchCV</label><div class=\"sk-toggleable__content\"><pre>RandomizedSearchCV(cv=5, estimator=RandomForestRegressor(random_state=42),\n",
              "                   param_distributions={&#x27;max_depth&#x27;: [5, 7, 9, 12],\n",
              "                                        &#x27;max_features&#x27;: [0.7, 0.8, 0.9, 1],\n",
              "                                        &#x27;max_leaf_nodes&#x27;: [9, 11, 13],\n",
              "                                        &#x27;min_samples_leaf&#x27;: [5, 7, 10, 12],\n",
              "                                        &#x27;n_estimators&#x27;: [300, 500, 800]},\n",
              "                   scoring=&#x27;r2&#x27;, verbose=False)</pre></div></div></div><div class=\"sk-parallel\"><div class=\"sk-parallel-item\"><div class=\"sk-item\"><div class=\"sk-label-container\"><div class=\"sk-label sk-toggleable\"><input class=\"sk-toggleable__control sk-hidden--visually\" id=\"sk-estimator-id-2\" type=\"checkbox\" ><label for=\"sk-estimator-id-2\" class=\"sk-toggleable__label sk-toggleable__label-arrow\">estimator: RandomForestRegressor</label><div class=\"sk-toggleable__content\"><pre>RandomForestRegressor(random_state=42)</pre></div></div></div><div class=\"sk-serial\"><div class=\"sk-item\"><div class=\"sk-estimator sk-toggleable\"><input class=\"sk-toggleable__control sk-hidden--visually\" id=\"sk-estimator-id-3\" type=\"checkbox\" ><label for=\"sk-estimator-id-3\" class=\"sk-toggleable__label sk-toggleable__label-arrow\">RandomForestRegressor</label><div class=\"sk-toggleable__content\"><pre>RandomForestRegressor(random_state=42)</pre></div></div></div></div></div></div></div></div></div></div>"
            ],
            "text/plain": [
              "RandomizedSearchCV(cv=5, estimator=RandomForestRegressor(random_state=42),\n",
              "                   param_distributions={'max_depth': [5, 7, 9, 12],\n",
              "                                        'max_features': [0.7, 0.8, 0.9, 1],\n",
              "                                        'max_leaf_nodes': [9, 11, 13],\n",
              "                                        'min_samples_leaf': [5, 7, 10, 12],\n",
              "                                        'n_estimators': [300, 500, 800]},\n",
              "                   scoring='r2', verbose=False)"
            ]
          },
          "execution_count": 17,
          "metadata": {},
          "output_type": "execute_result"
        }
      ],
      "source": [
        "from sklearn.model_selection import RandomizedSearchCV\n",
        "\n",
        "# Transformador para variables numericas\n",
        "numeric_transformer = Pipeline(steps=[(\"imputer\", SimpleImputer(strategy=\"median\"))])\n",
        "\n",
        "#Pipeline de Procesamiento\n",
        "transformer = ColumnTransformer([('num',numeric_transformer, numeric_columns),\n",
        "                                 ('cat', OneHotEncoder(), categorical_columns)])\n",
        "\n",
        "#Definición del modelo\n",
        "ranfor = RandomForestRegressor(random_state = 42)\n",
        "\n",
        "# Transformación conjunto de train y test\n",
        "X_train_std = transformer.fit_transform(X_train)\n",
        "X_test_std = transformer.transform(X_test) # Aqui no se debe volver a ajustar, solo transformar\n",
        "\n",
        "rand_s = RandomizedSearchCV(estimator=ranfor, param_distributions=parameters, n_iter=10, scoring='r2', cv=5, verbose=False)\n",
        "rand_s.fit(X_train_std, y_train)"
      ]
    },
    {
      "cell_type": "code",
      "execution_count": 19,
      "metadata": {},
      "outputs": [
        {
          "name": "stdout",
          "output_type": "stream",
          "text": [
            "Best Params:  {'n_estimators': 500, 'min_samples_leaf': 5, 'max_leaf_nodes': 13, 'max_features': 0.9, 'max_depth': 5}\n",
            "Best Score:  0.7733319450446305\n"
          ]
        }
      ],
      "source": [
        "print('Best Params: ', rand_s.best_params_)\n",
        "print('Best Score: ', rand_s.best_score_)"
      ]
    },
    {
      "cell_type": "code",
      "execution_count": 20,
      "metadata": {
        "colab": {
          "base_uri": "https://localhost:8080/"
        },
        "id": "pdyMtYphZ63L",
        "outputId": "1236bb86-fdb1-49a1-ebb4-6c58686658d8"
      },
      "outputs": [],
      "source": [
        "y_pred = rand_s.best_estimator_.predict(X_test_std)"
      ]
    },
    {
      "cell_type": "code",
      "execution_count": 21,
      "metadata": {},
      "outputs": [
        {
          "data": {
            "text/html": [
              "<style>#sk-container-id-2 {color: black;}#sk-container-id-2 pre{padding: 0;}#sk-container-id-2 div.sk-toggleable {background-color: white;}#sk-container-id-2 label.sk-toggleable__label {cursor: pointer;display: block;width: 100%;margin-bottom: 0;padding: 0.3em;box-sizing: border-box;text-align: center;}#sk-container-id-2 label.sk-toggleable__label-arrow:before {content: \"▸\";float: left;margin-right: 0.25em;color: #696969;}#sk-container-id-2 label.sk-toggleable__label-arrow:hover:before {color: black;}#sk-container-id-2 div.sk-estimator:hover label.sk-toggleable__label-arrow:before {color: black;}#sk-container-id-2 div.sk-toggleable__content {max-height: 0;max-width: 0;overflow: hidden;text-align: left;background-color: #f0f8ff;}#sk-container-id-2 div.sk-toggleable__content pre {margin: 0.2em;color: black;border-radius: 0.25em;background-color: #f0f8ff;}#sk-container-id-2 input.sk-toggleable__control:checked~div.sk-toggleable__content {max-height: 200px;max-width: 100%;overflow: auto;}#sk-container-id-2 input.sk-toggleable__control:checked~label.sk-toggleable__label-arrow:before {content: \"▾\";}#sk-container-id-2 div.sk-estimator input.sk-toggleable__control:checked~label.sk-toggleable__label {background-color: #d4ebff;}#sk-container-id-2 div.sk-label input.sk-toggleable__control:checked~label.sk-toggleable__label {background-color: #d4ebff;}#sk-container-id-2 input.sk-hidden--visually {border: 0;clip: rect(1px 1px 1px 1px);clip: rect(1px, 1px, 1px, 1px);height: 1px;margin: -1px;overflow: hidden;padding: 0;position: absolute;width: 1px;}#sk-container-id-2 div.sk-estimator {font-family: monospace;background-color: #f0f8ff;border: 1px dotted black;border-radius: 0.25em;box-sizing: border-box;margin-bottom: 0.5em;}#sk-container-id-2 div.sk-estimator:hover {background-color: #d4ebff;}#sk-container-id-2 div.sk-parallel-item::after {content: \"\";width: 100%;border-bottom: 1px solid gray;flex-grow: 1;}#sk-container-id-2 div.sk-label:hover label.sk-toggleable__label {background-color: #d4ebff;}#sk-container-id-2 div.sk-serial::before {content: \"\";position: absolute;border-left: 1px solid gray;box-sizing: border-box;top: 0;bottom: 0;left: 50%;z-index: 0;}#sk-container-id-2 div.sk-serial {display: flex;flex-direction: column;align-items: center;background-color: white;padding-right: 0.2em;padding-left: 0.2em;position: relative;}#sk-container-id-2 div.sk-item {position: relative;z-index: 1;}#sk-container-id-2 div.sk-parallel {display: flex;align-items: stretch;justify-content: center;background-color: white;position: relative;}#sk-container-id-2 div.sk-item::before, #sk-container-id-2 div.sk-parallel-item::before {content: \"\";position: absolute;border-left: 1px solid gray;box-sizing: border-box;top: 0;bottom: 0;left: 50%;z-index: -1;}#sk-container-id-2 div.sk-parallel-item {display: flex;flex-direction: column;z-index: 1;position: relative;background-color: white;}#sk-container-id-2 div.sk-parallel-item:first-child::after {align-self: flex-end;width: 50%;}#sk-container-id-2 div.sk-parallel-item:last-child::after {align-self: flex-start;width: 50%;}#sk-container-id-2 div.sk-parallel-item:only-child::after {width: 0;}#sk-container-id-2 div.sk-dashed-wrapped {border: 1px dashed gray;margin: 0 0.4em 0.5em 0.4em;box-sizing: border-box;padding-bottom: 0.4em;background-color: white;}#sk-container-id-2 div.sk-label label {font-family: monospace;font-weight: bold;display: inline-block;line-height: 1.2em;}#sk-container-id-2 div.sk-label-container {text-align: center;}#sk-container-id-2 div.sk-container {/* jupyter's `normalize.less` sets `[hidden] { display: none; }` but bootstrap.min.css set `[hidden] { display: none !important; }` so we also need the `!important` here to be able to override the default hidden behavior on the sphinx rendered scikit-learn.org. See: https://github.com/scikit-learn/scikit-learn/issues/21755 */display: inline-block !important;position: relative;}#sk-container-id-2 div.sk-text-repr-fallback {display: none;}</style><div id=\"sk-container-id-2\" class=\"sk-top-container\"><div class=\"sk-text-repr-fallback\"><pre>RandomForestRegressor(max_depth=5, max_features=0.9, max_leaf_nodes=13,\n",
              "                      min_samples_leaf=5, n_estimators=500, random_state=42)</pre><b>In a Jupyter environment, please rerun this cell to show the HTML representation or trust the notebook. <br />On GitHub, the HTML representation is unable to render, please try loading this page with nbviewer.org.</b></div><div class=\"sk-container\" hidden><div class=\"sk-item\"><div class=\"sk-estimator sk-toggleable\"><input class=\"sk-toggleable__control sk-hidden--visually\" id=\"sk-estimator-id-4\" type=\"checkbox\" checked><label for=\"sk-estimator-id-4\" class=\"sk-toggleable__label sk-toggleable__label-arrow\">RandomForestRegressor</label><div class=\"sk-toggleable__content\"><pre>RandomForestRegressor(max_depth=5, max_features=0.9, max_leaf_nodes=13,\n",
              "                      min_samples_leaf=5, n_estimators=500, random_state=42)</pre></div></div></div></div></div>"
            ],
            "text/plain": [
              "RandomForestRegressor(max_depth=5, max_features=0.9, max_leaf_nodes=13,\n",
              "                      min_samples_leaf=5, n_estimators=500, random_state=42)"
            ]
          },
          "execution_count": 21,
          "metadata": {},
          "output_type": "execute_result"
        }
      ],
      "source": [
        "rand_s.best_estimator_"
      ]
    },
    {
      "cell_type": "code",
      "execution_count": 22,
      "metadata": {},
      "outputs": [
        {
          "data": {
            "text/plain": [
              "array([33.86334278, 28.20626873, 21.30005099, 14.82583073, 14.6051219 ,\n",
              "       27.65554022, 26.04647295, 13.26094964, 18.3157332 , 20.90113631,\n",
              "       14.51241353, 33.90088841, 32.36819649, 14.84444042, 26.6926556 ,\n",
              "       13.44557715, 28.2350952 , 20.87287544, 14.37133128, 34.07258798,\n",
              "       26.53882169, 21.17086064, 20.85981269, 28.64876803, 16.18771445,\n",
              "       30.35281162, 24.55601127, 25.11385508, 18.43337562, 13.58637121,\n",
              "       26.66536008, 30.47827458, 16.76729396, 25.0188573 , 38.08749159,\n",
              "       14.12314693, 22.88222784, 15.79128976, 13.74132868, 26.80009736])"
            ]
          },
          "execution_count": 22,
          "metadata": {},
          "output_type": "execute_result"
        }
      ],
      "source": [
        "y_pred"
      ]
    },
    {
      "cell_type": "code",
      "execution_count": 23,
      "metadata": {
        "colab": {
          "base_uri": "https://localhost:8080/"
        },
        "id": "-a2CgMyLYGHr",
        "outputId": "ff2bbb35-f973-4c34-952b-2fe91839615c"
      },
      "outputs": [
        {
          "name": "stdout",
          "output_type": "stream",
          "text": [
            "R2:0.81\n"
          ]
        }
      ],
      "source": [
        "print(\"R2:{:.2f}\".format(rand_s.best_estimator_.score(X_test_std,y_test)))"
      ]
    },
    {
      "cell_type": "markdown",
      "metadata": {
        "id": "m4FnOBnOmLLe"
      },
      "source": [
        "## Optimización de Hiperparámetros: XGBoosting"
      ]
    },
    {
      "cell_type": "code",
      "execution_count": null,
      "metadata": {
        "id": "sDCGvUQ3svY3"
      },
      "outputs": [],
      "source": [
        "# Definición de cuadricula de hiperparametros\n",
        "parameters = {'eta': [0.01,0.1,0.3],\n",
        "              'colsample_bytree': [0.8,0.9,1],\n",
        "              'max_depth': [4,6,8,10,12],\n",
        "              'n_estimators': [200,500,800]}"
      ]
    },
    {
      "cell_type": "markdown",
      "metadata": {
        "id": "KzOOCpjxsMGx"
      },
      "source": [
        "### Búsqueda en cuadrícula"
      ]
    },
    {
      "cell_type": "code",
      "execution_count": null,
      "metadata": {
        "id": "HHo9saT2soGr"
      },
      "outputs": [],
      "source": [
        "from sklearn.model_selection import GridSearchCV\n",
        "# Transformador para variables numericas\n",
        "numeric_transformer = Pipeline(steps=[(\"imputer\", SimpleImputer(strategy=\"median\"))])\n",
        "\n",
        "#Pipeline de Procesamiento\n",
        "transformer = ColumnTransformer([('num',numeric_transformer, numeric_columns),\n",
        "                                 ('cat', OneHotEncoder(), categorical_columns)])\n",
        "\n",
        "#Definición del modelo\n",
        "XGBmodel = XGBRegressor(random_state=42)\n",
        "\n",
        "# Transformación conjunto de train y test\n",
        "X_train_std = transformer.fit_transform(X_train)\n",
        "X_test_std = transformer.fit_transform(X_test)\n",
        "\n",
        "grid_search = GridSearchCV(XGBmodel, parameters, cv=5, scoring='r2', n_jobs=-1)\n",
        "grid_result = grid_search.fit(X_train_std, y_train)\n",
        "\n",
        "print('Best Params: ', grid_result.best_params_)\n",
        "print('Best Score: ', grid_result.best_score_)"
      ]
    },
    {
      "cell_type": "markdown",
      "metadata": {
        "id": "GcQDVgzJsOIc"
      },
      "source": [
        "### Búsqueda Aleatoria"
      ]
    },
    {
      "cell_type": "code",
      "execution_count": null,
      "metadata": {
        "colab": {
          "base_uri": "https://localhost:8080/"
        },
        "id": "1YLR69UgsSGy",
        "outputId": "bedc4dda-ea5b-4f16-dc8f-b39b4662a3c9"
      },
      "outputs": [],
      "source": [
        "from sklearn.model_selection import RandomizedSearchCV\n",
        "\n",
        "# Transformador para variables numericas\n",
        "numeric_transformer = Pipeline(steps=[(\"imputer\", SimpleImputer(strategy=\"median\"))])\n",
        "\n",
        "#Pipeline de Procesamiento\n",
        "transformer = ColumnTransformer([('num',numeric_transformer, numeric_columns),\n",
        "                                 ('cat', OneHotEncoder(), categorical_columns)])\n",
        "\n",
        "#Definición del modelo\n",
        "XGBmodel = XGBRegressor(random_state=42)\n",
        "\n",
        "# Transformación conjunto de train y test\n",
        "X_train_std = transformer.fit_transform(X_train)\n",
        "X_test_std = transformer.fit_transform(X_test)\n",
        "\n",
        "rand_s = RandomizedSearchCV(estimator=XGBmodel, param_distributions=parameters, n_iter=10, scoring='r2', cv=5, verbose=True)\n",
        "\n",
        "rand_s.fit(X_train_std, y_train)\n",
        "\n",
        "print('Best Params: ', rand_s.best_params_)\n",
        "print('Best Score: ', rand_s.best_score_)"
      ]
    },
    {
      "cell_type": "code",
      "execution_count": null,
      "metadata": {
        "colab": {
          "base_uri": "https://localhost:8080/"
        },
        "id": "td-84PxYakEv",
        "outputId": "0fab0d00-9f24-4afb-8f20-ae4dc3be1bd0"
      },
      "outputs": [],
      "source": [
        "bestModel_xgb=rand_s.best_estimator_\n",
        "print(\"R2:{:.2f}\".format(bestModel_xgb.score(X_test_std,y_test)))"
      ]
    }
  ],
  "metadata": {
    "colab": {
      "collapsed_sections": [
        "z8DaE1IBk6WH",
        "MgTWFBBPk-P4",
        "ctTsQAmOlfCf"
      ],
      "provenance": []
    },
    "kernelspec": {
      "display_name": "Python 3",
      "name": "python3"
    },
    "language_info": {
      "codemirror_mode": {
        "name": "ipython",
        "version": 3
      },
      "file_extension": ".py",
      "mimetype": "text/x-python",
      "name": "python",
      "nbconvert_exporter": "python",
      "pygments_lexer": "ipython3",
      "version": "3.9.7"
    }
  },
  "nbformat": 4,
  "nbformat_minor": 0
}
