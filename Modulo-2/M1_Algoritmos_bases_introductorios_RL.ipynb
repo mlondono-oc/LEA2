{
  "cells": [
    {
      "cell_type": "markdown",
      "metadata": {
        "id": "iDvzYGCKSNxi"
      },
      "source": [
        "# Preparación del notebook"
      ]
    },
    {
      "cell_type": "code",
      "execution_count": null,
      "metadata": {
        "id": "WTVxUTQXUJu1"
      },
      "outputs": [],
      "source": [
        "import warnings\n",
        "\n",
        "warnings.filterwarnings(\"ignore\")"
      ]
    },
    {
      "cell_type": "code",
      "execution_count": null,
      "metadata": {
        "id": "P-SI2is1xMbo"
      },
      "outputs": [],
      "source": [
        "# Importar librerias necesarias\n",
        "import pandas as pd\n",
        "import numpy as np\n",
        "import seaborn as sns\n",
        "import matplotlib.pyplot as plt\n",
        "from sklearn.linear_model import LinearRegression\n",
        "\n",
        "%matplotlib inline"
      ]
    },
    {
      "cell_type": "markdown",
      "metadata": {
        "id": "SZq8Qf6mxTxo"
      },
      "source": [
        "# Regresión Lineal\n",
        "\n",
        "**Caso de estudio**\n",
        "\n",
        "La industria automovilística es extremadamente competitiva. Con el aumento de los precios del combustible y los consumidores exigentes, los fabricantes de automóviles optimizan constantemente sus procesos para aumentar la eficiencia del combustible. Pero, ¿qué pasaría si se pudiera disponer de un estimador fiable de las millas por galón (mpg) de un coche a partir de algunas especificaciones conocidas sobre el automóvil?\n",
        "\n",
        "Dispone de un conjunto de datos de características de automóviles de diferentes modelos y marcas. A continuación se detallan las variables disponibles:\n",
        "\n",
        "* mpg: millas por galón. Esta es la cantidad de combustible consumido por el vehículo particular de una instancia.\n",
        "* cylinders: Este atributo describe el número de cilindros de cada automóvil\n",
        "* displacement: Describe la cilindrada del motor\n",
        "* Horsepower: Potencia de un automóvil\n",
        "* Weight: Peso de cada automóvil\n",
        "* Acceleration: Aceleración de automóvil\n",
        "* Model Year: El año en que se lanzó el modelo de automóvil\n",
        "* Origin: País de fabricación del automóvil\n",
        "* Car Name: Nombre del automóvil\n",
        "\n",
        "Documentación del modelo: https://scikit-learn.org/stable/modules/generated/sklearn.linear_model.LinearRegression.html\n",
        "\n",
        "\n"
      ]
    },
    {
      "cell_type": "code",
      "execution_count": null,
      "metadata": {
        "colab": {
          "base_uri": "https://localhost:8080/",
          "height": 206
        },
        "id": "YfYsRoiZKnq3",
        "outputId": "001777e0-746e-4d11-b039-bd5e55e4fbcc"
      },
      "outputs": [],
      "source": [
        "# Lectura de los datos\n",
        "#df_auto = pd.read_csv('data/auto-mpg.csv')\n",
        "df_auto = pd.read_csv(\"https://raw.githubusercontent.com/mlondono-oc/LEA2/main/Modulo-2/data/auto-mpg.csv\")"
      ]
    },
    {
      "cell_type": "code",
      "execution_count": null,
      "metadata": {},
      "outputs": [],
      "source": [
        "# 1: USA\n",
        "# 2: Europe\n",
        "# 3: Japan\n",
        "\n",
        "df_auto.head()"
      ]
    },
    {
      "cell_type": "code",
      "execution_count": null,
      "metadata": {},
      "outputs": [],
      "source": [
        "df_auto[df_auto['horsepower'] == '?']"
      ]
    },
    {
      "cell_type": "markdown",
      "metadata": {
        "id": "bXHUAwz1NBvM"
      },
      "source": [
        "## Exploración de los datos"
      ]
    },
    {
      "cell_type": "code",
      "execution_count": null,
      "metadata": {
        "colab": {
          "base_uri": "https://localhost:8080/"
        },
        "id": "DN1WR7F3NFXc",
        "outputId": "a69b72cc-590f-4f8b-8dbb-d722ddc714c8"
      },
      "outputs": [],
      "source": [
        "# Tamaño del dataset\n",
        "df_auto.shape"
      ]
    },
    {
      "cell_type": "code",
      "execution_count": null,
      "metadata": {
        "colab": {
          "base_uri": "https://localhost:8080/"
        },
        "id": "UF4TxGFZNQMF",
        "outputId": "e261349f-587d-4ba3-c101-ce7469c5a5ae"
      },
      "outputs": [],
      "source": [
        "# Información general del dataset\n",
        "df_auto.info()"
      ]
    },
    {
      "cell_type": "code",
      "execution_count": null,
      "metadata": {
        "colab": {
          "base_uri": "https://localhost:8080/",
          "height": 300
        },
        "id": "JeWsW-_jMSjR",
        "outputId": "d3b3cea6-2cea-43d0-dfb8-5fee573edfbf"
      },
      "outputs": [],
      "source": [
        "# Exploración de los datos\n",
        "df_auto.describe()"
      ]
    },
    {
      "cell_type": "code",
      "execution_count": null,
      "metadata": {
        "colab": {
          "base_uri": "https://localhost:8080/",
          "height": 143
        },
        "id": "Bli6zh-qOith",
        "outputId": "257f4cf4-bd9c-405e-8f48-ec724b80a200"
      },
      "outputs": [],
      "source": [
        "# Preparación inicial de los datos\n"
      ]
    },
    {
      "cell_type": "code",
      "execution_count": null,
      "metadata": {},
      "outputs": [],
      "source": [
        "df_auto.shape"
      ]
    },
    {
      "cell_type": "code",
      "execution_count": null,
      "metadata": {
        "colab": {
          "base_uri": "https://localhost:8080/",
          "height": 279
        },
        "id": "2_lwSJ7jQv6L",
        "outputId": "6b7f1f41-e7c5-42e4-a090-45c7ef569252"
      },
      "outputs": [],
      "source": [
        "# Miremos la relación entre la variable objetivo y los caballos de fuerza\n",
        "fig, ax  = plt.subplots(1, 1)\n",
        "ax.scatter(df_auto.horsepower, df_auto.target)\n",
        "ax.set_xlabel('Caballos de Fuerza')\n",
        "ax.set_ylabel('Millas por galón (MPG)')\n",
        "plt.show()"
      ]
    },
    {
      "cell_type": "markdown",
      "metadata": {},
      "source": [
        "\n",
        "## Marco de validación"
      ]
    },
    {
      "cell_type": "code",
      "execution_count": null,
      "metadata": {
        "id": "JhGOKxC0SwgS"
      },
      "outputs": [],
      "source": [
        "# Separemos la variable de entrada de la variable objetivo\n"
      ]
    },
    {
      "cell_type": "code",
      "execution_count": null,
      "metadata": {},
      "outputs": [],
      "source": [
        "# Separación de los datos de entrenamiento y validación\n"
      ]
    },
    {
      "cell_type": "markdown",
      "metadata": {
        "id": "ZC2mxUKIQwNt"
      },
      "source": [
        "## Regresión Lineal Simple\n",
        "\n",
        "La regresión lineal simple tiene solo 1 variable predictora y 1 variable dependiente. A partir del conjunto de datos anterior, consideremos el efecto de los caballos de fuerza en el 'mpg' del vehículo."
      ]
    },
    {
      "cell_type": "code",
      "execution_count": null,
      "metadata": {
        "colab": {
          "base_uri": "https://localhost:8080/"
        },
        "id": "SaZ4tL_IT0yH",
        "outputId": "0be666d8-bf7a-4058-d8cc-09a9bd041f13"
      },
      "outputs": [],
      "source": [
        "# Se usa la función LinearRegresion() para\n",
        "# estimar el modelo de regresión lineal.\n",
        "\n",
        "# Crea el modelo\n",
        "\n",
        "\n",
        "# Calibra el modelo\n",
        "\n",
        "\n",
        "# Imprime los coeficientes\n",
        "\n",
        "\n",
        "# Imprime el intercepto\n"
      ]
    },
    {
      "cell_type": "code",
      "execution_count": null,
      "metadata": {
        "id": "c561MYgAYGS0"
      },
      "outputs": [],
      "source": [
        "# Pronostico para los datos de entrenamiento\n"
      ]
    },
    {
      "cell_type": "code",
      "execution_count": null,
      "metadata": {
        "colab": {
          "base_uri": "https://localhost:8080/",
          "height": 265
        },
        "id": "K_Y93kpYXToo",
        "outputId": "a7d22803-657f-4b6b-ad54-4e28dd8c717e"
      },
      "outputs": [],
      "source": [
        "# Miremos como se ajusta el modelo a los datos\n"
      ]
    },
    {
      "cell_type": "markdown",
      "metadata": {},
      "source": [
        "## Evaluación del modelo de regresión lineal"
      ]
    },
    {
      "cell_type": "code",
      "execution_count": null,
      "metadata": {},
      "outputs": [],
      "source": [
        "# Predicciones del modelo"
      ]
    },
    {
      "cell_type": "code",
      "execution_count": null,
      "metadata": {
        "colab": {
          "base_uri": "https://localhost:8080/"
        },
        "id": "nszIDq6IXz22",
        "outputId": "fd0f9388-b783-4d73-d44e-fd922abd9f52"
      },
      "outputs": [],
      "source": [
        "# Métricas de evaluación\n",
        "\n",
        "# MSE\n",
        "print(\"Mean squared error: %.2f\" % )\n",
        "\n",
        "# RMSE\n",
        "print(\"RMSE %.2f\" % )\n",
        "\n",
        "#MAE\n",
        "print(\"Mean absolute error: %.2f\" % )\n",
        "\n",
        "#MAPE\n",
        "print(\"mean absolute percentage error: %.2f\" % )\n",
        "\n",
        "# R2\n",
        "print(\"Variance score: %.2f\" % )\n",
        "\n",
        "# R2-adjusted\n",
        "\n",
        "print(\"R2-adjusted: %.2f\" % )"
      ]
    },
    {
      "cell_type": "markdown",
      "metadata": {
        "id": "rHz3x_f6UYEO"
      },
      "source": [
        "## Regresion Lineal Multiple\n",
        "\n",
        "**Ejercicio**\n",
        "\n",
        "Realice nuevamente el entrenamiento del modelo de regresión lineal utilizando las variables: horsepower, displacement, weight como características"
      ]
    },
    {
      "cell_type": "code",
      "execution_count": null,
      "metadata": {},
      "outputs": [],
      "source": [
        "# Excluimos los valores nulos de la columna horsepower\n"
      ]
    },
    {
      "cell_type": "code",
      "execution_count": null,
      "metadata": {},
      "outputs": [],
      "source": [
        "# Separemos las variables de entrada de la variable objetivo\n"
      ]
    },
    {
      "cell_type": "code",
      "execution_count": null,
      "metadata": {},
      "outputs": [],
      "source": [
        "# Separación de los datos de entrenamiento y validación\n"
      ]
    },
    {
      "cell_type": "code",
      "execution_count": null,
      "metadata": {},
      "outputs": [],
      "source": [
        "# Se usa la función LinearRegresion() para\n",
        "# estimar el modelo de regresión lineal.\n",
        "\n",
        "# Crea el modelo\n",
        "\n",
        "\n",
        "# Calibra el modelo\n",
        "\n",
        "\n",
        "# Imprime los coeficientes\n",
        "\n",
        "\n",
        "# Imprime el intercepto\n"
      ]
    },
    {
      "cell_type": "code",
      "execution_count": null,
      "metadata": {},
      "outputs": [],
      "source": [
        "# Predicciones\n"
      ]
    },
    {
      "cell_type": "code",
      "execution_count": null,
      "metadata": {},
      "outputs": [],
      "source": [
        "# MSE\n",
        "print(\"Mean squared error: %.2f\" % )\n",
        "\n",
        "# RMSE\n",
        "print(\"RMSE %.2f\" % )\n",
        "\n",
        "#MAE\n",
        "print(\"Mean absolute error: %.2f\" % )\n",
        "\n",
        "#MAPE\n",
        "print(\"mean absolute percentage error: %.2f\" % )\n",
        "\n",
        "# R2\n",
        "print(\"Variance score: %.2f\" % )\n",
        "\n",
        "# R2-adjusted\n",
        "\n",
        "print(\"R2-adjusted: %.2f\" % )"
      ]
    }
  ],
  "metadata": {
    "colab": {
      "provenance": []
    },
    "kernelspec": {
      "display_name": "Python 3",
      "name": "python3"
    },
    "language_info": {
      "codemirror_mode": {
        "name": "ipython",
        "version": 3
      },
      "file_extension": ".py",
      "mimetype": "text/x-python",
      "name": "python",
      "nbconvert_exporter": "python",
      "pygments_lexer": "ipython3",
      "version": "3.9.7"
    }
  },
  "nbformat": 4,
  "nbformat_minor": 0
}
