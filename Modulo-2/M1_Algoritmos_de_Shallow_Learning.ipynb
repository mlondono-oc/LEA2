{
  "cells": [
    {
      "cell_type": "markdown",
      "metadata": {
        "id": "xh1kxeWSypNg"
      },
      "source": [
        "## Preparación del notebook"
      ]
    },
    {
      "cell_type": "code",
      "execution_count": null,
      "metadata": {
        "colab": {
          "base_uri": "https://localhost:8080/"
        },
        "id": "VyPuL0RYyoId",
        "outputId": "98fccae1-abf0-4212-b397-c1159f5a3026"
      },
      "outputs": [],
      "source": [
        "# Importar Librerias\n",
        "# ==============================================================================\n",
        "from sklearn import datasets\n",
        "import numpy as np\n",
        "import pandas as pd\n",
        "from sklearn import tree\n",
        "from sklearn.model_selection import train_test_split\n",
        "from sklearn import metrics\n",
        "import matplotlib.pyplot as plt\n",
        "\n",
        "# Cargar datos\n",
        "# ==============================================================================\n",
        "url = \"https://raw.githubusercontent.com/jbrownlee/Datasets/master/pima-indians-diabetes.data.csv\"\n",
        "names = ['preg', 'plas', 'pres', 'skin', 'test', 'mass', 'pedi', 'age', 'class']\n",
        "dataframe = pd.read_csv(url, names=names)\n",
        "print(dataframe.shape)"
      ]
    },
    {
      "cell_type": "code",
      "execution_count": null,
      "metadata": {
        "id": "gm-zJqWry_hj"
      },
      "outputs": [],
      "source": [
        "# Separación de caracteristicas y target\n",
        "# ==============================================================================\n",
        "X = dataframe.drop(columns = \"class\")\n",
        "y = dataframe['class']\n",
        "\n",
        "# split de datos en train y test\n",
        "X_train, X_test, y_train, y_test = train_test_split(X, y, test_size=0.2,random_state=0)"
      ]
    },
    {
      "cell_type": "markdown",
      "metadata": {
        "id": "TI_hkp_Lqwfe"
      },
      "source": [
        "## Decision Tree Classifier\n",
        "https://scikit-learn.org/stable/modules/generated/sklearn.tree.DecisionTreeClassifier.html#sklearn.tree.DecisionTreeClassifier"
      ]
    },
    {
      "cell_type": "code",
      "execution_count": null,
      "metadata": {
        "colab": {
          "base_uri": "https://localhost:8080/",
          "height": 235
        },
        "id": "-lxKD3Be4Y6W",
        "outputId": "1053f9ca-fd20-4dd0-b524-a878991cd7c5"
      },
      "outputs": [],
      "source": [
        "# Entrenamiento del modelo\n",
        "# ==============================================================================\n",
        "clf = tree.DecisionTreeClassifier(\n",
        "          criterion = 'gini',\n",
        "          max_depth = 6,\n",
        "          max_leaf_nodes=10,\n",
        "          random_state=0)\n",
        "clf.fit(X_train, y_train)"
      ]
    },
    {
      "cell_type": "code",
      "execution_count": null,
      "metadata": {
        "id": "eVpreW-I5kb3"
      },
      "outputs": [],
      "source": [
        "# Métricas de desempeño\n",
        "# ==============================================================================\n",
        "print (\"Train - Accuracy :\", metrics.accuracy_score(y_train, clf.predict(X_train)))\n",
        "print (\"Train - classification report:\\n\", metrics.classification_report(y_train, clf.predict(X_train)))\n",
        "print (\"Test - Accuracy :\", metrics.accuracy_score(y_test, clf.predict(X_test)))\n",
        "print (\"Test - classification report :\", metrics.classification_report(y_test, clf.predict(X_test)))"
      ]
    },
    {
      "cell_type": "code",
      "execution_count": null,
      "metadata": {},
      "outputs": [],
      "source": [
        "from sklearn.metrics import recall_score\n",
        "print (\"Train - recall:\\n\", metrics.recall_score(y_train, clf.predict(X_train)))\n",
        "print (\"Test - recall :\", metrics.recall_score(y_test, clf.predict(X_test)))"
      ]
    },
    {
      "cell_type": "code",
      "execution_count": null,
      "metadata": {
        "id": "ExZQXsAJz0mu"
      },
      "outputs": [],
      "source": [
        "from sklearn.metrics import confusion_matrix, ConfusionMatrixDisplay\n",
        "# Matriz de confusion\n",
        "cm1= confusion_matrix(y_test, clf.predict(X_test))\n",
        "# Visualización de la matriz de confusion\n",
        "cm1_display = ConfusionMatrixDisplay(confusion_matrix = cm1)\n",
        "cm1_display.plot()\n",
        "plt.show()"
      ]
    },
    {
      "cell_type": "code",
      "execution_count": null,
      "metadata": {
        "id": "v4o2dA0O6ECI"
      },
      "outputs": [],
      "source": [
        "# Visualización del arbol\n",
        "# ==============================================================================\n",
        "from sklearn.tree import plot_tree\n",
        "import matplotlib.pyplot as plt\n",
        "\n",
        "fig, ax = plt.subplots(figsize=(22, 10))\n",
        "\n",
        "print(f\"Profundidad del árbol: {clf.get_depth()}\")\n",
        "print(f\"Número de nodos terminales: {clf.get_n_leaves()}\")\n",
        "\n",
        "plot = plot_tree(\n",
        "            decision_tree = clf,\n",
        "            feature_names = X.columns.tolist(),\n",
        "            class_names   = ['False', 'True'],\n",
        "            filled        = True,\n",
        "            impurity      = False,\n",
        "            fontsize      = 10,\n",
        "            precision     = 2,\n",
        "            ax            = ax\n",
        "       )"
      ]
    },
    {
      "cell_type": "markdown",
      "metadata": {
        "id": "_PslwnNYyLdg"
      },
      "source": [
        "## Random Forest Classifier\n",
        "https://scikit-learn.org/stable/modules/generated/sklearn.ensemble.RandomForestClassifier.html"
      ]
    },
    {
      "cell_type": "code",
      "execution_count": null,
      "metadata": {
        "colab": {
          "base_uri": "https://localhost:8080/",
          "height": 91
        },
        "id": "rZIEejtFyOcv",
        "outputId": "36821589-6352-48b3-bd4a-c8dc9b11cc9c"
      },
      "outputs": [],
      "source": [
        "from sklearn.ensemble import RandomForestClassifier\n",
        "# Entrenamiento del modelo\n",
        "# ==============================================================================\n",
        "ranfor = RandomForestClassifier(\n",
        "            n_estimators = 150,\n",
        "            criterion    = 'gini',\n",
        "            max_depth    = 5,\n",
        "            max_leaf_nodes = 10,\n",
        "            n_jobs       = -1,\n",
        "            random_state = 123\n",
        "         )\n",
        "ranfor.fit(X_train, y_train)"
      ]
    },
    {
      "cell_type": "code",
      "execution_count": null,
      "metadata": {
        "colab": {
          "base_uri": "https://localhost:8080/"
        },
        "id": "Sksj5h_b3mOZ",
        "outputId": "e66f1242-0426-4bcb-9fd3-76ff0d604696"
      },
      "outputs": [],
      "source": [
        "# Métricas de desempeño\n",
        "# ==============================================================================\n",
        "print (\"Train - Accuracy :\", metrics.accuracy_score(y_train, ranfor.predict(X_train)))\n",
        "print (\"Train - classification report:\\n\", metrics.classification_report(y_train, ranfor.predict(X_train)))\n",
        "print (\"Test - Accuracy :\", metrics.accuracy_score(y_test, ranfor.predict(X_test)))\n",
        "print (\"Test - classification report :\", metrics.classification_report(y_test, ranfor.predict(X_test)))"
      ]
    },
    {
      "cell_type": "code",
      "execution_count": null,
      "metadata": {},
      "outputs": [],
      "source": [
        "from sklearn.metrics import confusion_matrix, ConfusionMatrixDisplay\n",
        "# Matriz de confusion\n",
        "cm1= confusion_matrix(y_test, ranfor.predict(X_test))\n",
        "# Visualización de la matriz de confusion\n",
        "cm1_display = ConfusionMatrixDisplay(confusion_matrix = cm1)\n",
        "cm1_display.plot()\n",
        "plt.show()"
      ]
    },
    {
      "cell_type": "markdown",
      "metadata": {},
      "source": [
        "## Gradient Boosting Classifier\n",
        "\n",
        "https://scikit-learn.org/stable/modules/generated/sklearn.ensemble.GradientBoostingClassifier.html"
      ]
    },
    {
      "cell_type": "code",
      "execution_count": null,
      "metadata": {},
      "outputs": [],
      "source": [
        "from sklearn.ensemble import GradientBoostingClassifier\n",
        "\n",
        "# Entrenamiento del modelo: N_ESTIMATORS = 100, LEARNING_RATE = 0.1, , MAX_DEPTH = 4\n",
        "# ===================================================================================\n",
        "gboos = GradientBoostingClassifier(\n",
        "            n_estimators = 100,\n",
        "            learning_rate= 0.1,\n",
        "            max_features = 4,\n",
        "            random_state = 123\n",
        "         )\n",
        "gboos.fit(X_train, y_train)"
      ]
    },
    {
      "cell_type": "code",
      "execution_count": null,
      "metadata": {},
      "outputs": [],
      "source": [
        "# Métricas de desempeño\n",
        "# ==============================================================================\n",
        "print (\"Train - Accuracy :\", metrics.accuracy_score(y_train, gboos.predict(X_train)))\n",
        "print (\"Train - classification report:\\n\", metrics.classification_report(y_train, gboos.predict(X_train)))\n",
        "print (\"Test - Accuracy :\", metrics.accuracy_score(y_test, gboos.predict(X_test)))\n",
        "print (\"Test - classification report :\", metrics.classification_report(y_test, gboos.predict(X_test)))"
      ]
    },
    {
      "cell_type": "code",
      "execution_count": null,
      "metadata": {},
      "outputs": [],
      "source": [
        "# Matriz de confusión\n",
        "# ==============================================================================\n",
        "from sklearn.metrics import confusion_matrix, ConfusionMatrixDisplay\n",
        "# Matriz de confusion\n",
        "cm1= confusion_matrix(y_test, gboos.predict(X_test))\n",
        "# Visualización de la matriz de confusion\n",
        "cm1_display = ConfusionMatrixDisplay(confusion_matrix = cm1)\n",
        "cm1_display.plot()\n",
        "plt.show()"
      ]
    },
    {
      "cell_type": "markdown",
      "metadata": {},
      "source": [
        "## XGB Classifier\n",
        "\n",
        "https://xgboost.readthedocs.io/en/stable/get_started.html"
      ]
    },
    {
      "cell_type": "code",
      "execution_count": null,
      "metadata": {},
      "outputs": [],
      "source": [
        "#%pip install xgboost\n",
        "from xgboost import XGBClassifier\n",
        "\n",
        "# Entrenamiento del modelo: N_ESTIMATORS = 500, LEARNING_RATE = 0.1, , MAX_DEPTH = 4\n",
        "# ===================================================================================\n",
        "xgb = XGBClassifier(\n",
        "    n_estimators = 200,\n",
        "    learning_rate= 0.1,\n",
        "    max_depth = 4,\n",
        "    random_state = 123\n",
        ")\n",
        "\n",
        "xgb.fit(X_train, y_train)"
      ]
    },
    {
      "cell_type": "code",
      "execution_count": null,
      "metadata": {},
      "outputs": [],
      "source": [
        "# Métricas de desempeño\n",
        "# ==============================================================================\n",
        "print (\"Train - Accuracy :\", metrics.accuracy_score(y_train, xgb.predict(X_train)))\n",
        "print (\"Train - classification report:\\n\", metrics.classification_report(y_train, xgb.predict(X_train)))\n",
        "print (\"Test - Accuracy :\", metrics.accuracy_score(y_test, xgb.predict(X_test)))\n",
        "print (\"Test - classification report :\", metrics.classification_report(y_test, xgb.predict(X_test)))"
      ]
    },
    {
      "cell_type": "code",
      "execution_count": null,
      "metadata": {},
      "outputs": [],
      "source": [
        "# Matriz de confusión\n",
        "# ==============================================================================\n",
        "from sklearn.metrics import confusion_matrix, ConfusionMatrixDisplay\n",
        "# Matriz de confusion\n",
        "cm1= confusion_matrix(y_test, xgb.predict(X_test))\n",
        "# Visualización de la matriz de confusion\n",
        "cm1_display = ConfusionMatrixDisplay(confusion_matrix = cm1)\n",
        "cm1_display.plot()\n",
        "plt.show()"
      ]
    },
    {
      "cell_type": "markdown",
      "metadata": {},
      "source": [
        "## Support Vector Machine\n",
        "\n",
        "https://scikit-learn.org/stable/modules/generated/sklearn.svm.SVC.html"
      ]
    },
    {
      "cell_type": "code",
      "execution_count": null,
      "metadata": {},
      "outputs": [],
      "source": [
        "from sklearn.svm import SVC\n",
        "\n",
        "# Entrenamiento del modelo SVM: KERNEL = 'rbf', C = 1.5, class_weight = 'balanced'\n",
        "# =================================================================================\n",
        "svm_model = SVC(\n",
        "                C = 1.5, \n",
        "                kernel = 'linear',\n",
        "                class_weight = 'balanced',\n",
        "                max_iter =-1, \n",
        "                random_state=123)\n",
        "svm_model.fit(X_train, y_train)"
      ]
    },
    {
      "cell_type": "code",
      "execution_count": null,
      "metadata": {},
      "outputs": [],
      "source": [
        "# Métricas de desempeño\n",
        "# ==============================================================================\n",
        "print (\"Train - Accuracy :\", metrics.accuracy_score(y_train, svm_model.predict(X_train)))\n",
        "print (\"Train - classification report:\\n\", metrics.classification_report(y_train, svm_model.predict(X_train)))\n",
        "print (\"Test - Accuracy :\", metrics.accuracy_score(y_test, svm_model.predict(X_test)))\n",
        "print (\"Test - classification report :\", metrics.classification_report(y_test, svm_model.predict(X_test)))"
      ]
    },
    {
      "cell_type": "code",
      "execution_count": null,
      "metadata": {},
      "outputs": [],
      "source": [
        "from sklearn.metrics import confusion_matrix, ConfusionMatrixDisplay\n",
        "# Matriz de confusion\n",
        "cm1= confusion_matrix(y_test, svm_model.predict(X_test))\n",
        "# Visualización de la matriz de confusion\n",
        "cm1_display = ConfusionMatrixDisplay(confusion_matrix = cm1)\n",
        "cm1_display.plot()\n",
        "plt.show()"
      ]
    }
  ],
  "metadata": {
    "colab": {
      "collapsed_sections": [
        "TI_hkp_Lqwfe",
        "_PslwnNYyLdg",
        "tehSvSIPCDep",
        "dZiGlFJaFFng"
      ],
      "provenance": []
    },
    "kernelspec": {
      "display_name": "Python 3",
      "name": "python3"
    },
    "language_info": {
      "codemirror_mode": {
        "name": "ipython",
        "version": 3
      },
      "file_extension": ".py",
      "mimetype": "text/x-python",
      "name": "python",
      "nbconvert_exporter": "python",
      "pygments_lexer": "ipython3",
      "version": "3.9.7"
    }
  },
  "nbformat": 4,
  "nbformat_minor": 0
}
