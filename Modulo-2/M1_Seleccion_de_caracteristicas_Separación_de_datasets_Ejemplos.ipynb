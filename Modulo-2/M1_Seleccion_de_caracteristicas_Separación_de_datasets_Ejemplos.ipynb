{
  "cells": [
    {
      "cell_type": "markdown",
      "metadata": {
        "id": "8fPbcLP73CRW"
      },
      "source": [
        "# Selección de Características - Machine Learning\n",
        "\n",
        "La selección de características es el proceso de elegir un subconjunto de las variables más importantes mientras se intenta retener la mayor cantidad de información posible\n",
        "\n",
        "Veamos algunos métodos"
      ]
    },
    {
      "cell_type": "markdown",
      "metadata": {},
      "source": [
        "# Datasets"
      ]
    },
    {
      "cell_type": "markdown",
      "metadata": {},
      "source": [
        "## Clasificación\n",
        "\n",
        "info dataset pima-indians-diabetes: https://www.kaggle.com/datasets/uciml/pima-indians-diabetes-database"
      ]
    },
    {
      "cell_type": "code",
      "execution_count": 6,
      "metadata": {
        "colab": {
          "base_uri": "https://localhost:8080/"
        },
        "id": "Rq0GWX6ud--y",
        "outputId": "dd99f5a4-acb7-4723-d083-0bac8ad648d1"
      },
      "outputs": [
        {
          "name": "stdout",
          "output_type": "stream",
          "text": [
            "(768, 9)\n"
          ]
        },
        {
          "data": {
            "text/html": [
              "<div>\n",
              "<style scoped>\n",
              "    .dataframe tbody tr th:only-of-type {\n",
              "        vertical-align: middle;\n",
              "    }\n",
              "\n",
              "    .dataframe tbody tr th {\n",
              "        vertical-align: top;\n",
              "    }\n",
              "\n",
              "    .dataframe thead th {\n",
              "        text-align: right;\n",
              "    }\n",
              "</style>\n",
              "<table border=\"1\" class=\"dataframe\">\n",
              "  <thead>\n",
              "    <tr style=\"text-align: right;\">\n",
              "      <th></th>\n",
              "      <th>preg</th>\n",
              "      <th>plas</th>\n",
              "      <th>pres</th>\n",
              "      <th>skin</th>\n",
              "      <th>test</th>\n",
              "      <th>mass</th>\n",
              "      <th>pedi</th>\n",
              "      <th>age</th>\n",
              "      <th>class</th>\n",
              "    </tr>\n",
              "  </thead>\n",
              "  <tbody>\n",
              "    <tr>\n",
              "      <th>0</th>\n",
              "      <td>6</td>\n",
              "      <td>148</td>\n",
              "      <td>72</td>\n",
              "      <td>35</td>\n",
              "      <td>0</td>\n",
              "      <td>33.6</td>\n",
              "      <td>0.627</td>\n",
              "      <td>50</td>\n",
              "      <td>1</td>\n",
              "    </tr>\n",
              "    <tr>\n",
              "      <th>1</th>\n",
              "      <td>1</td>\n",
              "      <td>85</td>\n",
              "      <td>66</td>\n",
              "      <td>29</td>\n",
              "      <td>0</td>\n",
              "      <td>26.6</td>\n",
              "      <td>0.351</td>\n",
              "      <td>31</td>\n",
              "      <td>0</td>\n",
              "    </tr>\n",
              "    <tr>\n",
              "      <th>2</th>\n",
              "      <td>8</td>\n",
              "      <td>183</td>\n",
              "      <td>64</td>\n",
              "      <td>0</td>\n",
              "      <td>0</td>\n",
              "      <td>23.3</td>\n",
              "      <td>0.672</td>\n",
              "      <td>32</td>\n",
              "      <td>1</td>\n",
              "    </tr>\n",
              "  </tbody>\n",
              "</table>\n",
              "</div>"
            ],
            "text/plain": [
              "   preg  plas  pres  skin  test  mass   pedi  age  class\n",
              "0     6   148    72    35     0  33.6  0.627   50      1\n",
              "1     1    85    66    29     0  26.6  0.351   31      0\n",
              "2     8   183    64     0     0  23.3  0.672   32      1"
            ]
          },
          "execution_count": 6,
          "metadata": {},
          "output_type": "execute_result"
        }
      ],
      "source": [
        "import pandas as pd\n",
        "\n",
        "# Cargar data\n",
        "url = \"https://raw.githubusercontent.com/jbrownlee/Datasets/master/pima-indians-diabetes.data.csv\"\n",
        "names = ['preg', 'plas', 'pres', 'skin', 'test', 'mass', 'pedi', 'age', 'class']\n",
        "\n",
        "df_classification = pd.read_csv(url, names=names)\n",
        "\n",
        "print(df_classification.shape)\n",
        "\n",
        "df_classification.head(3)"
      ]
    },
    {
      "cell_type": "code",
      "execution_count": 7,
      "metadata": {},
      "outputs": [
        {
          "name": "stdout",
          "output_type": "stream",
          "text": [
            "(768, 8)\n",
            "(768,)\n"
          ]
        }
      ],
      "source": [
        "# Separación de caracteristicas y target\n",
        "X_class = df_classification.drop(['class'], axis=1)\n",
        "y_class = df_classification['class']\n",
        "\n",
        "print(X_class.shape)\n",
        "print(y_class.shape)"
      ]
    },
    {
      "cell_type": "markdown",
      "metadata": {},
      "source": [
        "## Regresión"
      ]
    },
    {
      "cell_type": "code",
      "execution_count": 8,
      "metadata": {},
      "outputs": [
        {
          "name": "stdout",
          "output_type": "stream",
          "text": [
            "Feature data dimension:  (20640, 6)\n"
          ]
        }
      ],
      "source": [
        "# Para regresión\n",
        "from sklearn.datasets import fetch_california_housing\n",
        "\n",
        "# Lectura de datos\n",
        "housing = fetch_california_housing(as_frame=True)\n",
        "columns_drop = [\"Longitude\", \"Latitude\"]\n",
        "\n",
        "X_reg = housing.data.drop(columns=columns_drop)\n",
        "y_reg = housing.target\n",
        "\n",
        "print(\"Feature data dimension: \", X_reg.shape)"
      ]
    },
    {
      "cell_type": "code",
      "execution_count": 15,
      "metadata": {},
      "outputs": [
        {
          "data": {
            "text/html": [
              "<div>\n",
              "<style scoped>\n",
              "    .dataframe tbody tr th:only-of-type {\n",
              "        vertical-align: middle;\n",
              "    }\n",
              "\n",
              "    .dataframe tbody tr th {\n",
              "        vertical-align: top;\n",
              "    }\n",
              "\n",
              "    .dataframe thead th {\n",
              "        text-align: right;\n",
              "    }\n",
              "</style>\n",
              "<table border=\"1\" class=\"dataframe\">\n",
              "  <thead>\n",
              "    <tr style=\"text-align: right;\">\n",
              "      <th></th>\n",
              "      <th>MedInc</th>\n",
              "      <th>HouseAge</th>\n",
              "      <th>AveRooms</th>\n",
              "      <th>AveBedrms</th>\n",
              "      <th>Population</th>\n",
              "      <th>AveOccup</th>\n",
              "    </tr>\n",
              "  </thead>\n",
              "  <tbody>\n",
              "    <tr>\n",
              "      <th>0</th>\n",
              "      <td>8.3252</td>\n",
              "      <td>41.0</td>\n",
              "      <td>6.984127</td>\n",
              "      <td>1.023810</td>\n",
              "      <td>322.0</td>\n",
              "      <td>2.555556</td>\n",
              "    </tr>\n",
              "    <tr>\n",
              "      <th>1</th>\n",
              "      <td>8.3014</td>\n",
              "      <td>21.0</td>\n",
              "      <td>6.238137</td>\n",
              "      <td>0.971880</td>\n",
              "      <td>2401.0</td>\n",
              "      <td>2.109842</td>\n",
              "    </tr>\n",
              "    <tr>\n",
              "      <th>2</th>\n",
              "      <td>7.2574</td>\n",
              "      <td>52.0</td>\n",
              "      <td>8.288136</td>\n",
              "      <td>1.073446</td>\n",
              "      <td>496.0</td>\n",
              "      <td>2.802260</td>\n",
              "    </tr>\n",
              "  </tbody>\n",
              "</table>\n",
              "</div>"
            ],
            "text/plain": [
              "   MedInc  HouseAge  AveRooms  AveBedrms  Population  AveOccup\n",
              "0  8.3252      41.0  6.984127   1.023810       322.0  2.555556\n",
              "1  8.3014      21.0  6.238137   0.971880      2401.0  2.109842\n",
              "2  7.2574      52.0  8.288136   1.073446       496.0  2.802260"
            ]
          },
          "execution_count": 15,
          "metadata": {},
          "output_type": "execute_result"
        }
      ],
      "source": [
        "X_reg.head(3)\n",
        "#y_reg.head(3)"
      ]
    },
    {
      "cell_type": "markdown",
      "metadata": {
        "id": "5FwCBvOP4dhs"
      },
      "source": [
        "## Métodos de filtrado"
      ]
    },
    {
      "cell_type": "markdown",
      "metadata": {
        "id": "c7USy6uAfjXc"
      },
      "source": [
        "### Variance Threshold\n",
        "\n",
        "Elimina todas las características cuya varianza no alcanza algún umbral. De forma predeterminada, elimina todas las características de varianza cero, es decir, las características que tienen el mismo valor en todas las muestras.\n",
        "\n",
        "https://scikit-learn.org/stable/modules/generated/sklearn.feature_selection.VarianceThreshold.html"
      ]
    },
    {
      "cell_type": "code",
      "execution_count": 11,
      "metadata": {
        "id": "Q8Y1hTLkgiJG"
      },
      "outputs": [],
      "source": [
        "from sklearn.feature_selection import VarianceThreshold\n",
        "\n",
        "#Función de filtro de caracteristicas\n",
        "def variance_threshold(X,th):\n",
        "    var_thres=VarianceThreshold(threshold=th)\n",
        "    var_thres.fit(X)\n",
        "    new_cols = var_thres.get_support()\n",
        "    return new_cols"
      ]
    },
    {
      "cell_type": "code",
      "execution_count": 13,
      "metadata": {
        "colab": {
          "base_uri": "https://localhost:8080/",
          "height": 206
        },
        "id": "SExVS7chiY_t",
        "outputId": "33c70830-ecf0-4ed1-df62-017c97fd396f"
      },
      "outputs": [
        {
          "data": {
            "text/html": [
              "<div>\n",
              "<style scoped>\n",
              "    .dataframe tbody tr th:only-of-type {\n",
              "        vertical-align: middle;\n",
              "    }\n",
              "\n",
              "    .dataframe tbody tr th {\n",
              "        vertical-align: top;\n",
              "    }\n",
              "\n",
              "    .dataframe thead th {\n",
              "        text-align: right;\n",
              "    }\n",
              "</style>\n",
              "<table border=\"1\" class=\"dataframe\">\n",
              "  <thead>\n",
              "    <tr style=\"text-align: right;\">\n",
              "      <th></th>\n",
              "      <th>preg</th>\n",
              "      <th>plas</th>\n",
              "      <th>pres</th>\n",
              "      <th>skin</th>\n",
              "      <th>test</th>\n",
              "      <th>mass</th>\n",
              "      <th>age</th>\n",
              "    </tr>\n",
              "  </thead>\n",
              "  <tbody>\n",
              "    <tr>\n",
              "      <th>0</th>\n",
              "      <td>6</td>\n",
              "      <td>148</td>\n",
              "      <td>72</td>\n",
              "      <td>35</td>\n",
              "      <td>0</td>\n",
              "      <td>33.6</td>\n",
              "      <td>50</td>\n",
              "    </tr>\n",
              "    <tr>\n",
              "      <th>1</th>\n",
              "      <td>1</td>\n",
              "      <td>85</td>\n",
              "      <td>66</td>\n",
              "      <td>29</td>\n",
              "      <td>0</td>\n",
              "      <td>26.6</td>\n",
              "      <td>31</td>\n",
              "    </tr>\n",
              "    <tr>\n",
              "      <th>2</th>\n",
              "      <td>8</td>\n",
              "      <td>183</td>\n",
              "      <td>64</td>\n",
              "      <td>0</td>\n",
              "      <td>0</td>\n",
              "      <td>23.3</td>\n",
              "      <td>32</td>\n",
              "    </tr>\n",
              "    <tr>\n",
              "      <th>3</th>\n",
              "      <td>1</td>\n",
              "      <td>89</td>\n",
              "      <td>66</td>\n",
              "      <td>23</td>\n",
              "      <td>94</td>\n",
              "      <td>28.1</td>\n",
              "      <td>21</td>\n",
              "    </tr>\n",
              "    <tr>\n",
              "      <th>4</th>\n",
              "      <td>0</td>\n",
              "      <td>137</td>\n",
              "      <td>40</td>\n",
              "      <td>35</td>\n",
              "      <td>168</td>\n",
              "      <td>43.1</td>\n",
              "      <td>33</td>\n",
              "    </tr>\n",
              "  </tbody>\n",
              "</table>\n",
              "</div>"
            ],
            "text/plain": [
              "   preg  plas  pres  skin  test  mass  age\n",
              "0     6   148    72    35     0  33.6   50\n",
              "1     1    85    66    29     0  26.6   31\n",
              "2     8   183    64     0     0  23.3   32\n",
              "3     1    89    66    23    94  28.1   21\n",
              "4     0   137    40    35   168  43.1   33"
            ]
          },
          "execution_count": 13,
          "metadata": {},
          "output_type": "execute_result"
        }
      ],
      "source": [
        "# Para clasificación\n",
        "# Obtener columnas seleccionadas\n",
        "X_new_class = variance_threshold(X_class, 0.25)\n",
        "# Nuevo dataframe\n",
        "df_classification_new = X_class.iloc[:,X_new_class]\n",
        "df_classification_new.head()"
      ]
    },
    {
      "cell_type": "code",
      "execution_count": 14,
      "metadata": {},
      "outputs": [
        {
          "data": {
            "text/html": [
              "<div>\n",
              "<style scoped>\n",
              "    .dataframe tbody tr th:only-of-type {\n",
              "        vertical-align: middle;\n",
              "    }\n",
              "\n",
              "    .dataframe tbody tr th {\n",
              "        vertical-align: top;\n",
              "    }\n",
              "\n",
              "    .dataframe thead th {\n",
              "        text-align: right;\n",
              "    }\n",
              "</style>\n",
              "<table border=\"1\" class=\"dataframe\">\n",
              "  <thead>\n",
              "    <tr style=\"text-align: right;\">\n",
              "      <th></th>\n",
              "      <th>MedInc</th>\n",
              "      <th>HouseAge</th>\n",
              "      <th>AveRooms</th>\n",
              "      <th>Population</th>\n",
              "      <th>AveOccup</th>\n",
              "    </tr>\n",
              "  </thead>\n",
              "  <tbody>\n",
              "    <tr>\n",
              "      <th>0</th>\n",
              "      <td>8.3252</td>\n",
              "      <td>41.0</td>\n",
              "      <td>6.984127</td>\n",
              "      <td>322.0</td>\n",
              "      <td>2.555556</td>\n",
              "    </tr>\n",
              "    <tr>\n",
              "      <th>1</th>\n",
              "      <td>8.3014</td>\n",
              "      <td>21.0</td>\n",
              "      <td>6.238137</td>\n",
              "      <td>2401.0</td>\n",
              "      <td>2.109842</td>\n",
              "    </tr>\n",
              "    <tr>\n",
              "      <th>2</th>\n",
              "      <td>7.2574</td>\n",
              "      <td>52.0</td>\n",
              "      <td>8.288136</td>\n",
              "      <td>496.0</td>\n",
              "      <td>2.802260</td>\n",
              "    </tr>\n",
              "    <tr>\n",
              "      <th>3</th>\n",
              "      <td>5.6431</td>\n",
              "      <td>52.0</td>\n",
              "      <td>5.817352</td>\n",
              "      <td>558.0</td>\n",
              "      <td>2.547945</td>\n",
              "    </tr>\n",
              "    <tr>\n",
              "      <th>4</th>\n",
              "      <td>3.8462</td>\n",
              "      <td>52.0</td>\n",
              "      <td>6.281853</td>\n",
              "      <td>565.0</td>\n",
              "      <td>2.181467</td>\n",
              "    </tr>\n",
              "  </tbody>\n",
              "</table>\n",
              "</div>"
            ],
            "text/plain": [
              "   MedInc  HouseAge  AveRooms  Population  AveOccup\n",
              "0  8.3252      41.0  6.984127       322.0  2.555556\n",
              "1  8.3014      21.0  6.238137      2401.0  2.109842\n",
              "2  7.2574      52.0  8.288136       496.0  2.802260\n",
              "3  5.6431      52.0  5.817352       558.0  2.547945\n",
              "4  3.8462      52.0  6.281853       565.0  2.181467"
            ]
          },
          "execution_count": 14,
          "metadata": {},
          "output_type": "execute_result"
        }
      ],
      "source": [
        "# Para regresión\n",
        "# Obtener columnas seleccionadas\n",
        "X_new_reg = variance_threshold(X_reg, 0.25)\n",
        "# Nuevo dataframe\n",
        "df_regression_new = X_reg.iloc[:,X_new_reg]\n",
        "df_regression_new.head()"
      ]
    },
    {
      "cell_type": "markdown",
      "metadata": {
        "id": "KP2ile9qgSUv"
      },
      "source": [
        "### SelectKBest\n",
        "\n",
        "Selección de características de acuerdo con las k puntuaciones más altas. Utiliza una función que toma dos matrices X e y, y devuelve un par de matrices (puntuaciones, valores de p) o una única matriz con puntuaciones.\n",
        "\n",
        "La función predeterminada solo funciona con tareas de clasificación (f_classif - ANOVA).\n",
        "\n",
        "https://scikit-learn.org/stable/modules/generated/sklearn.feature_selection.SelectKBest.html#sklearn.feature_selection.SelectKBest"
      ]
    },
    {
      "cell_type": "code",
      "execution_count": 16,
      "metadata": {},
      "outputs": [],
      "source": [
        "# Para clasificación\n",
        "from sklearn.feature_selection import SelectKBest, f_classif\n",
        "\n",
        "# Función de filtro de caracteristicas - stadis. scores\n",
        "def select_kbest_classification(X,y,score_f,k):\n",
        "    sel_kb = SelectKBest(score_func=score_f, k=k)\n",
        "    sel_kb.fit(X,y)\n",
        "    new_cols = sel_kb.get_support()\n",
        "    print(\"Scores:\\n\", sel_kb.scores_, \"\\nP-values:\\n\", sel_kb.pvalues_)\n",
        "    return new_cols"
      ]
    },
    {
      "cell_type": "code",
      "execution_count": 17,
      "metadata": {},
      "outputs": [
        {
          "name": "stdout",
          "output_type": "stream",
          "text": [
            "Scores:\n",
            " [ 39.67022739 213.16175218   3.2569504    4.30438091  13.28110753\n",
            "  71.7720721   23.8713002   46.14061124] \n",
            "P-values:\n",
            " [5.06512730e-10 8.93543165e-43 7.15139001e-02 3.83477048e-02\n",
            " 2.86186460e-04 1.22980749e-16 1.25460701e-06 2.20997546e-11]\n"
          ]
        },
        {
          "data": {
            "text/html": [
              "<div>\n",
              "<style scoped>\n",
              "    .dataframe tbody tr th:only-of-type {\n",
              "        vertical-align: middle;\n",
              "    }\n",
              "\n",
              "    .dataframe tbody tr th {\n",
              "        vertical-align: top;\n",
              "    }\n",
              "\n",
              "    .dataframe thead th {\n",
              "        text-align: right;\n",
              "    }\n",
              "</style>\n",
              "<table border=\"1\" class=\"dataframe\">\n",
              "  <thead>\n",
              "    <tr style=\"text-align: right;\">\n",
              "      <th></th>\n",
              "      <th>preg</th>\n",
              "      <th>plas</th>\n",
              "      <th>mass</th>\n",
              "      <th>pedi</th>\n",
              "      <th>age</th>\n",
              "    </tr>\n",
              "  </thead>\n",
              "  <tbody>\n",
              "    <tr>\n",
              "      <th>0</th>\n",
              "      <td>6</td>\n",
              "      <td>148</td>\n",
              "      <td>33.6</td>\n",
              "      <td>0.627</td>\n",
              "      <td>50</td>\n",
              "    </tr>\n",
              "    <tr>\n",
              "      <th>1</th>\n",
              "      <td>1</td>\n",
              "      <td>85</td>\n",
              "      <td>26.6</td>\n",
              "      <td>0.351</td>\n",
              "      <td>31</td>\n",
              "    </tr>\n",
              "    <tr>\n",
              "      <th>2</th>\n",
              "      <td>8</td>\n",
              "      <td>183</td>\n",
              "      <td>23.3</td>\n",
              "      <td>0.672</td>\n",
              "      <td>32</td>\n",
              "    </tr>\n",
              "    <tr>\n",
              "      <th>3</th>\n",
              "      <td>1</td>\n",
              "      <td>89</td>\n",
              "      <td>28.1</td>\n",
              "      <td>0.167</td>\n",
              "      <td>21</td>\n",
              "    </tr>\n",
              "    <tr>\n",
              "      <th>4</th>\n",
              "      <td>0</td>\n",
              "      <td>137</td>\n",
              "      <td>43.1</td>\n",
              "      <td>2.288</td>\n",
              "      <td>33</td>\n",
              "    </tr>\n",
              "  </tbody>\n",
              "</table>\n",
              "</div>"
            ],
            "text/plain": [
              "   preg  plas  mass   pedi  age\n",
              "0     6   148  33.6  0.627   50\n",
              "1     1    85  26.6  0.351   31\n",
              "2     8   183  23.3  0.672   32\n",
              "3     1    89  28.1  0.167   21\n",
              "4     0   137  43.1  2.288   33"
            ]
          },
          "execution_count": 17,
          "metadata": {},
          "output_type": "execute_result"
        }
      ],
      "source": [
        "# Obtener columnas seleciconadas - (5 caracteristicas)\n",
        "X_new_class = select_kbest_classification(X_class, y_class, f_classif, 5)\n",
        "\n",
        "# Nuevo conjunto de datos\n",
        "df_classification_new = X_class.iloc[:,X_new_class]\n",
        "df_classification_new.head()"
      ]
    },
    {
      "cell_type": "code",
      "execution_count": 21,
      "metadata": {
        "id": "CfaDTQWQoijP"
      },
      "outputs": [],
      "source": [
        "# Para regresión\n",
        "from sklearn.feature_selection import SelectKBest, f_regression,r_regression\n",
        "\n",
        "# Función de filtro de caracteristicas - stadis. scores\n",
        "def select_kbest_regression(X,y,score_f,k):\n",
        "    sel_kb = SelectKBest(score_func=score_f, k=k)\n",
        "    sel_kb.fit(X,y)\n",
        "    new_cols = sel_kb.get_support()\n",
        "    print(\"Scores:\\n\", sel_kb.scores_, \"\\nP-values:\\n\", sel_kb.pvalues_)\n",
        "    #print(\"Scores:\\n\", sel_kb.scores_)\n",
        "    return new_cols"
      ]
    },
    {
      "cell_type": "code",
      "execution_count": 23,
      "metadata": {
        "colab": {
          "base_uri": "https://localhost:8080/",
          "height": 310
        },
        "id": "jU-hFXL9tFZe",
        "outputId": "d212fa2b-cf73-4744-e7e2-fcdd38467df7"
      },
      "outputs": [
        {
          "name": "stdout",
          "output_type": "stream",
          "text": [
            "Scores:\n",
            " [1.85565716e+04 2.32841479e+02 4.87757462e+02 4.51085756e+01\n",
            " 1.25474103e+01 1.16353421e+01] \n",
            "P-values:\n",
            " [0.00000000e+000 2.76186068e-052 7.56924213e-107 1.91258939e-011\n",
            " 3.97630785e-004 6.48344237e-004]\n"
          ]
        },
        {
          "data": {
            "text/html": [
              "<div>\n",
              "<style scoped>\n",
              "    .dataframe tbody tr th:only-of-type {\n",
              "        vertical-align: middle;\n",
              "    }\n",
              "\n",
              "    .dataframe tbody tr th {\n",
              "        vertical-align: top;\n",
              "    }\n",
              "\n",
              "    .dataframe thead th {\n",
              "        text-align: right;\n",
              "    }\n",
              "</style>\n",
              "<table border=\"1\" class=\"dataframe\">\n",
              "  <thead>\n",
              "    <tr style=\"text-align: right;\">\n",
              "      <th></th>\n",
              "      <th>MedInc</th>\n",
              "      <th>HouseAge</th>\n",
              "      <th>AveRooms</th>\n",
              "    </tr>\n",
              "  </thead>\n",
              "  <tbody>\n",
              "    <tr>\n",
              "      <th>0</th>\n",
              "      <td>8.3252</td>\n",
              "      <td>41.0</td>\n",
              "      <td>6.984127</td>\n",
              "    </tr>\n",
              "    <tr>\n",
              "      <th>1</th>\n",
              "      <td>8.3014</td>\n",
              "      <td>21.0</td>\n",
              "      <td>6.238137</td>\n",
              "    </tr>\n",
              "    <tr>\n",
              "      <th>2</th>\n",
              "      <td>7.2574</td>\n",
              "      <td>52.0</td>\n",
              "      <td>8.288136</td>\n",
              "    </tr>\n",
              "    <tr>\n",
              "      <th>3</th>\n",
              "      <td>5.6431</td>\n",
              "      <td>52.0</td>\n",
              "      <td>5.817352</td>\n",
              "    </tr>\n",
              "    <tr>\n",
              "      <th>4</th>\n",
              "      <td>3.8462</td>\n",
              "      <td>52.0</td>\n",
              "      <td>6.281853</td>\n",
              "    </tr>\n",
              "  </tbody>\n",
              "</table>\n",
              "</div>"
            ],
            "text/plain": [
              "   MedInc  HouseAge  AveRooms\n",
              "0  8.3252      41.0  6.984127\n",
              "1  8.3014      21.0  6.238137\n",
              "2  7.2574      52.0  8.288136\n",
              "3  5.6431      52.0  5.817352\n",
              "4  3.8462      52.0  6.281853"
            ]
          },
          "execution_count": 23,
          "metadata": {},
          "output_type": "execute_result"
        }
      ],
      "source": [
        "# Obtener columnas seleciconadas - (3 caracteristicas)\n",
        "X_new_reg = select_kbest_regression(X_reg, y_reg, f_regression, 3)\n",
        "\n",
        "# Nuevo conjunto de datos\n",
        "df_regression_new = X_reg.iloc[:,X_new_reg]\n",
        "df_regression_new.head()"
      ]
    },
    {
      "cell_type": "markdown",
      "metadata": {
        "id": "EuS-C9sZ4vU8"
      },
      "source": [
        "## Métodos Wrapper"
      ]
    },
    {
      "cell_type": "markdown",
      "metadata": {
        "id": "aNy8i6ulFkMB"
      },
      "source": [
        "### RFE\n",
        "\n",
        "Dado un estimador externo que asigna pesos a las características (p. ej., los coeficientes de un modelo lineal), el objetivo de la eliminación recursiva de características (RFE) es seleccionar características considerando recursivamente conjuntos de características cada vez más pequeños.\n",
        "\n",
        "Primero, el estimador se entrena en el conjunto inicial de características y la importancia de cada característica se obtiene a través de cualquier atributo específico o llamable. Luego, las características menos importantes se eliminan del conjunto actual de características. Ese procedimiento se repite recursivamente en el conjunto podado hasta que finalmente se alcanza el número deseado de características para seleccionar.\n",
        "\n",
        "https://scikit-learn.org/stable/modules/generated/sklearn.feature_selection.RFE.html"
      ]
    },
    {
      "cell_type": "code",
      "execution_count": 24,
      "metadata": {
        "id": "Hx_8uI0IFjxV"
      },
      "outputs": [],
      "source": [
        "from sklearn.feature_selection import RFE\n",
        "from sklearn.linear_model import LinearRegression, LogisticRegression\n",
        "\n",
        "# Función recursiva de selección de características\n",
        "def recursive_feature_selection(X,y,model,k):\n",
        "  rfe = RFE(model, n_features_to_select=k, step=1)\n",
        "  fit = rfe.fit(X, y)\n",
        "  X_new = fit.support_\n",
        "  print(\"Num Features: %s\" % (fit.n_features_))\n",
        "  print(\"Selected Features: %s\" % (fit.support_))\n",
        "  print(\"Feature Ranking: %s\" % (fit.ranking_))\n",
        "\n",
        "  return X_new"
      ]
    },
    {
      "cell_type": "code",
      "execution_count": 25,
      "metadata": {},
      "outputs": [
        {
          "name": "stdout",
          "output_type": "stream",
          "text": [
            "Num Features: 5\n",
            "Selected Features: [ True  True False False False  True  True  True]\n",
            "Feature Ranking: [1 1 2 4 3 1 1 1]\n"
          ]
        },
        {
          "data": {
            "text/html": [
              "<div>\n",
              "<style scoped>\n",
              "    .dataframe tbody tr th:only-of-type {\n",
              "        vertical-align: middle;\n",
              "    }\n",
              "\n",
              "    .dataframe tbody tr th {\n",
              "        vertical-align: top;\n",
              "    }\n",
              "\n",
              "    .dataframe thead th {\n",
              "        text-align: right;\n",
              "    }\n",
              "</style>\n",
              "<table border=\"1\" class=\"dataframe\">\n",
              "  <thead>\n",
              "    <tr style=\"text-align: right;\">\n",
              "      <th></th>\n",
              "      <th>preg</th>\n",
              "      <th>plas</th>\n",
              "      <th>mass</th>\n",
              "      <th>pedi</th>\n",
              "      <th>age</th>\n",
              "    </tr>\n",
              "  </thead>\n",
              "  <tbody>\n",
              "    <tr>\n",
              "      <th>0</th>\n",
              "      <td>6</td>\n",
              "      <td>148</td>\n",
              "      <td>33.6</td>\n",
              "      <td>0.627</td>\n",
              "      <td>50</td>\n",
              "    </tr>\n",
              "    <tr>\n",
              "      <th>1</th>\n",
              "      <td>1</td>\n",
              "      <td>85</td>\n",
              "      <td>26.6</td>\n",
              "      <td>0.351</td>\n",
              "      <td>31</td>\n",
              "    </tr>\n",
              "    <tr>\n",
              "      <th>2</th>\n",
              "      <td>8</td>\n",
              "      <td>183</td>\n",
              "      <td>23.3</td>\n",
              "      <td>0.672</td>\n",
              "      <td>32</td>\n",
              "    </tr>\n",
              "    <tr>\n",
              "      <th>3</th>\n",
              "      <td>1</td>\n",
              "      <td>89</td>\n",
              "      <td>28.1</td>\n",
              "      <td>0.167</td>\n",
              "      <td>21</td>\n",
              "    </tr>\n",
              "    <tr>\n",
              "      <th>4</th>\n",
              "      <td>0</td>\n",
              "      <td>137</td>\n",
              "      <td>43.1</td>\n",
              "      <td>2.288</td>\n",
              "      <td>33</td>\n",
              "    </tr>\n",
              "  </tbody>\n",
              "</table>\n",
              "</div>"
            ],
            "text/plain": [
              "   preg  plas  mass   pedi  age\n",
              "0     6   148  33.6  0.627   50\n",
              "1     1    85  26.6  0.351   31\n",
              "2     8   183  23.3  0.672   32\n",
              "3     1    89  28.1  0.167   21\n",
              "4     0   137  43.1  2.288   33"
            ]
          },
          "execution_count": 25,
          "metadata": {},
          "output_type": "execute_result"
        }
      ],
      "source": [
        "# Para clasificación\n",
        "\n",
        "# Establecer Estimador\n",
        "model = LogisticRegression(max_iter=300)\n",
        "# Obtener columnas seleciconadas - (3 caracteristicas)\n",
        "X_new_class = recursive_feature_selection(X_class, y_class, model, 5)\n",
        "# Nuevo conjunto de datos\n",
        "df_classification_new = X_class.iloc[:,X_new_class]\n",
        "df_classification_new.head()"
      ]
    },
    {
      "cell_type": "code",
      "execution_count": 26,
      "metadata": {
        "colab": {
          "base_uri": "https://localhost:8080/",
          "height": 258
        },
        "id": "A7OB8Z5d0UUa",
        "outputId": "9f541858-2103-45e4-fd76-e7fdd59f3f7f"
      },
      "outputs": [
        {
          "name": "stdout",
          "output_type": "stream",
          "text": [
            "Num Features: 3\n",
            "Selected Features: [ True False  True  True False False]\n",
            "Feature Ranking: [1 2 1 1 4 3]\n"
          ]
        },
        {
          "data": {
            "text/html": [
              "<div>\n",
              "<style scoped>\n",
              "    .dataframe tbody tr th:only-of-type {\n",
              "        vertical-align: middle;\n",
              "    }\n",
              "\n",
              "    .dataframe tbody tr th {\n",
              "        vertical-align: top;\n",
              "    }\n",
              "\n",
              "    .dataframe thead th {\n",
              "        text-align: right;\n",
              "    }\n",
              "</style>\n",
              "<table border=\"1\" class=\"dataframe\">\n",
              "  <thead>\n",
              "    <tr style=\"text-align: right;\">\n",
              "      <th></th>\n",
              "      <th>MedInc</th>\n",
              "      <th>AveRooms</th>\n",
              "      <th>AveBedrms</th>\n",
              "    </tr>\n",
              "  </thead>\n",
              "  <tbody>\n",
              "    <tr>\n",
              "      <th>0</th>\n",
              "      <td>8.3252</td>\n",
              "      <td>6.984127</td>\n",
              "      <td>1.023810</td>\n",
              "    </tr>\n",
              "    <tr>\n",
              "      <th>1</th>\n",
              "      <td>8.3014</td>\n",
              "      <td>6.238137</td>\n",
              "      <td>0.971880</td>\n",
              "    </tr>\n",
              "    <tr>\n",
              "      <th>2</th>\n",
              "      <td>7.2574</td>\n",
              "      <td>8.288136</td>\n",
              "      <td>1.073446</td>\n",
              "    </tr>\n",
              "    <tr>\n",
              "      <th>3</th>\n",
              "      <td>5.6431</td>\n",
              "      <td>5.817352</td>\n",
              "      <td>1.073059</td>\n",
              "    </tr>\n",
              "    <tr>\n",
              "      <th>4</th>\n",
              "      <td>3.8462</td>\n",
              "      <td>6.281853</td>\n",
              "      <td>1.081081</td>\n",
              "    </tr>\n",
              "  </tbody>\n",
              "</table>\n",
              "</div>"
            ],
            "text/plain": [
              "   MedInc  AveRooms  AveBedrms\n",
              "0  8.3252  6.984127   1.023810\n",
              "1  8.3014  6.238137   0.971880\n",
              "2  7.2574  8.288136   1.073446\n",
              "3  5.6431  5.817352   1.073059\n",
              "4  3.8462  6.281853   1.081081"
            ]
          },
          "execution_count": 26,
          "metadata": {},
          "output_type": "execute_result"
        }
      ],
      "source": [
        "# Para regresión\n",
        "\n",
        "# Establecer Estimador\n",
        "model = LinearRegression()\n",
        "# Obtener columnas seleciconadas - (3 caracteristicas)\n",
        "X_new_reg = recursive_feature_selection(X_reg, y_reg, model, 3)\n",
        "# Nuevo conjunto de datos\n",
        "df_regression_new = X_reg.iloc[:,X_new_reg]\n",
        "df_regression_new.head()\n"
      ]
    },
    {
      "cell_type": "markdown",
      "metadata": {
        "id": "g292ZmdORCQv"
      },
      "source": [
        "### SequentialFeatureSelector\n",
        "\n",
        "Este selector secuencial de carcaterisicas agrega (selección hacia adelante) o elimina (selección hacia atrás) caracteristicas para formar un subconjunto de caracteristicas de manera codiciosa.\n",
        "\n",
        "En cada etapa, este estimador elige la mejor característica para agregar o eliminar en función de la puntuación de validación cruzada de un estimador.\n",
        "\n",
        "https://scikit-learn.org/stable/modules/generated/sklearn.feature_selection.SequentialFeatureSelector.html\n"
      ]
    },
    {
      "cell_type": "code",
      "execution_count": 27,
      "metadata": {},
      "outputs": [
        {
          "data": {
            "text/html": [
              "<div>\n",
              "<style scoped>\n",
              "    .dataframe tbody tr th:only-of-type {\n",
              "        vertical-align: middle;\n",
              "    }\n",
              "\n",
              "    .dataframe tbody tr th {\n",
              "        vertical-align: top;\n",
              "    }\n",
              "\n",
              "    .dataframe thead th {\n",
              "        text-align: right;\n",
              "    }\n",
              "</style>\n",
              "<table border=\"1\" class=\"dataframe\">\n",
              "  <thead>\n",
              "    <tr style=\"text-align: right;\">\n",
              "      <th></th>\n",
              "      <th>preg</th>\n",
              "      <th>plas</th>\n",
              "      <th>pres</th>\n",
              "      <th>mass</th>\n",
              "      <th>age</th>\n",
              "    </tr>\n",
              "  </thead>\n",
              "  <tbody>\n",
              "    <tr>\n",
              "      <th>0</th>\n",
              "      <td>6</td>\n",
              "      <td>148</td>\n",
              "      <td>72</td>\n",
              "      <td>33.6</td>\n",
              "      <td>50</td>\n",
              "    </tr>\n",
              "    <tr>\n",
              "      <th>1</th>\n",
              "      <td>1</td>\n",
              "      <td>85</td>\n",
              "      <td>66</td>\n",
              "      <td>26.6</td>\n",
              "      <td>31</td>\n",
              "    </tr>\n",
              "    <tr>\n",
              "      <th>2</th>\n",
              "      <td>8</td>\n",
              "      <td>183</td>\n",
              "      <td>64</td>\n",
              "      <td>23.3</td>\n",
              "      <td>32</td>\n",
              "    </tr>\n",
              "    <tr>\n",
              "      <th>3</th>\n",
              "      <td>1</td>\n",
              "      <td>89</td>\n",
              "      <td>66</td>\n",
              "      <td>28.1</td>\n",
              "      <td>21</td>\n",
              "    </tr>\n",
              "    <tr>\n",
              "      <th>4</th>\n",
              "      <td>0</td>\n",
              "      <td>137</td>\n",
              "      <td>40</td>\n",
              "      <td>43.1</td>\n",
              "      <td>33</td>\n",
              "    </tr>\n",
              "  </tbody>\n",
              "</table>\n",
              "</div>"
            ],
            "text/plain": [
              "   preg  plas  pres  mass  age\n",
              "0     6   148    72  33.6   50\n",
              "1     1    85    66  26.6   31\n",
              "2     8   183    64  23.3   32\n",
              "3     1    89    66  28.1   21\n",
              "4     0   137    40  43.1   33"
            ]
          },
          "execution_count": 27,
          "metadata": {},
          "output_type": "execute_result"
        }
      ],
      "source": [
        "from sklearn.feature_selection import SequentialFeatureSelector\n",
        "\n",
        "# Selector secuencias utilizando regresión logistica - clasificación\n",
        "sfs = SequentialFeatureSelector(LogisticRegression(max_iter=300),\n",
        "                                n_features_to_select=5,\n",
        "                                direction= \"forward\",\n",
        "                                scoring='f1')\n",
        "\n",
        "# Obtener variable seleccionadas\n",
        "sfs = sfs.fit(X_class, y_class)\n",
        "X_new_class = sfs.support_\n",
        "df_classification_new = X_class.iloc[:,X_new_class]\n",
        "df_classification_new.head()"
      ]
    },
    {
      "cell_type": "code",
      "execution_count": 28,
      "metadata": {
        "colab": {
          "base_uri": "https://localhost:8080/",
          "height": 206
        },
        "id": "Ig0AqKxj50FK",
        "outputId": "537408b3-fa08-4fd1-b5e2-97180ef504a3"
      },
      "outputs": [
        {
          "data": {
            "text/html": [
              "<div>\n",
              "<style scoped>\n",
              "    .dataframe tbody tr th:only-of-type {\n",
              "        vertical-align: middle;\n",
              "    }\n",
              "\n",
              "    .dataframe tbody tr th {\n",
              "        vertical-align: top;\n",
              "    }\n",
              "\n",
              "    .dataframe thead th {\n",
              "        text-align: right;\n",
              "    }\n",
              "</style>\n",
              "<table border=\"1\" class=\"dataframe\">\n",
              "  <thead>\n",
              "    <tr style=\"text-align: right;\">\n",
              "      <th></th>\n",
              "      <th>MedInc</th>\n",
              "      <th>HouseAge</th>\n",
              "      <th>AveRooms</th>\n",
              "    </tr>\n",
              "  </thead>\n",
              "  <tbody>\n",
              "    <tr>\n",
              "      <th>0</th>\n",
              "      <td>8.3252</td>\n",
              "      <td>41.0</td>\n",
              "      <td>6.984127</td>\n",
              "    </tr>\n",
              "    <tr>\n",
              "      <th>1</th>\n",
              "      <td>8.3014</td>\n",
              "      <td>21.0</td>\n",
              "      <td>6.238137</td>\n",
              "    </tr>\n",
              "    <tr>\n",
              "      <th>2</th>\n",
              "      <td>7.2574</td>\n",
              "      <td>52.0</td>\n",
              "      <td>8.288136</td>\n",
              "    </tr>\n",
              "    <tr>\n",
              "      <th>3</th>\n",
              "      <td>5.6431</td>\n",
              "      <td>52.0</td>\n",
              "      <td>5.817352</td>\n",
              "    </tr>\n",
              "    <tr>\n",
              "      <th>4</th>\n",
              "      <td>3.8462</td>\n",
              "      <td>52.0</td>\n",
              "      <td>6.281853</td>\n",
              "    </tr>\n",
              "  </tbody>\n",
              "</table>\n",
              "</div>"
            ],
            "text/plain": [
              "   MedInc  HouseAge  AveRooms\n",
              "0  8.3252      41.0  6.984127\n",
              "1  8.3014      21.0  6.238137\n",
              "2  7.2574      52.0  8.288136\n",
              "3  5.6431      52.0  5.817352\n",
              "4  3.8462      52.0  6.281853"
            ]
          },
          "execution_count": 28,
          "metadata": {},
          "output_type": "execute_result"
        }
      ],
      "source": [
        "# Selector secuencias utilizando regresión lineal - Regresión\n",
        "sfs = SequentialFeatureSelector(LinearRegression(),\n",
        "                                n_features_to_select=3,\n",
        "                                direction= \"forward\",\n",
        "                                scoring='r2')\n",
        "\n",
        "# Obtener variable seleccionadas\n",
        "sfs = sfs.fit(X_reg, y_reg)\n",
        "X_new_reg = sfs.support_\n",
        "df_regression_new = X_reg.iloc[:,X_new_reg]\n",
        "df_regression_new.head()"
      ]
    },
    {
      "cell_type": "markdown",
      "metadata": {
        "id": "t_ad9j3P9AhA"
      },
      "source": [
        "## Métodos integrados"
      ]
    },
    {
      "cell_type": "markdown",
      "metadata": {
        "id": "mqO-USlHSTvY"
      },
      "source": [
        "### SelectFromModel\n",
        "\n",
        "Meta-transformador para seleccionar características basadas en pesos de importancia.\n",
        "\n",
        "https://scikit-learn.org/stable/modules/generated/sklearn.feature_selection.SelectFromModel.html\n",
        "\n",
        "https://scikit-learn.org/stable/modules/generated/sklearn.linear_model.Lasso.html#sklearn.linear_model.Lasso"
      ]
    },
    {
      "cell_type": "code",
      "execution_count": 29,
      "metadata": {
        "colab": {
          "base_uri": "https://localhost:8080/",
          "height": 223
        },
        "id": "l7yHACjhSlw9",
        "outputId": "2d1905ed-7929-4f4e-d81d-7d8a23021834"
      },
      "outputs": [
        {
          "name": "stdout",
          "output_type": "stream",
          "text": [
            "[ 0.68231982  0.15427649 -0.01749387  0.          0.         -0.008662  ]\n"
          ]
        },
        {
          "data": {
            "text/html": [
              "<div>\n",
              "<style scoped>\n",
              "    .dataframe tbody tr th:only-of-type {\n",
              "        vertical-align: middle;\n",
              "    }\n",
              "\n",
              "    .dataframe tbody tr th {\n",
              "        vertical-align: top;\n",
              "    }\n",
              "\n",
              "    .dataframe thead th {\n",
              "        text-align: right;\n",
              "    }\n",
              "</style>\n",
              "<table border=\"1\" class=\"dataframe\">\n",
              "  <thead>\n",
              "    <tr style=\"text-align: right;\">\n",
              "      <th></th>\n",
              "      <th>MedInc</th>\n",
              "      <th>HouseAge</th>\n",
              "      <th>AveRooms</th>\n",
              "    </tr>\n",
              "  </thead>\n",
              "  <tbody>\n",
              "    <tr>\n",
              "      <th>0</th>\n",
              "      <td>8.3252</td>\n",
              "      <td>41.0</td>\n",
              "      <td>6.984127</td>\n",
              "    </tr>\n",
              "    <tr>\n",
              "      <th>1</th>\n",
              "      <td>8.3014</td>\n",
              "      <td>21.0</td>\n",
              "      <td>6.238137</td>\n",
              "    </tr>\n",
              "    <tr>\n",
              "      <th>2</th>\n",
              "      <td>7.2574</td>\n",
              "      <td>52.0</td>\n",
              "      <td>8.288136</td>\n",
              "    </tr>\n",
              "    <tr>\n",
              "      <th>3</th>\n",
              "      <td>5.6431</td>\n",
              "      <td>52.0</td>\n",
              "      <td>5.817352</td>\n",
              "    </tr>\n",
              "    <tr>\n",
              "      <th>4</th>\n",
              "      <td>3.8462</td>\n",
              "      <td>52.0</td>\n",
              "      <td>6.281853</td>\n",
              "    </tr>\n",
              "  </tbody>\n",
              "</table>\n",
              "</div>"
            ],
            "text/plain": [
              "   MedInc  HouseAge  AveRooms\n",
              "0  8.3252      41.0  6.984127\n",
              "1  8.3014      21.0  6.238137\n",
              "2  7.2574      52.0  8.288136\n",
              "3  5.6431      52.0  5.817352\n",
              "4  3.8462      52.0  6.281853"
            ]
          },
          "execution_count": 29,
          "metadata": {},
          "output_type": "execute_result"
        }
      ],
      "source": [
        "from sklearn.feature_selection import SelectFromModel\n",
        "from sklearn.linear_model import Lasso\n",
        "from sklearn.preprocessing import StandardScaler\n",
        "import numpy as np\n",
        "\n",
        "# Estandarizar los datos\n",
        "standard_scaler = StandardScaler()\n",
        "X_reg_std = standard_scaler.fit_transform(X_reg)\n",
        "y_reg_std = standard_scaler.fit_transform(np.array(y_reg).reshape(-1, 1))\n",
        "\n",
        "# Selector de variables con Lasso\n",
        "sel_ = SelectFromModel(Lasso(alpha=0.03), max_features=3)\n",
        "sel_.fit(X_reg_std, y_reg_std)\n",
        "print(sel_.estimator_.coef_)\n",
        "#Obtener variables seleccionadas\n",
        "X_new_reg = sel_.get_support()\n",
        "\n",
        "df_regression_new = X_reg.iloc[:,X_new_reg]\n",
        "df_regression_new.head()"
      ]
    },
    {
      "cell_type": "code",
      "execution_count": null,
      "metadata": {},
      "outputs": [],
      "source": [
        "X_new_reg"
      ]
    },
    {
      "cell_type": "markdown",
      "metadata": {
        "id": "Vjf4QF3B9pwh"
      },
      "source": [
        "# Esquema de validación"
      ]
    },
    {
      "cell_type": "markdown",
      "metadata": {
        "id": "P6DN1oFNq7i3"
      },
      "source": [
        "### Cross Validation\n",
        "\n",
        "Permite evaluar las métricas de desempeño de un modelo mediante validación cruzada y también registra los tiempos de entrenamiento/puntuación.\n",
        "\n",
        "https://scikit-learn.org/stable/modules/generated/sklearn.model_selection.cross_validate.html"
      ]
    },
    {
      "cell_type": "code",
      "execution_count": 30,
      "metadata": {
        "id": "b0bm8qFeqw_7"
      },
      "outputs": [],
      "source": [
        "from sklearn.model_selection import  cross_validate\n",
        "\n",
        "def cross_validation(model, _X, _y, _cv=5, scoring='f1'):\n",
        "      _scoring = ['accuracy', 'precision', 'recall', 'f1']\n",
        "      results = cross_validate(estimator=model,\n",
        "                               X=_X,\n",
        "                               y=_y,\n",
        "                               cv=_cv,\n",
        "                               scoring=_scoring,\n",
        "                               return_train_score=True)\n",
        "\n",
        "      return {\"Training Accuracy scores\": results['train_accuracy'],\n",
        "              \"Mean Training Accuracy\": results['train_accuracy'].mean()*100,\n",
        "              \"Training Precision scores\": results['train_precision'],\n",
        "              \"Mean Training Precision\": results['train_precision'].mean(),\n",
        "              \"Training Recall scores\": results['train_recall'],\n",
        "              \"Mean Training Recall\": results['train_recall'].mean(),\n",
        "              \"Training F1 scores\": results['train_f1'],\n",
        "              \"Mean Training F1 Score\": results['train_f1'].mean(),\n",
        "              \"Validation Accuracy scores\": results['test_accuracy'],\n",
        "              \"Mean Validation Accuracy\": results['test_accuracy'].mean()*100,\n",
        "              \"Validation Precision scores\": results['test_precision'],\n",
        "              \"Mean Validation Precision\": results['test_precision'].mean(),\n",
        "              \"Validation Recall scores\": results['test_recall'],\n",
        "              \"Mean Validation Recall\": results['test_recall'].mean(),\n",
        "              \"Validation F1 scores\": results['test_f1'],\n",
        "              \"Mean Validation F1 Score\": results['test_f1'].mean()\n",
        "              }"
      ]
    },
    {
      "cell_type": "code",
      "execution_count": 31,
      "metadata": {
        "colab": {
          "base_uri": "https://localhost:8080/"
        },
        "id": "MdkEkbjzsIJu",
        "outputId": "94800c4c-118b-4e4e-aa67-70818b7a9b7e"
      },
      "outputs": [],
      "source": [
        "# Modelo de regresión logística\n",
        "log_model = LogisticRegression(class_weight=\"balanced\", random_state=0, max_iter=300)\n",
        "# Evaluación del modelo 2\n",
        "log_model_2_result = cross_validation(log_model, X_class, y_class, 5)"
      ]
    },
    {
      "cell_type": "code",
      "execution_count": 32,
      "metadata": {},
      "outputs": [
        {
          "data": {
            "text/plain": [
              "{'Training Accuracy scores': array([0.76710098, 0.77361564, 0.76872964, 0.75121951, 0.76260163]),\n",
              " 'Mean Training Accuracy': 76.46534784566089,\n",
              " 'Training Precision scores': array([0.6473029 , 0.65060241, 0.64516129, 0.625     , 0.63967611]),\n",
              " 'Mean Training Precision': 0.6415485435771549,\n",
              " 'Training Recall scores': array([0.72897196, 0.75700935, 0.74766355, 0.72093023, 0.73488372]),\n",
              " 'Mean Training Recall': 0.7378917626602913,\n",
              " 'Training F1 scores': array([0.68571429, 0.69978402, 0.69264069, 0.66954644, 0.68398268]),\n",
              " 'Mean Training F1 Score': 0.6863336231802755,\n",
              " 'Validation Accuracy scores': array([0.77272727, 0.7012987 , 0.75324675, 0.83006536, 0.74509804]),\n",
              " 'Mean Validation Accuracy': 76.04872251931076,\n",
              " 'Validation Precision scores': array([0.65079365, 0.55882353, 0.63793103, 0.72881356, 0.62962963]),\n",
              " 'Mean Validation Precision': 0.6411982807279676,\n",
              " 'Validation Recall scores': array([0.75925926, 0.7037037 , 0.68518519, 0.81132075, 0.64150943]),\n",
              " 'Mean Validation Recall': 0.7201956673654787,\n",
              " 'Validation F1 scores': array([0.7008547 , 0.62295082, 0.66071429, 0.76785714, 0.63551402]),\n",
              " 'Mean Validation F1 Score': 0.6775781935579699}"
            ]
          },
          "execution_count": 32,
          "metadata": {},
          "output_type": "execute_result"
        }
      ],
      "source": [
        "log_model_2_result"
      ]
    },
    {
      "cell_type": "code",
      "execution_count": 33,
      "metadata": {},
      "outputs": [
        {
          "name": "stdout",
          "output_type": "stream",
          "text": [
            "Mean Training F1 Score:  0.6863336231802755 \n",
            "Mean Validation F1 Score:  0.6775781935579699\n"
          ]
        }
      ],
      "source": [
        "print(\"Mean Training F1 Score: \", log_model_2_result['Mean Training F1 Score'],\n",
        "      \"\\nMean Validation F1 Score: \", log_model_2_result['Mean Validation F1 Score'])"
      ]
    },
    {
      "cell_type": "code",
      "execution_count": null,
      "metadata": {
        "colab": {
          "base_uri": "https://localhost:8080/"
        },
        "id": "zf1g8aLUyfdV",
        "outputId": "43fe6f26-d1f5-417e-842a-48873f6408f8"
      },
      "outputs": [],
      "source": [
        "# Otra alternativa utilizando LogisticRegressionCV\n",
        "from sklearn.linear_model import LogisticRegressionCV\n",
        "\n",
        "# Definición de modelo y ajuste a todos los datos\n",
        "clf = LogisticRegressionCV(cv=10, random_state=0, class_weight=\"balanced\", scoring='f1', max_iter=300).fit(X_class, y_class)\n",
        "\n",
        "print(\"Score: \", clf.score(X_class, y_class))"
      ]
    },
    {
      "cell_type": "markdown",
      "metadata": {
        "id": "n31JcMFu1eVl"
      },
      "source": [
        "### LeaveOneOut Cross-Validation\n",
        "\n",
        "Proporciona índices de entrenamiento/prueba para dividir datos en conjuntos de entrenamiento/prueba. Cada muestra se usa una vez como conjunto de prueba (singleton) mientras que las muestras restantes forman el conjunto de entrenamiento.\n",
        "\n",
        "https://scikit-learn.org/stable/modules/generated/sklearn.model_selection.LeaveOneOut.html"
      ]
    },
    {
      "cell_type": "code",
      "execution_count": null,
      "metadata": {},
      "outputs": [],
      "source": [
        "X_class = X_class.values\n",
        "y_class = y_class.values"
      ]
    },
    {
      "cell_type": "code",
      "execution_count": null,
      "metadata": {
        "id": "f30NTHFq1enO"
      },
      "outputs": [],
      "source": [
        "from sklearn.model_selection import LeaveOneOut\n",
        "from sklearn.metrics import accuracy_score, f1_score\n",
        "\n",
        "# create loocv procedure\n",
        "cv = LeaveOneOut()\n",
        "\n",
        "# Listas de valores predichos y valores reales\n",
        "y_true, y_pred = list(), list()\n",
        "\n",
        "for train_ix, test_ix in cv.split(X_class):\n",
        "  # split data\n",
        "  X_train, X_test = X_class[train_ix, :], X_class[test_ix, :]\n",
        "  y_train, y_test = y_class[train_ix], y_class[test_ix]\n",
        "  # fit model\n",
        "  model_log_3 = LogisticRegression(class_weight=\"balanced\", random_state=0, max_iter=1000)\n",
        "  model_log_3.fit(X_train, y_train)\n",
        "  # evaluate model\n",
        "  yhat = model_log_3.predict(X_test)\n",
        "  # store\n",
        "  y_true.append(y_test[0])\n",
        "  y_pred.append(yhat[0])\n",
        "\n",
        "# Metricas de evaluación\n",
        "acc = accuracy_score(y_true, y_pred)\n",
        "print('Accuracy: %.3f' % acc)\n",
        "f1 = f1_score(y_true, y_pred)\n",
        "print('F1 score: %.3f' % f1)"
      ]
    }
  ],
  "metadata": {
    "colab": {
      "provenance": []
    },
    "kernelspec": {
      "display_name": "Python 3",
      "name": "python3"
    },
    "language_info": {
      "codemirror_mode": {
        "name": "ipython",
        "version": 3
      },
      "file_extension": ".py",
      "mimetype": "text/x-python",
      "name": "python",
      "nbconvert_exporter": "python",
      "pygments_lexer": "ipython3",
      "version": "3.9.7"
    }
  },
  "nbformat": 4,
  "nbformat_minor": 0
}
