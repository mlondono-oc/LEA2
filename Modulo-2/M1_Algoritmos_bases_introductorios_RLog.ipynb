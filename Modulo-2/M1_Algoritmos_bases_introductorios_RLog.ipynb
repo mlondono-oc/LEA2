{
  "cells": [
    {
      "cell_type": "markdown",
      "metadata": {
        "id": "iDvzYGCKSNxi"
      },
      "source": [
        "# Preparación del notebook"
      ]
    },
    {
      "cell_type": "code",
      "execution_count": null,
      "metadata": {
        "id": "WTVxUTQXUJu1"
      },
      "outputs": [],
      "source": [
        "import warnings\n",
        "\n",
        "warnings.filterwarnings(\"ignore\")"
      ]
    },
    {
      "cell_type": "code",
      "execution_count": null,
      "metadata": {
        "id": "P-SI2is1xMbo"
      },
      "outputs": [],
      "source": [
        "# Importar librerias necesarias\n",
        "import pandas as pd\n",
        "import numpy as np\n",
        "import seaborn as sns\n",
        "import matplotlib.pyplot as plt\n",
        "from sklearn.linear_model import LogisticRegression\n",
        "\n",
        "%matplotlib inline"
      ]
    },
    {
      "cell_type": "markdown",
      "metadata": {
        "id": "SZq8Qf6mxTxo"
      },
      "source": [
        "# Regresión Logística\n",
        "Consideremos un caso de uso en el que tenemos que predecir los resultados de los exámenes de los estudiantes de un curso universitario, es decir, clasificar los resultados en términos de aprobado (1) o No aprobado (0) en función de las horas de estudio dedicadas por cada estudiante.\n",
        "\n",
        "\n",
        "Se cuenta un conjunto de datos de estudiantes y su dedicación de estudio en términos de horas. A continuación se detallan las variables disponibles:\n",
        "\n",
        "\n",
        "*   Pass_or_Fail: etiqueta que tiene dos valores: 1 o 0. Un valor de 1 indica aprobación de examen y un valor de 0 indica No aprobación del examen.\n",
        "*   Self_Study_Daily: indica cuántas horas el estudiante estudia diariamente en casa para la presentación del examen\n",
        "*   Tuition_Monthly: indica cuántas horas al mes el estudiante está tomando clases particulares de tutoría.\n",
        "\n",
        "Documentación del modelo: https://scikit-learn.org/stable/modules/generated/sklearn.linear_model.LogisticRegression.html"
      ]
    },
    {
      "cell_type": "code",
      "execution_count": null,
      "metadata": {
        "colab": {
          "base_uri": "https://localhost:8080/",
          "height": 206
        },
        "id": "YfYsRoiZKnq3",
        "outputId": "001777e0-746e-4d11-b039-bd5e55e4fbcc"
      },
      "outputs": [],
      "source": [
        "# Lectura de los datos\n",
        "df_students = pd.read_csv('https://raw.githubusercontent.com/mlondono-oc/LEA2/main/Modulo-2/data/student-pass-fail-data.csv')\n",
        "df_students.head(3)"
      ]
    },
    {
      "cell_type": "markdown",
      "metadata": {
        "id": "bXHUAwz1NBvM"
      },
      "source": [
        "## Exploración de los datos"
      ]
    },
    {
      "cell_type": "code",
      "execution_count": null,
      "metadata": {
        "colab": {
          "base_uri": "https://localhost:8080/"
        },
        "id": "DN1WR7F3NFXc",
        "outputId": "a69b72cc-590f-4f8b-8dbb-d722ddc714c8"
      },
      "outputs": [],
      "source": [
        "# Tamaño del dataset\n",
        "df_students.shape"
      ]
    },
    {
      "cell_type": "code",
      "execution_count": null,
      "metadata": {
        "colab": {
          "base_uri": "https://localhost:8080/"
        },
        "id": "UF4TxGFZNQMF",
        "outputId": "e261349f-587d-4ba3-c101-ce7469c5a5ae"
      },
      "outputs": [],
      "source": [
        "# Información general del dataset\n",
        "df_students.info()"
      ]
    },
    {
      "cell_type": "code",
      "execution_count": null,
      "metadata": {
        "colab": {
          "base_uri": "https://localhost:8080/",
          "height": 300
        },
        "id": "JeWsW-_jMSjR",
        "outputId": "d3b3cea6-2cea-43d0-dfb8-5fee573edfbf"
      },
      "outputs": [],
      "source": [
        "# Exploración de los datos\n",
        "df_students.describe()"
      ]
    },
    {
      "cell_type": "code",
      "execution_count": null,
      "metadata": {
        "colab": {
          "base_uri": "https://localhost:8080/",
          "height": 143
        },
        "id": "Bli6zh-qOith",
        "outputId": "257f4cf4-bd9c-405e-8f48-ec724b80a200"
      },
      "outputs": [],
      "source": [
        "# Preparación inicial de los datos\n",
        "df_students = df_students.rename(columns = {'Pass_Or_Fail': 'target', 'Self_Study_Daily': 'self_study', 'Tution_Monthly': 'tution_monthly'})"
      ]
    },
    {
      "cell_type": "code",
      "execution_count": null,
      "metadata": {},
      "outputs": [],
      "source": [
        "df_students['target'].value_counts().plot(kind = 'bar')"
      ]
    },
    {
      "cell_type": "code",
      "execution_count": null,
      "metadata": {},
      "outputs": [],
      "source": [
        "# Veamos la distribución de los datos por clase\n",
        "plt.scatter(df_students['self_study'][df_students.target == 0],\n",
        "            df_students['tution_monthly'][df_students.target == 0],\n",
        "            marker='o',\n",
        "            color = 'red',\n",
        "            label = 'No aprueba'\n",
        "            )\n",
        "plt.scatter(df_students['self_study'][df_students.target == 1],\n",
        "            df_students['tution_monthly'][df_students.target == 1],\n",
        "            marker='D',\n",
        "            color = 'blue',\n",
        "            label = 'Aprueba'\n",
        "            )\n",
        "plt.xlabel('Dedicación propía del estudiante')\n",
        "plt.ylabel('Horas de tutoria')\n",
        "plt.legend()\n",
        "plt.show()"
      ]
    },
    {
      "cell_type": "markdown",
      "metadata": {},
      "source": [
        "\n",
        "## Marco de validación"
      ]
    },
    {
      "cell_type": "code",
      "execution_count": null,
      "metadata": {},
      "outputs": [],
      "source": [
        "# Separación de variables\n",
        "y = df_students.target\n",
        "x = df_students.drop(['target'], axis=1)"
      ]
    },
    {
      "cell_type": "code",
      "execution_count": null,
      "metadata": {},
      "outputs": [],
      "source": [
        "# Separación de los datos de entrenamiento y validación\n",
        "from sklearn.model_selection import train_test_split\n",
        "\n",
        "x_train, x_test, y_train, y_test = train_test_split(x, y, test_size=0.2, random_state=123)\n",
        "\n",
        "print('Tamaño del conjunto de entrenamiento: ', x_train.shape)\n",
        "print('Tamaño del conjunto de validación: ', x_test.shape)"
      ]
    },
    {
      "cell_type": "markdown",
      "metadata": {
        "id": "ZC2mxUKIQwNt"
      },
      "source": [
        "## Regresión Logística"
      ]
    },
    {
      "cell_type": "code",
      "execution_count": null,
      "metadata": {},
      "outputs": [],
      "source": [
        "from sklearn.metrics import accuracy_score\n",
        "\n",
        "# Entrenamiento del modelo\n",
        "modelo = LogisticRegression()\n",
        "\n",
        "# Ajustar el modelo a los datos\n",
        "modelo.fit(x_train, y_train)\n",
        "\n",
        "# Desempeño en el entrenamiento\n",
        "y_train_pred = modelo.predict(x_train)\n",
        "\n",
        "print('Exactitud en el entrenamiento: %.3f'  %accuracy_score(y_train, y_train_pred) )"
      ]
    },
    {
      "cell_type": "markdown",
      "metadata": {},
      "source": [
        "## Evaluación del modelo de regresión logística"
      ]
    },
    {
      "cell_type": "code",
      "execution_count": null,
      "metadata": {},
      "outputs": [],
      "source": [
        "y_pred = modelo.predict(x_test)\n",
        "\n",
        "# Exactitud en el conjunto de validación\n",
        "print('Exactitud en el entrenamiento: %.3f'  %accuracy_score(y_test, y_pred) )"
      ]
    },
    {
      "cell_type": "code",
      "execution_count": null,
      "metadata": {},
      "outputs": [],
      "source": [
        "from sklearn.metrics import confusion_matrix, ConfusionMatrixDisplay\n",
        "\n",
        "mc = confusion_matrix(y_test, y_pred)\n",
        "\n",
        "mc_display = ConfusionMatrixDisplay(confusion_matrix=mc, display_labels=['No aprueba', 'Aprueba'])\n",
        "mc_display.plot()\n",
        "plt.show()"
      ]
    },
    {
      "cell_type": "code",
      "execution_count": null,
      "metadata": {},
      "outputs": [],
      "source": [
        "mc"
      ]
    },
    {
      "cell_type": "code",
      "execution_count": null,
      "metadata": {},
      "outputs": [],
      "source": [
        "tn, fp, fn, tp = mc.ravel()\n",
        "\n",
        "precision = tp / (tp + fp)\n",
        "recall = tp / (tp + fn)\n",
        "especificidad = tn / (fp + tn)\n",
        "f1_score = 2*(precision*recall)/(precision+recall)\n",
        "\n",
        "print(f'Precision: {precision}')\n",
        "print(f'Recall: {recall}')\n",
        "print(f'Especificidad: {especificidad}')\n",
        "print(f'F1 score: {f1_score}')"
      ]
    },
    {
      "cell_type": "code",
      "execution_count": null,
      "metadata": {},
      "outputs": [],
      "source": [
        "from sklearn.metrics import f1_score\n",
        "print('f1_score:', f1_score(y_test, y_pred))"
      ]
    },
    {
      "cell_type": "code",
      "execution_count": null,
      "metadata": {},
      "outputs": [],
      "source": [
        "prediction_1 = modelo.predict_proba(np.array([10, 45]).reshape(1, -1))"
      ]
    },
    {
      "cell_type": "code",
      "execution_count": null,
      "metadata": {},
      "outputs": [],
      "source": [
        "prediction_1"
      ]
    },
    {
      "cell_type": "code",
      "execution_count": null,
      "metadata": {},
      "outputs": [],
      "source": [
        "modelo.classes_"
      ]
    },
    {
      "cell_type": "markdown",
      "metadata": {},
      "source": [
        "# Ejercicio\n",
        "Gráficar la curva ROC Y cálcular el AUC"
      ]
    }
  ],
  "metadata": {
    "colab": {
      "provenance": []
    },
    "kernelspec": {
      "display_name": "Python 3",
      "name": "python3"
    },
    "language_info": {
      "codemirror_mode": {
        "name": "ipython",
        "version": 3
      },
      "file_extension": ".py",
      "mimetype": "text/x-python",
      "name": "python",
      "nbconvert_exporter": "python",
      "pygments_lexer": "ipython3",
      "version": "3.9.7"
    }
  },
  "nbformat": 4,
  "nbformat_minor": 0
}
