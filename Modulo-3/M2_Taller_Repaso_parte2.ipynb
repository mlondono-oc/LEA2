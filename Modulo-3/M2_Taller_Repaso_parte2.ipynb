{
 "cells": [
  {
   "cell_type": "markdown",
   "metadata": {},
   "source": [
    "# Taller de repaso: Aprendizaje no supervisado - parte 2"
   ]
  },
  {
   "cell_type": "markdown",
   "metadata": {},
   "source": [
    "## Preparación del notebook"
   ]
  },
  {
   "cell_type": "code",
   "execution_count": 1,
   "metadata": {},
   "outputs": [],
   "source": [
    "import numpy as np\n",
    "import matplotlib.pyplot as plt\n",
    "import pandas as pd\n",
    "import seaborn as sns\n",
    "\n",
    "from sklearn.preprocessing import StandardScaler\n",
    "from sklearn.metrics import silhouette_score, calinski_harabasz_score\n",
    "#!pip install kneed\n",
    "from kneed import KneeLocator\n",
    "\n",
    "from scipy.spatial.distance import cdist\n",
    "from sklearn.cluster import KMeans, DBSCAN\n",
    "from sklearn.neighbors import NearestNeighbors\n",
    "from sklearn.decomposition import PCA, FactorAnalysis\n",
    "\n",
    "#!pip install factor_analyzer\n",
    "from factor_analyzer import FactorAnalyzer\n",
    "\n",
    "#!pip install plotly\n",
    "import plotly.express as px"
   ]
  },
  {
   "cell_type": "code",
   "execution_count": 2,
   "metadata": {},
   "outputs": [],
   "source": [
    "import warnings\n",
    "warnings.filterwarnings('ignore')"
   ]
  },
  {
   "cell_type": "markdown",
   "metadata": {},
   "source": [
    "## Lectura del dataset"
   ]
  },
  {
   "cell_type": "code",
   "execution_count": 3,
   "metadata": {},
   "outputs": [
    {
     "data": {
      "text/html": [
       "<div>\n",
       "<style scoped>\n",
       "    .dataframe tbody tr th:only-of-type {\n",
       "        vertical-align: middle;\n",
       "    }\n",
       "\n",
       "    .dataframe tbody tr th {\n",
       "        vertical-align: top;\n",
       "    }\n",
       "\n",
       "    .dataframe thead th {\n",
       "        text-align: right;\n",
       "    }\n",
       "</style>\n",
       "<table border=\"1\" class=\"dataframe\">\n",
       "  <thead>\n",
       "    <tr style=\"text-align: right;\">\n",
       "      <th></th>\n",
       "      <th>Unnamed: 0</th>\n",
       "      <th>id</th>\n",
       "      <th>Gender</th>\n",
       "      <th>Customer Type</th>\n",
       "      <th>Age</th>\n",
       "      <th>Type of Travel</th>\n",
       "      <th>Class</th>\n",
       "      <th>Flight Distance</th>\n",
       "      <th>Inflight wifi service</th>\n",
       "      <th>Departure/Arrival time convenient</th>\n",
       "      <th>...</th>\n",
       "      <th>Inflight entertainment</th>\n",
       "      <th>On-board service</th>\n",
       "      <th>Leg room service</th>\n",
       "      <th>Baggage handling</th>\n",
       "      <th>Checkin service</th>\n",
       "      <th>Inflight service</th>\n",
       "      <th>Cleanliness</th>\n",
       "      <th>Departure Delay in Minutes</th>\n",
       "      <th>Arrival Delay in Minutes</th>\n",
       "      <th>satisfaction</th>\n",
       "    </tr>\n",
       "  </thead>\n",
       "  <tbody>\n",
       "    <tr>\n",
       "      <th>0</th>\n",
       "      <td>0</td>\n",
       "      <td>70172</td>\n",
       "      <td>Male</td>\n",
       "      <td>Loyal Customer</td>\n",
       "      <td>13</td>\n",
       "      <td>Personal Travel</td>\n",
       "      <td>Eco Plus</td>\n",
       "      <td>460</td>\n",
       "      <td>3</td>\n",
       "      <td>4</td>\n",
       "      <td>...</td>\n",
       "      <td>5</td>\n",
       "      <td>4</td>\n",
       "      <td>3</td>\n",
       "      <td>4</td>\n",
       "      <td>4</td>\n",
       "      <td>5</td>\n",
       "      <td>5</td>\n",
       "      <td>25</td>\n",
       "      <td>18.0</td>\n",
       "      <td>neutral or dissatisfied</td>\n",
       "    </tr>\n",
       "    <tr>\n",
       "      <th>1</th>\n",
       "      <td>1</td>\n",
       "      <td>5047</td>\n",
       "      <td>Male</td>\n",
       "      <td>disloyal Customer</td>\n",
       "      <td>25</td>\n",
       "      <td>Business travel</td>\n",
       "      <td>Business</td>\n",
       "      <td>235</td>\n",
       "      <td>3</td>\n",
       "      <td>2</td>\n",
       "      <td>...</td>\n",
       "      <td>1</td>\n",
       "      <td>1</td>\n",
       "      <td>5</td>\n",
       "      <td>3</td>\n",
       "      <td>1</td>\n",
       "      <td>4</td>\n",
       "      <td>1</td>\n",
       "      <td>1</td>\n",
       "      <td>6.0</td>\n",
       "      <td>neutral or dissatisfied</td>\n",
       "    </tr>\n",
       "    <tr>\n",
       "      <th>2</th>\n",
       "      <td>2</td>\n",
       "      <td>110028</td>\n",
       "      <td>Female</td>\n",
       "      <td>Loyal Customer</td>\n",
       "      <td>26</td>\n",
       "      <td>Business travel</td>\n",
       "      <td>Business</td>\n",
       "      <td>1142</td>\n",
       "      <td>2</td>\n",
       "      <td>2</td>\n",
       "      <td>...</td>\n",
       "      <td>5</td>\n",
       "      <td>4</td>\n",
       "      <td>3</td>\n",
       "      <td>4</td>\n",
       "      <td>4</td>\n",
       "      <td>4</td>\n",
       "      <td>5</td>\n",
       "      <td>0</td>\n",
       "      <td>0.0</td>\n",
       "      <td>satisfied</td>\n",
       "    </tr>\n",
       "  </tbody>\n",
       "</table>\n",
       "<p>3 rows × 25 columns</p>\n",
       "</div>"
      ],
      "text/plain": [
       "   Unnamed: 0      id  Gender      Customer Type  Age   Type of Travel  \\\n",
       "0           0   70172    Male     Loyal Customer   13  Personal Travel   \n",
       "1           1    5047    Male  disloyal Customer   25  Business travel   \n",
       "2           2  110028  Female     Loyal Customer   26  Business travel   \n",
       "\n",
       "      Class  Flight Distance  Inflight wifi service  \\\n",
       "0  Eco Plus              460                      3   \n",
       "1  Business              235                      3   \n",
       "2  Business             1142                      2   \n",
       "\n",
       "   Departure/Arrival time convenient  ...  Inflight entertainment  \\\n",
       "0                                  4  ...                       5   \n",
       "1                                  2  ...                       1   \n",
       "2                                  2  ...                       5   \n",
       "\n",
       "   On-board service  Leg room service  Baggage handling  Checkin service  \\\n",
       "0                 4                 3                 4                4   \n",
       "1                 1                 5                 3                1   \n",
       "2                 4                 3                 4                4   \n",
       "\n",
       "   Inflight service  Cleanliness  Departure Delay in Minutes  \\\n",
       "0                 5            5                          25   \n",
       "1                 4            1                           1   \n",
       "2                 4            5                           0   \n",
       "\n",
       "   Arrival Delay in Minutes             satisfaction  \n",
       "0                      18.0  neutral or dissatisfied  \n",
       "1                       6.0  neutral or dissatisfied  \n",
       "2                       0.0                satisfied  \n",
       "\n",
       "[3 rows x 25 columns]"
      ]
     },
     "execution_count": 3,
     "metadata": {},
     "output_type": "execute_result"
    }
   ],
   "source": [
    "# Lectura del dataset\n",
    "df = pd.read_csv('https://raw.githubusercontent.com/mlondono-oc/LEA2/main/Modulo-3/data/train.csv')\n",
    "df.head(3)"
   ]
  },
  {
   "cell_type": "markdown",
   "metadata": {},
   "source": [
    "## Pre-procesamiento"
   ]
  },
  {
   "cell_type": "code",
   "execution_count": null,
   "metadata": {},
   "outputs": [],
   "source": [
    "# Eliminación de variables no significativas\n",
    "df.drop(['Unnamed: 0', 'id', 'Arrival Delay in Minutes'], axis=1, inplace=True)\n",
    "# Tomas una muestra aleatoria\n",
    "df_sample = df.sample(n=2500, random_state=123)\n",
    "df_sample.reset_index(drop=True, inplace=True)\n",
    "\n",
    "# Codificación de variable satisfacción\n",
    "train_df1 = df_sample.copy()\n",
    "train_df1['satisfaction'] = train_df1['satisfaction'].map({'neutral or dissatisfied':0, 'satisfied':1})\n",
    "train_df1['Gender'] = train_df1['Gender'].map({'Female':0, 'Male':1})\n",
    "train_df1['Customer Type'] = train_df1['Customer Type'].map({'disloyal Customer':0, 'Loyal Customer':1})\n",
    "train_df1['Type of Travel'] = train_df1['Type of Travel'].map({'Personal Travel':0, 'Business travel':1})\n",
    "train_df1['Class'] = train_df1['Class'].map({'Eco':1, 'Eco Plus':2, 'Business':3})\n",
    "\n",
    "# Escalado de variables numéricas\n",
    "train_cols = train_df1[['Age', 'Flight Distance', 'Departure Delay in Minutes']]\n",
    "scaler = StandardScaler()\n",
    "scaled_train_df1 = pd.DataFrame(scaler.fit_transform(train_cols), columns = train_cols.columns)\n",
    "\n",
    "#  Union de data numéricas  y categórica\n",
    "cols = ['Age', 'Flight Distance', 'Departure Delay in Minutes']\n",
    "train_df1[cols] = scaled_train_df1\n",
    "\n",
    "# Tratamiento de valores atípicos\n",
    "train_df1_out = train_df1.copy()\n",
    "# Identificación de valores atípicos\n",
    "media = train_df1_out.mean()\n",
    "std = train_df1_out.std()\n",
    "lim_superior = media + 3 * std\n",
    "lim_inferior = media - 3 * std\n",
    "outliers = train_df1_out[(train_df1_out > lim_superior)|(train_df1_out < lim_inferior)].stack()\n",
    "train_df1_out = train_df1_out.drop(outliers.index.get_level_values(0))\n",
    "train_df1_out.head(3)"
   ]
  },
  {
   "cell_type": "markdown",
   "metadata": {},
   "source": [
    "## Reducción de la dimensionalidad"
   ]
  },
  {
   "cell_type": "code",
   "execution_count": null,
   "metadata": {},
   "outputs": [],
   "source": [
    "#Cree un dataset reducido que proporcione el 85% de la varianza de entrada que debe explicarse\n",
    "pca = PCA(n_components=3).fit(train_df1_out)\n",
    "\n",
    "#Por último, transforme \"train_df1\"\n",
    "X_pca = pca.fit_transform(train_df1_out)\n",
    "X_pca[:3]"
   ]
  },
  {
   "cell_type": "code",
   "execution_count": null,
   "metadata": {},
   "outputs": [],
   "source": [
    "df_final = train_df1_out.copy()\n",
    "df_final['PCA1'] = X_pca[:,0]\n",
    "df_final['PCA2'] = X_pca[:,1]\n",
    "df_final['PCA3'] = X_pca[:,2]\n",
    "df_final.head(3)"
   ]
  },
  {
   "cell_type": "markdown",
   "metadata": {},
   "source": [
    "Las loadings o cargas pueden interpretarse como el peso/importancia que tiene cada variable en cada componente y, por lo tanto, ayudan a conocer que tipo de información recoge cada una de las componentes."
   ]
  },
  {
   "cell_type": "code",
   "execution_count": null,
   "metadata": {},
   "outputs": [],
   "source": [
    "# --- Pesos de las variables que componen las componentes principales ---\n",
    "pesos_pca = pd.DataFrame(pca.components_, columns = train_df1_out.columns,\n",
    "             index = ['PC 1', 'PC 2', 'PC 3']).round(2).T\n",
    "\n",
    "pesos_pca"
   ]
  },
  {
   "cell_type": "markdown",
   "metadata": {},
   "source": [
    "## Modelo K-means"
   ]
  },
  {
   "cell_type": "code",
   "execution_count": null,
   "metadata": {},
   "outputs": [],
   "source": [
    "# Número optimo de K\n",
    "inertia_list = []\n",
    "\n",
    "for i in range(1, 11):\n",
    "    kmeans = KMeans(n_clusters=i, init='k-means++', random_state=3)\n",
    "    kmeans.fit(X_pca)\n",
    "    inertia_list.append(kmeans.inertia_)\n",
    "\n",
    "# plot the inertia curve\n",
    "plt.plot(range(1,11),inertia_list)\n",
    "plt.scatter(range(1,11),inertia_list)\n",
    "plt.xlabel(\"Number of Clusters\", size=10)\n",
    "plt.ylabel(\"Inertia Value\", size=10)\n",
    "plt.title(\"Different Inertia Values for Different Number of Clusters\", size=12)\n",
    "plt.show()"
   ]
  },
  {
   "cell_type": "code",
   "execution_count": null,
   "metadata": {},
   "outputs": [],
   "source": [
    "kmeans_constants = {\"init\": \"k-means++\", \"n_init\": 100, \"max_iter\": 500, \"random_state\": 42}\n",
    "\n",
    "# --- Modelo K-means ---\n",
    "model_kmeans = KMeans(n_clusters = 4, **kmeans_constants)\n",
    "model_kmeans.fit(X_pca)"
   ]
  },
  {
   "cell_type": "code",
   "execution_count": null,
   "metadata": {},
   "outputs": [],
   "source": [
    "# --- Evaluación del modelo kmeans ---\n",
    "print(\" ### K-MEANS ###\")\n",
    "print('Inertia: ', model_kmeans.inertia_)\n",
    "print('Silhouette Score: ', silhouette_score(X_pca, model_kmeans.labels_))\n",
    "print('Calinski harabasz score: ', calinski_harabasz_score(X_pca, model_kmeans.labels_))"
   ]
  },
  {
   "cell_type": "code",
   "execution_count": null,
   "metadata": {},
   "outputs": [],
   "source": [
    "# Predicción de los clusters\n",
    "Cluster_1 = model_kmeans.fit_predict(X_pca)\n",
    "\n",
    "df_final['Cluster_1']= Cluster_1\n",
    "\n",
    "# A partir de ahora, sólo trabajaremos con \"df_final\"\n",
    "df_final.head(3)"
   ]
  },
  {
   "cell_type": "code",
   "execution_count": null,
   "metadata": {},
   "outputs": [],
   "source": [
    "# 3d scatterplot using plotly.express\n",
    "fig = px.scatter_3d(df_final, x=\"PCA1\", y=\"PCA2\", z=\"PCA3\", color=\"Cluster_1\")\n",
    "fig.update_layout(width=1000, height=700)\n",
    "fig.show()"
   ]
  },
  {
   "cell_type": "code",
   "execution_count": null,
   "metadata": {},
   "outputs": [],
   "source": [
    "fig = px.scatter(df_final, x=\"PCA1\", y=\"PCA2\", color=\"Cluster_1\")\n",
    "fig.update_layout(width=1000, height=700)\n",
    "fig.show(config={'displayModeBar': False})"
   ]
  },
  {
   "cell_type": "markdown",
   "metadata": {},
   "source": [
    "## Interpretación clusters"
   ]
  },
  {
   "cell_type": "code",
   "execution_count": null,
   "metadata": {},
   "outputs": [],
   "source": [
    "# Conversión de variables numéricas a valores originales\n",
    "train_cols = train_df1_out[['Age', 'Flight Distance', 'Departure Delay in Minutes']]\n",
    "scaled_train_df1 = pd.DataFrame(scaler.inverse_transform(train_cols), columns = train_cols.columns)\n",
    "\n",
    "# Union de data numéricas y categórica\n",
    "cols = ['Age', 'Flight Distance', 'Departure Delay in Minutes']\n",
    "df_final[cols] = scaled_train_df1\n",
    "df_final.head(3)"
   ]
  },
  {
   "cell_type": "code",
   "execution_count": null,
   "metadata": {},
   "outputs": [],
   "source": [
    "# Composición de los clusters formados\n",
    "sns.countplot(x=\"Cluster_1\",data=df_final, palette=\"Set2\", order = df_final['Cluster_1'].value_counts().index)"
   ]
  },
  {
   "cell_type": "code",
   "execution_count": null,
   "metadata": {},
   "outputs": [],
   "source": [
    "# Composición de los clusters - Media de las variables por cluster\n",
    "df_final.groupby(['Cluster_1']).mean()"
   ]
  },
  {
   "cell_type": "code",
   "execution_count": null,
   "metadata": {},
   "outputs": [],
   "source": [
    "# Variables Categóricas\n",
    "cat_cols = ['Gender', 'Customer Type', 'Type of Travel', 'Class', 'satisfaction']\n",
    "\n",
    "pal=['autumn','cool','magma','spring','winter'] # 5 color palettes for 5 categorical vars\n",
    "    \n",
    "fig,axs=plt.subplots(ncols=5,figsize =(30, 10))\n",
    "\n",
    "for idx,i in enumerate(df_final[cat_cols].columns):\n",
    "    plt.title(i)\n",
    "    sns.histplot(data=df_final,x='Cluster_1', hue=i, palette=pal[idx], binwidth=.5, ax=axs[idx] ,multiple='dodge')"
   ]
  },
  {
   "cell_type": "code",
   "execution_count": null,
   "metadata": {},
   "outputs": [],
   "source": [
    "# Análisis de la edad\n",
    "temp_edad = df_final[['Cluster_1','Age']]\n",
    "fig,axs=plt.subplots(ncols=4,figsize =(25, 10))\n",
    "\n",
    "for i in list(range(0,4)):\n",
    "    plt.title(i)\n",
    "    sns.histplot(data=temp_edad[temp_edad.Cluster_1==i],x='Age',hue='Cluster_1',palette=pal[i],binwidth=.8,ax=axs[i],multiple='dodge')"
   ]
  },
  {
   "cell_type": "code",
   "execution_count": null,
   "metadata": {},
   "outputs": [],
   "source": [
    "# Análisis de la distancia recorrida\n",
    "temp_distancia = df_final[['Cluster_1','Flight Distance']]\n",
    "fig,axs=plt.subplots(ncols=4,figsize =(25, 10))\n",
    "\n",
    "for i in list(range(0,4)):\n",
    "    plt.title(i)\n",
    "    sns.histplot(data=temp_distancia[temp_distancia.Cluster_1==i],x='Flight Distance',hue='Cluster_1',palette=pal[i],binwidth=.8,ax=axs[i],multiple='dodge')"
   ]
  },
  {
   "cell_type": "code",
   "execution_count": null,
   "metadata": {},
   "outputs": [],
   "source": [
    "# Analisis de la encuesta\n",
    "temp_encuesta = df_final.columns[6:20]\n",
    "df_final[\"Average_point\"]=round(df_final[temp_encuesta].mean(axis=1),3)\n",
    "\n",
    "fig,axs=plt.subplots(ncols=4,figsize =(25, 10),sharex=True)\n",
    "\n",
    "for i in list(range(0,4)):\n",
    "    plt.title(i)\n",
    "    sns.histplot(data=df_final[df_final.Cluster_1==i],x=\"Average_point\",hue=\"Cluster_1\",palette=pal[i],binwidth=.5,ax=axs[i],multiple='dodge')"
   ]
  },
  {
   "cell_type": "code",
   "execution_count": null,
   "metadata": {},
   "outputs": [],
   "source": [
    "df_final[df_final['Cluster_1']==3]['Customer Type'].value_counts(normalize=True)"
   ]
  },
  {
   "cell_type": "markdown",
   "metadata": {},
   "source": [
    "###  Summary\n",
    "\n",
    "**Cluster 0**\n",
    "\n",
    "\n",
    "**Cluster 1**\n",
    "\n",
    "\n",
    "**Cluster 2**\n",
    "\n",
    "\n",
    "**Cluster 3**\n",
    "\n"
   ]
  },
  {
   "cell_type": "markdown",
   "metadata": {},
   "source": [
    "## Análisis de  factores"
   ]
  },
  {
   "cell_type": "markdown",
   "metadata": {},
   "source": [
    "### Prueba de adecuación\n",
    "\n",
    "La prueba de esfericidad de Bartlett verifica si las variables observadas se intercorrelacionan o no utilizando la matriz de correlación observada contra la matriz de identidad. Si la prueba resulta estadísticamente insignificante, no se debe emplear un análisis factorial.\n",
    "\n",
    "En esta prueba de Bartlett, el valor p es 0. La prueba fue estadísticamente significativa, lo que indica que la matriz de correlación observada no es una matriz de identidad."
   ]
  },
  {
   "cell_type": "code",
   "execution_count": null,
   "metadata": {},
   "outputs": [],
   "source": [
    "from factor_analyzer.factor_analyzer import calculate_bartlett_sphericity\n",
    "\n",
    "# Selección de variables de encuestas\n",
    "df_fa = train_df1_out[train_df1_out.columns[6:20]] \n",
    "\n",
    "# Aplicación de la prueba bartlett_sphericity\n",
    "chi_square_value, p_value = calculate_bartlett_sphericity(df_fa)\n",
    "chi_square_value, p_value"
   ]
  },
  {
   "cell_type": "markdown",
   "metadata": {},
   "source": [
    "La prueba KMO mide la idoneidad de los datos para el análisis factorial. Determina la adecuación para cada variable observada y para el modelo completo. KMO estima la proporción de varianza entre todas las variables observadas. Una proporción más baja es más adecuada para el análisis factorial. Los valores de KMO oscilan entre 0 y 1. Un valor de KMO inferior a 0,6 se considera inadecuado.\n",
    "\n",
    "El KMO general de nuestros datos es 0.78, lo cual es excelente. Este valor indica que puede continuar con el análisis factorial planificado."
   ]
  },
  {
   "cell_type": "code",
   "execution_count": null,
   "metadata": {},
   "outputs": [],
   "source": [
    "from factor_analyzer.factor_analyzer import calculate_kmo\n",
    "\n",
    "# Aplicación de la prueba KMO\n",
    "kmo_all,kmo_model=calculate_kmo(df_fa)\n",
    "kmo_model"
   ]
  },
  {
   "cell_type": "markdown",
   "metadata": {},
   "source": [
    "### Elección del número de factores"
   ]
  },
  {
   "cell_type": "code",
   "execution_count": null,
   "metadata": {},
   "outputs": [],
   "source": [
    "# Crear un objeto de análisis factorial y realizar un análisis factorial\n",
    "fa = FactorAnalyzer(15, rotation=None)\n",
    "fa.fit(df_fa)\n",
    "\n",
    "# Check Eigenvalues\n",
    "ev, v = fa.get_eigenvalues()\n",
    "ev"
   ]
  },
  {
   "cell_type": "code",
   "execution_count": null,
   "metadata": {},
   "outputs": [],
   "source": [
    "# Diagrama con valores propios\n",
    "plt.scatter(range(1,df_fa.shape[1]+1),ev)\n",
    "plt.plot(range(1,df_fa.shape[1]+1),ev)\n",
    "plt.title('Scree Plot')\n",
    "plt.xlabel('Factors')\n",
    "plt.ylabel('Eigenvalue')\n",
    "plt.grid()\n",
    "plt.show()"
   ]
  },
  {
   "cell_type": "markdown",
   "metadata": {},
   "source": [
    "Aquí sólo utilizaremos 3 factores, dada la gran caída del valor propio después del tercer factor. Veamos qué factores se crean y qué variables contienen."
   ]
  },
  {
   "cell_type": "markdown",
   "metadata": {},
   "source": [
    "### Aplicación de análisis factorial"
   ]
  },
  {
   "cell_type": "code",
   "execution_count": null,
   "metadata": {},
   "outputs": [],
   "source": [
    "# Analisis factorial\n",
    "fa = FactorAnalyzer(3, rotation='varimax')\n",
    "fa.fit(df_fa)\n",
    "\n",
    "# Cargas\n",
    "loads = fa.loadings_\n",
    "\n",
    "# Cargas por cada variable y factor\n",
    "print(pd.DataFrame(fa.loadings_,index=df_fa.columns))"
   ]
  },
  {
   "cell_type": "markdown",
   "metadata": {},
   "source": [
    "He aquí los 3 factores, las variables que contienen y su posible \"interpretabilidad\":\n",
    "\n",
    "* Comodidad: Comida y bebida, Comodidad del asiento, Entretenimiento a bordo, Limpieza\n",
    "\n",
    "* Servicio: Servicio a bordo, Gestión de equipajes, Servicio a bordo\n",
    "\n",
    "* Conveniencia: Wifi en vuelo, Comodidad de la hora de salida/llegada, Reserva en línea, Ubicación de la puerta de embarque."
   ]
  },
  {
   "cell_type": "code",
   "execution_count": null,
   "metadata": {},
   "outputs": [],
   "source": [
    "# Varianza explicada por cada factor\n",
    "print(pd.DataFrame(fa.get_factor_variance(),index=['Variance','Proportional Var','Cumulative Var']))"
   ]
  },
  {
   "cell_type": "code",
   "execution_count": null,
   "metadata": {},
   "outputs": [],
   "source": [
    "# Análisis de comunalidad\n",
    "print(pd.DataFrame(fa.get_communalities(),index=df_fa.columns,columns=['Communalities']))"
   ]
  },
  {
   "cell_type": "code",
   "execution_count": null,
   "metadata": {},
   "outputs": [],
   "source": [
    "# Transformación del dataset\n",
    "X_fa = fa.fit_transform(df_fa)\n",
    "X_fa.shape"
   ]
  }
 ],
 "metadata": {
  "kernelspec": {
   "display_name": "base",
   "language": "python",
   "name": "python3"
  },
  "language_info": {
   "codemirror_mode": {
    "name": "ipython",
    "version": 3
   },
   "file_extension": ".py",
   "mimetype": "text/x-python",
   "name": "python",
   "nbconvert_exporter": "python",
   "pygments_lexer": "ipython3",
   "version": "3.9.7"
  },
  "orig_nbformat": 4
 },
 "nbformat": 4,
 "nbformat_minor": 2
}
