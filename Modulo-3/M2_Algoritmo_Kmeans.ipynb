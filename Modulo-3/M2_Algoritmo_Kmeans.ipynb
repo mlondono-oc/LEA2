{
  "cells": [
    {
      "cell_type": "markdown",
      "metadata": {
        "id": "zTpJdd7Xjpo4"
      },
      "source": [
        "## Preparación del notebook"
      ]
    },
    {
      "cell_type": "code",
      "execution_count": null,
      "metadata": {
        "colab": {
          "base_uri": "https://localhost:8080/"
        },
        "id": "tgr9g7XrkMNy",
        "outputId": "0380508e-b36f-4887-b495-0ae5a2ee64fa"
      },
      "outputs": [],
      "source": [
        "%pip install kneed"
      ]
    },
    {
      "cell_type": "code",
      "execution_count": null,
      "metadata": {
        "id": "CM6oz9ovjpVB"
      },
      "outputs": [],
      "source": [
        "# Importar librerias\n",
        "import pandas as pd\n",
        "import numpy as np\n",
        "import matplotlib.pyplot as plt\n",
        "from sklearn.cluster import KMeans\n",
        "from sklearn.preprocessing import StandardScaler\n",
        "import matplotlib.pyplot as plt\n",
        "from kneed import KneeLocator\n",
        "from sklearn.datasets import make_blobs\n",
        "from sklearn.metrics import silhouette_score"
      ]
    },
    {
      "cell_type": "markdown",
      "metadata": {
        "id": "NK-fejfzkSoE"
      },
      "source": [
        "## Creación de dataset"
      ]
    },
    {
      "cell_type": "code",
      "execution_count": null,
      "metadata": {
        "id": "1sIdLx9Ckgc7"
      },
      "outputs": [],
      "source": [
        "#Creación sintética de clusters\n",
        "features, true_labels = make_blobs(n_samples=300,\n",
        "                                   centers=3,\n",
        "                                   cluster_std= 3.5,\n",
        "                                   random_state=42)"
      ]
    },
    {
      "cell_type": "code",
      "execution_count": null,
      "metadata": {
        "colab": {
          "base_uri": "https://localhost:8080/"
        },
        "id": "SejdwLa-mFaG",
        "outputId": "ae1ab312-60e7-4f86-d06b-396131a45a9f"
      },
      "outputs": [],
      "source": [
        "features[:5]"
      ]
    },
    {
      "cell_type": "code",
      "execution_count": null,
      "metadata": {
        "colab": {
          "base_uri": "https://localhost:8080/"
        },
        "id": "7GUz7ri9mU7x",
        "outputId": "c8685049-6e89-4f54-f35b-99e31a9dd69f"
      },
      "outputs": [],
      "source": [
        "true_labels[:5]"
      ]
    },
    {
      "cell_type": "markdown",
      "metadata": {
        "id": "q8sUgzE4m_Rh"
      },
      "source": [
        "## Preprocesamiento de los datos"
      ]
    },
    {
      "cell_type": "code",
      "execution_count": null,
      "metadata": {
        "id": "d5I8T8oYZ3FP"
      },
      "outputs": [],
      "source": [
        "# Escalado de características\n",
        "scaler = StandardScaler()\n",
        "scaled_features = scaler.fit_transform(features)"
      ]
    },
    {
      "cell_type": "code",
      "execution_count": null,
      "metadata": {
        "colab": {
          "base_uri": "https://localhost:8080/"
        },
        "id": "uCFan9SznhgH",
        "outputId": "aa72a6af-7a77-4bcc-ca39-6082aa784fe9"
      },
      "outputs": [],
      "source": [
        "scaled_features[:5]"
      ]
    },
    {
      "cell_type": "markdown",
      "metadata": {
        "id": "h9ex8beLjoTg"
      },
      "source": [
        "## Algoritmo K-means\n",
        "\n",
        "https://scikit-learn.org/stable/modules/generated/sklearn.cluster.KMeans.html"
      ]
    },
    {
      "cell_type": "code",
      "execution_count": null,
      "metadata": {
        "id": "6WSDNCHqoh5g"
      },
      "outputs": [],
      "source": [
        "# Creación de modelo de Kmeans\n",
        "kmeans = KMeans(init=\"random\",\n",
        "                n_clusters=3,\n",
        "                n_init=10,\n",
        "                max_iter=100,\n",
        "                random_state=42)"
      ]
    },
    {
      "cell_type": "code",
      "execution_count": null,
      "metadata": {
        "colab": {
          "base_uri": "https://localhost:8080/",
          "height": 75
        },
        "id": "P-X0xvnZpA3y",
        "outputId": "97f513db-9089-4182-8c34-07124c66cde7"
      },
      "outputs": [],
      "source": [
        "# Ajuste de algoritmo a caracteristicas escaladas\n",
        "kmeans.fit(scaled_features)"
      ]
    },
    {
      "cell_type": "code",
      "execution_count": null,
      "metadata": {
        "colab": {
          "base_uri": "https://localhost:8080/"
        },
        "id": "sQrtaJhUpRwP",
        "outputId": "6831966f-bedb-4aba-9ddb-811b87ea9c5c"
      },
      "outputs": [],
      "source": [
        "# el valor del SSE mas bajo\n",
        "print(\"valor del SSE mas bajo: \", kmeans.inertia_)\n",
        "\n",
        "# Coordenadas de los centroides\n",
        "print(kmeans.cluster_centers_)\n",
        "\n",
        "# Numero de interaciones necesarias para converger\n",
        "print(\"Numero de iteraciones: \",kmeans.n_iter_)"
      ]
    },
    {
      "cell_type": "code",
      "execution_count": null,
      "metadata": {
        "colab": {
          "base_uri": "https://localhost:8080/"
        },
        "id": "_AH1KumQqj27",
        "outputId": "de23dd81-3b69-4252-bee8-053d352176a7"
      },
      "outputs": [],
      "source": [
        "# Etiqueta de los datos generadas por Kmeans\n",
        "kmeans.labels_[:5]"
      ]
    },
    {
      "cell_type": "code",
      "execution_count": null,
      "metadata": {
        "colab": {
          "base_uri": "https://localhost:8080/"
        },
        "id": "Xj7g7IeAtkpO",
        "outputId": "64da0935-8ff4-45c8-ce34-792d70da89d2"
      },
      "outputs": [],
      "source": [
        "#Predecir valores de etiquetas\n",
        "label = kmeans.fit_predict(scaled_features)\n",
        "\n",
        "print(label)"
      ]
    },
    {
      "cell_type": "code",
      "execution_count": null,
      "metadata": {
        "colab": {
          "base_uri": "https://localhost:8080/",
          "height": 430
        },
        "id": "OLKWxQfrr0-t",
        "outputId": "592b3560-16e1-4ca6-f04d-7921c659c26d"
      },
      "outputs": [],
      "source": [
        "#Obtener valores unicos de cluster\n",
        "u_labels = np.unique(label)\n",
        "\n",
        "#Diagramar el resultado:\n",
        "for i in u_labels:\n",
        "    plt.scatter(scaled_features[label == i,0] , scaled_features[label == i,1] , label = i)\n",
        "plt.legend()\n",
        "plt.show()"
      ]
    },
    {
      "cell_type": "markdown",
      "metadata": {
        "id": "CQH-dTGJwKUV"
      },
      "source": [
        "## Elección del número apropiado de clústeres"
      ]
    },
    {
      "cell_type": "markdown",
      "metadata": {
        "id": "NZZ1qMAywdJP"
      },
      "source": [
        "### Método del codo"
      ]
    },
    {
      "cell_type": "code",
      "execution_count": null,
      "metadata": {
        "id": "yiTA7MCwwbTC"
      },
      "outputs": [],
      "source": [
        "# Argumentos del algoritmo\n",
        "kmeans_kwargs = {\"init\": \"random\", \"n_init\": 10, \"max_iter\": 300, \"random_state\": 42}\n",
        "# Lista que almacena los valores de SSE para cada valor K\n",
        "sse = []\n",
        "# Ciclo para entrenar algoritmos de kmeans con cada valor de k\n",
        "for k in range(1, 11):\n",
        "  kmeans = KMeans(n_clusters=k, **kmeans_kwargs)\n",
        "  kmeans.fit(scaled_features)\n",
        "  sse.append(kmeans.inertia_)"
      ]
    },
    {
      "cell_type": "code",
      "execution_count": null,
      "metadata": {
        "colab": {
          "base_uri": "https://localhost:8080/",
          "height": 478
        },
        "id": "9KjAeX8GwKBW",
        "outputId": "e7301dd0-fdc9-4e50-a52d-1886e94e1c4f"
      },
      "outputs": [],
      "source": [
        "# Visualización de resultados\n",
        "plt.style.use(\"fivethirtyeight\")\n",
        "plt.plot(range(1, 11), sse)\n",
        "plt.xticks(range(1, 11))\n",
        "plt.xlabel(\"Number of Clusters\")\n",
        "plt.ylabel(\"Inertia\")\n",
        "plt.show()"
      ]
    },
    {
      "cell_type": "code",
      "execution_count": null,
      "metadata": {
        "colab": {
          "base_uri": "https://localhost:8080/"
        },
        "id": "CjWo1UaOxo2L",
        "outputId": "3215d419-ba60-4e1a-c1e5-84715a5dc9b7"
      },
      "outputs": [],
      "source": [
        "# Seleccion automatica del numero k\n",
        "kl = KneeLocator(range(1, 11),\n",
        "                 sse, curve=\"convex\",\n",
        "                 direction=\"decreasing\")\n",
        "\n",
        "kl.elbow"
      ]
    },
    {
      "cell_type": "markdown",
      "metadata": {
        "id": "A9W4PbExx4xm"
      },
      "source": [
        "### Coeficiente de silueta"
      ]
    },
    {
      "cell_type": "code",
      "execution_count": null,
      "metadata": {
        "id": "Nl-4oSi7x7-w"
      },
      "outputs": [],
      "source": [
        "# Lista contiene los coeficientes de silueta para cada k\n",
        "silhouette_coefficients = []\n",
        "# Fíjate que empiezas con 2 grupos para el coeficiente de silueta\n",
        "for k in range(2, 11):\n",
        "  kmeans = KMeans(n_clusters=k, **kmeans_kwargs)\n",
        "  kmeans.fit(scaled_features)\n",
        "  score = silhouette_score(scaled_features, kmeans.labels_)\n",
        "  silhouette_coefficients.append(score)"
      ]
    },
    {
      "cell_type": "code",
      "execution_count": null,
      "metadata": {
        "colab": {
          "base_uri": "https://localhost:8080/",
          "height": 478
        },
        "id": "n0hNLdbqyZyO",
        "outputId": "bae3e307-cd57-4ae9-f529-3a6522e568a2"
      },
      "outputs": [],
      "source": [
        "# Visualización de resultados\n",
        "plt.style.use(\"fivethirtyeight\")\n",
        "plt.plot(range(2, 11), silhouette_coefficients)\n",
        "plt.xticks(range(2, 11))\n",
        "plt.xlabel(\"Number of Clusters\")\n",
        "plt.ylabel(\"Silhouette Coefficient\")\n",
        "plt.show()"
      ]
    }
  ],
  "metadata": {
    "colab": {
      "provenance": []
    },
    "kernelspec": {
      "display_name": "Python 3",
      "name": "python3"
    },
    "language_info": {
      "codemirror_mode": {
        "name": "ipython",
        "version": 3
      },
      "file_extension": ".py",
      "mimetype": "text/x-python",
      "name": "python",
      "nbconvert_exporter": "python",
      "pygments_lexer": "ipython3",
      "version": "3.9.7"
    }
  },
  "nbformat": 4,
  "nbformat_minor": 0
}
