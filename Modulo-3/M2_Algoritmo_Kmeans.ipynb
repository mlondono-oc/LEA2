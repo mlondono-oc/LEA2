{
  "cells": [
    {
      "cell_type": "markdown",
      "metadata": {
        "id": "zTpJdd7Xjpo4"
      },
      "source": [
        "## Preparación del notebook"
      ]
    },
    {
      "cell_type": "code",
      "execution_count": 1,
      "metadata": {
        "colab": {
          "base_uri": "https://localhost:8080/"
        },
        "id": "tgr9g7XrkMNy",
        "outputId": "0380508e-b36f-4887-b495-0ae5a2ee64fa"
      },
      "outputs": [
        {
          "name": "stdout",
          "output_type": "stream",
          "text": [
            "Collecting kneed\n",
            "  Downloading kneed-0.8.5-py3-none-any.whl (10 kB)\n",
            "Requirement already satisfied: numpy>=1.14.2 in /Users/manuelalondonoocampo/opt/anaconda3/lib/python3.9/site-packages (from kneed) (1.21.2)\n",
            "Requirement already satisfied: scipy>=1.0.0 in /Users/manuelalondonoocampo/opt/anaconda3/lib/python3.9/site-packages (from kneed) (1.7.1)\n",
            "Installing collected packages: kneed\n",
            "Successfully installed kneed-0.8.5\n",
            "Note: you may need to restart the kernel to use updated packages.\n"
          ]
        }
      ],
      "source": [
        "%pip install kneed"
      ]
    },
    {
      "cell_type": "code",
      "execution_count": 39,
      "metadata": {
        "id": "CM6oz9ovjpVB"
      },
      "outputs": [],
      "source": [
        "# Importar librerias\n",
        "import pandas as pd\n",
        "import numpy as np\n",
        "import matplotlib.pyplot as plt\n",
        "from sklearn.cluster import KMeans\n",
        "from sklearn.preprocessing import StandardScaler\n",
        "import matplotlib.pyplot as plt\n",
        "from kneed import KneeLocator\n",
        "from sklearn.datasets import make_blobs\n",
        "from sklearn.metrics import silhouette_score"
      ]
    },
    {
      "cell_type": "markdown",
      "metadata": {
        "id": "NK-fejfzkSoE"
      },
      "source": [
        "## Creación de dataset"
      ]
    },
    {
      "cell_type": "code",
      "execution_count": 40,
      "metadata": {
        "id": "1sIdLx9Ckgc7"
      },
      "outputs": [],
      "source": [
        "#Creación sintética de clusters\n",
        "features, true_labels = make_blobs(n_samples=300,\n",
        "                                   centers=3,\n",
        "                                   cluster_std= 3.5,\n",
        "                                   random_state=42)"
      ]
    },
    {
      "cell_type": "code",
      "execution_count": 41,
      "metadata": {
        "colab": {
          "base_uri": "https://localhost:8080/"
        },
        "id": "SejdwLa-mFaG",
        "outputId": "ae1ab312-60e7-4f86-d06b-396131a45a9f"
      },
      "outputs": [
        {
          "data": {
            "text/plain": [
              "array([[ -8.48739034,  -9.85456489],\n",
              "       [ -9.89107397,  -8.226054  ],\n",
              "       [  0.36970957,   4.74133335],\n",
              "       [  3.87799462,   5.81888867],\n",
              "       [-14.01306306, -10.40841168]])"
            ]
          },
          "execution_count": 41,
          "metadata": {},
          "output_type": "execute_result"
        }
      ],
      "source": [
        "features[:5]"
      ]
    },
    {
      "cell_type": "code",
      "execution_count": 42,
      "metadata": {
        "colab": {
          "base_uri": "https://localhost:8080/"
        },
        "id": "7GUz7ri9mU7x",
        "outputId": "c8685049-6e89-4f54-f35b-99e31a9dd69f"
      },
      "outputs": [
        {
          "data": {
            "text/plain": [
              "array([2, 2, 0, 1, 2])"
            ]
          },
          "execution_count": 42,
          "metadata": {},
          "output_type": "execute_result"
        }
      ],
      "source": [
        "true_labels[:5]"
      ]
    },
    {
      "cell_type": "markdown",
      "metadata": {
        "id": "q8sUgzE4m_Rh"
      },
      "source": [
        "## Preprocesamiento de los datos"
      ]
    },
    {
      "cell_type": "code",
      "execution_count": 43,
      "metadata": {
        "id": "d5I8T8oYZ3FP"
      },
      "outputs": [],
      "source": [
        "# Escalado de características\n",
        "scaler = StandardScaler()\n",
        "scaled_features = scaler.fit_transform(features)"
      ]
    },
    {
      "cell_type": "code",
      "execution_count": 44,
      "metadata": {
        "colab": {
          "base_uri": "https://localhost:8080/"
        },
        "id": "uCFan9SznhgH",
        "outputId": "aa72a6af-7a77-4bcc-ca39-6082aa784fe9"
      },
      "outputs": [
        {
          "data": {
            "text/plain": [
              "array([[-1.14403699, -1.48834982],\n",
              "       [-1.37745303, -1.27155871],\n",
              "       [ 0.32879435,  0.45468967],\n",
              "       [ 0.91218081,  0.59813631],\n",
              "       [-2.06289124, -1.56207918]])"
            ]
          },
          "execution_count": 44,
          "metadata": {},
          "output_type": "execute_result"
        }
      ],
      "source": [
        "scaled_features[:5]"
      ]
    },
    {
      "cell_type": "markdown",
      "metadata": {
        "id": "h9ex8beLjoTg"
      },
      "source": [
        "## Algoritmo K-means\n",
        "\n",
        "https://scikit-learn.org/stable/modules/generated/sklearn.cluster.KMeans.html"
      ]
    },
    {
      "cell_type": "code",
      "execution_count": 45,
      "metadata": {
        "id": "6WSDNCHqoh5g"
      },
      "outputs": [],
      "source": [
        "# Creación de modelo de Kmeans\n",
        "kmeans = KMeans(init=\"random\",\n",
        "                n_clusters=3,\n",
        "                n_init=10,\n",
        "                max_iter=100,\n",
        "                random_state=42)"
      ]
    },
    {
      "cell_type": "code",
      "execution_count": 46,
      "metadata": {
        "colab": {
          "base_uri": "https://localhost:8080/",
          "height": 75
        },
        "id": "P-X0xvnZpA3y",
        "outputId": "97f513db-9089-4182-8c34-07124c66cde7"
      },
      "outputs": [
        {
          "data": {
            "text/html": [
              "<style>#sk-container-id-3 {color: black;}#sk-container-id-3 pre{padding: 0;}#sk-container-id-3 div.sk-toggleable {background-color: white;}#sk-container-id-3 label.sk-toggleable__label {cursor: pointer;display: block;width: 100%;margin-bottom: 0;padding: 0.3em;box-sizing: border-box;text-align: center;}#sk-container-id-3 label.sk-toggleable__label-arrow:before {content: \"▸\";float: left;margin-right: 0.25em;color: #696969;}#sk-container-id-3 label.sk-toggleable__label-arrow:hover:before {color: black;}#sk-container-id-3 div.sk-estimator:hover label.sk-toggleable__label-arrow:before {color: black;}#sk-container-id-3 div.sk-toggleable__content {max-height: 0;max-width: 0;overflow: hidden;text-align: left;background-color: #f0f8ff;}#sk-container-id-3 div.sk-toggleable__content pre {margin: 0.2em;color: black;border-radius: 0.25em;background-color: #f0f8ff;}#sk-container-id-3 input.sk-toggleable__control:checked~div.sk-toggleable__content {max-height: 200px;max-width: 100%;overflow: auto;}#sk-container-id-3 input.sk-toggleable__control:checked~label.sk-toggleable__label-arrow:before {content: \"▾\";}#sk-container-id-3 div.sk-estimator input.sk-toggleable__control:checked~label.sk-toggleable__label {background-color: #d4ebff;}#sk-container-id-3 div.sk-label input.sk-toggleable__control:checked~label.sk-toggleable__label {background-color: #d4ebff;}#sk-container-id-3 input.sk-hidden--visually {border: 0;clip: rect(1px 1px 1px 1px);clip: rect(1px, 1px, 1px, 1px);height: 1px;margin: -1px;overflow: hidden;padding: 0;position: absolute;width: 1px;}#sk-container-id-3 div.sk-estimator {font-family: monospace;background-color: #f0f8ff;border: 1px dotted black;border-radius: 0.25em;box-sizing: border-box;margin-bottom: 0.5em;}#sk-container-id-3 div.sk-estimator:hover {background-color: #d4ebff;}#sk-container-id-3 div.sk-parallel-item::after {content: \"\";width: 100%;border-bottom: 1px solid gray;flex-grow: 1;}#sk-container-id-3 div.sk-label:hover label.sk-toggleable__label {background-color: #d4ebff;}#sk-container-id-3 div.sk-serial::before {content: \"\";position: absolute;border-left: 1px solid gray;box-sizing: border-box;top: 0;bottom: 0;left: 50%;z-index: 0;}#sk-container-id-3 div.sk-serial {display: flex;flex-direction: column;align-items: center;background-color: white;padding-right: 0.2em;padding-left: 0.2em;position: relative;}#sk-container-id-3 div.sk-item {position: relative;z-index: 1;}#sk-container-id-3 div.sk-parallel {display: flex;align-items: stretch;justify-content: center;background-color: white;position: relative;}#sk-container-id-3 div.sk-item::before, #sk-container-id-3 div.sk-parallel-item::before {content: \"\";position: absolute;border-left: 1px solid gray;box-sizing: border-box;top: 0;bottom: 0;left: 50%;z-index: -1;}#sk-container-id-3 div.sk-parallel-item {display: flex;flex-direction: column;z-index: 1;position: relative;background-color: white;}#sk-container-id-3 div.sk-parallel-item:first-child::after {align-self: flex-end;width: 50%;}#sk-container-id-3 div.sk-parallel-item:last-child::after {align-self: flex-start;width: 50%;}#sk-container-id-3 div.sk-parallel-item:only-child::after {width: 0;}#sk-container-id-3 div.sk-dashed-wrapped {border: 1px dashed gray;margin: 0 0.4em 0.5em 0.4em;box-sizing: border-box;padding-bottom: 0.4em;background-color: white;}#sk-container-id-3 div.sk-label label {font-family: monospace;font-weight: bold;display: inline-block;line-height: 1.2em;}#sk-container-id-3 div.sk-label-container {text-align: center;}#sk-container-id-3 div.sk-container {/* jupyter's `normalize.less` sets `[hidden] { display: none; }` but bootstrap.min.css set `[hidden] { display: none !important; }` so we also need the `!important` here to be able to override the default hidden behavior on the sphinx rendered scikit-learn.org. See: https://github.com/scikit-learn/scikit-learn/issues/21755 */display: inline-block !important;position: relative;}#sk-container-id-3 div.sk-text-repr-fallback {display: none;}</style><div id=\"sk-container-id-3\" class=\"sk-top-container\"><div class=\"sk-text-repr-fallback\"><pre>KMeans(init=&#x27;random&#x27;, max_iter=100, n_clusters=3, n_init=10, random_state=42)</pre><b>In a Jupyter environment, please rerun this cell to show the HTML representation or trust the notebook. <br />On GitHub, the HTML representation is unable to render, please try loading this page with nbviewer.org.</b></div><div class=\"sk-container\" hidden><div class=\"sk-item\"><div class=\"sk-estimator sk-toggleable\"><input class=\"sk-toggleable__control sk-hidden--visually\" id=\"sk-estimator-id-3\" type=\"checkbox\" checked><label for=\"sk-estimator-id-3\" class=\"sk-toggleable__label sk-toggleable__label-arrow\">KMeans</label><div class=\"sk-toggleable__content\"><pre>KMeans(init=&#x27;random&#x27;, max_iter=100, n_clusters=3, n_init=10, random_state=42)</pre></div></div></div></div></div>"
            ],
            "text/plain": [
              "KMeans(init='random', max_iter=100, n_clusters=3, n_init=10, random_state=42)"
            ]
          },
          "execution_count": 46,
          "metadata": {},
          "output_type": "execute_result"
        }
      ],
      "source": [
        "# Ajuste de algoritmo a caracteristicas escaladas\n",
        "kmeans.fit(scaled_features)"
      ]
    },
    {
      "cell_type": "code",
      "execution_count": 47,
      "metadata": {
        "colab": {
          "base_uri": "https://localhost:8080/"
        },
        "id": "sQrtaJhUpRwP",
        "outputId": "6831966f-bedb-4aba-9ddb-811b87ea9c5c"
      },
      "outputs": [
        {
          "name": "stdout",
          "output_type": "stream",
          "text": [
            "valor del SSE mas bajo:  142.7309726068816\n",
            "[[-0.26104731  1.0085765 ]\n",
            " [ 1.14711308  0.11607295]\n",
            " [-0.91319024 -1.1590775 ]]\n",
            "Numero de iteraciones:  4\n"
          ]
        }
      ],
      "source": [
        "# el valor del SSE mas bajo\n",
        "print(\"valor del SSE mas bajo: \", kmeans.inertia_)\n",
        "\n",
        "# Coordenadas de los centroides\n",
        "print(kmeans.cluster_centers_)\n",
        "\n",
        "# Numero de interaciones necesarias para converger\n",
        "print(\"Numero de iteraciones: \",kmeans.n_iter_)"
      ]
    },
    {
      "cell_type": "code",
      "execution_count": 48,
      "metadata": {
        "colab": {
          "base_uri": "https://localhost:8080/"
        },
        "id": "_AH1KumQqj27",
        "outputId": "de23dd81-3b69-4252-bee8-053d352176a7"
      },
      "outputs": [
        {
          "data": {
            "text/plain": [
              "array([2, 2, 0, 1, 2], dtype=int32)"
            ]
          },
          "execution_count": 48,
          "metadata": {},
          "output_type": "execute_result"
        }
      ],
      "source": [
        "# Etiqueta de los datos generadas por Kmeans\n",
        "kmeans.labels_[:5]"
      ]
    },
    {
      "cell_type": "code",
      "execution_count": 32,
      "metadata": {
        "colab": {
          "base_uri": "https://localhost:8080/"
        },
        "id": "Xj7g7IeAtkpO",
        "outputId": "64da0935-8ff4-45c8-ce34-792d70da89d2"
      },
      "outputs": [
        {
          "name": "stdout",
          "output_type": "stream",
          "text": [
            "[2 2 0 1 2 1 0 1 0 0 0 1 0 0 2 0 2 0 0 0 1 0 1 2 0 2 2 0 1 0 0 0 2 0 2 0 2\n",
            " 1 2 1 1 0 2 1 0 0 2 1 2 1 1 2 2 1 2 1 2 0 1 0 2 1 1 1 2 1 1 2 2 0 1 2 2 0\n",
            " 0 2 2 1 0 1 0 0 2 0 1 2 2 1 1 0 2 0 2 0 0 2 2 0 2 2 1 0 1 0 0 0 0 0 1 2 1\n",
            " 0 0 0 0 1 2 0 2 1 1 1 1 2 2 2 2 0 2 2 0 0 0 0 0 1 1 2 0 2 0 0 1 0 1 1 1 0\n",
            " 1 0 0 2 1 2 0 1 1 2 2 0 0 2 2 2 0 2 1 0 0 0 0 0 1 0 1 1 1 0 1 1 2 0 2 1 1\n",
            " 2 1 1 2 1 2 2 1 2 1 0 1 1 0 2 0 0 1 1 0 1 2 2 1 0 0 2 1 0 2 2 0 2 0 2 2 0\n",
            " 2 2 0 1 2 2 1 0 0 2 0 2 1 1 2 1 2 2 2 1 1 0 2 1 1 1 2 1 2 1 2 1 1 2 1 0 2\n",
            " 0 0 0 2 0 1 1 2 1 1 0 0 1 1 1 2 2 2 0 1 0 1 1 1 1 2 1 2 1 1 2 0 1 1 0 2 0\n",
            " 1 0 2 2]\n"
          ]
        }
      ],
      "source": [
        "#Predecir valores de etiquetas\n",
        "label = kmeans.fit_predict(scaled_features)\n",
        "\n",
        "print(label)"
      ]
    },
    {
      "cell_type": "code",
      "execution_count": 33,
      "metadata": {
        "colab": {
          "base_uri": "https://localhost:8080/",
          "height": 430
        },
        "id": "OLKWxQfrr0-t",
        "outputId": "592b3560-16e1-4ca6-f04d-7921c659c26d"
      },
      "outputs": [
        {
          "data": {
            "image/png": "[encoded data removed]",
            "text/plain": [
              "<Figure size 432x288 with 1 Axes>"
            ]
          },
          "metadata": {},
          "output_type": "display_data"
        }
      ],
      "source": [
        "#Obtener valores unicos de cluster\n",
        "u_labels = np.unique(label)\n",
        "\n",
        "#Diagramar el resultado:\n",
        "for i in u_labels:\n",
        "    plt.scatter(scaled_features[label == i,0] , scaled_features[label == i,1] , label = i)\n",
        "plt.legend()\n",
        "plt.show()"
      ]
    },
    {
      "cell_type": "markdown",
      "metadata": {
        "id": "CQH-dTGJwKUV"
      },
      "source": [
        "## Elección del número apropiado de clústeres"
      ]
    },
    {
      "cell_type": "markdown",
      "metadata": {
        "id": "NZZ1qMAywdJP"
      },
      "source": [
        "### Método del codo"
      ]
    },
    {
      "cell_type": "code",
      "execution_count": 50,
      "metadata": {
        "id": "yiTA7MCwwbTC"
      },
      "outputs": [],
      "source": [
        "# Argumentos del algoritmo\n",
        "kmeans_kwargs = {\"init\": \"random\", \"n_init\": 10, \"max_iter\": 300, \"random_state\": 42}\n",
        "# Lista que almacena los valores de SSE para cada valor K\n",
        "sse = []\n",
        "# Ciclo para entrenar algoritmos de kmeans con cada valor de k\n",
        "for k in range(1, 11):\n",
        "  kmeans = KMeans(n_clusters=k, **kmeans_kwargs)\n",
        "  kmeans.fit(scaled_features)\n",
        "  sse.append(kmeans.inertia_)"
      ]
    },
    {
      "cell_type": "code",
      "execution_count": 51,
      "metadata": {
        "colab": {
          "base_uri": "https://localhost:8080/",
          "height": 478
        },
        "id": "9KjAeX8GwKBW",
        "outputId": "e7301dd0-fdc9-4e50-a52d-1886e94e1c4f"
      },
      "outputs": [
        {
          "data": {
            "image/png": "[encoded data removed]",
            "text/plain": [
              "<Figure size 432x288 with 1 Axes>"
            ]
          },
          "metadata": {},
          "output_type": "display_data"
        }
      ],
      "source": [
        "# Visualización de resultados\n",
        "plt.style.use(\"fivethirtyeight\")\n",
        "plt.plot(range(1, 11), sse)\n",
        "plt.xticks(range(1, 11))\n",
        "plt.xlabel(\"Number of Clusters\")\n",
        "plt.ylabel(\"Inertia\")\n",
        "plt.show()"
      ]
    },
    {
      "cell_type": "code",
      "execution_count": 52,
      "metadata": {
        "colab": {
          "base_uri": "https://localhost:8080/"
        },
        "id": "CjWo1UaOxo2L",
        "outputId": "3215d419-ba60-4e1a-c1e5-84715a5dc9b7"
      },
      "outputs": [
        {
          "data": {
            "text/plain": [
              "3"
            ]
          },
          "execution_count": 52,
          "metadata": {},
          "output_type": "execute_result"
        }
      ],
      "source": [
        "# Seleccion automatica del numero k\n",
        "kl = KneeLocator(range(1, 11),\n",
        "                 sse, curve=\"convex\",\n",
        "                 direction=\"decreasing\")\n",
        "\n",
        "kl.elbow"
      ]
    },
    {
      "cell_type": "markdown",
      "metadata": {
        "id": "A9W4PbExx4xm"
      },
      "source": [
        "### Coeficiente de silueta"
      ]
    },
    {
      "cell_type": "code",
      "execution_count": 37,
      "metadata": {
        "id": "Nl-4oSi7x7-w"
      },
      "outputs": [],
      "source": [
        "# Lista contiene los coeficientes de silueta para cada k\n",
        "silhouette_coefficients = []\n",
        "# Fíjate que empiezas con 2 grupos para el coeficiente de silueta\n",
        "for k in range(2, 11):\n",
        "  kmeans = KMeans(n_clusters=k, **kmeans_kwargs)\n",
        "  kmeans.fit(scaled_features)\n",
        "  score = silhouette_score(scaled_features, kmeans.labels_)\n",
        "  silhouette_coefficients.append(score)"
      ]
    },
    {
      "cell_type": "code",
      "execution_count": 53,
      "metadata": {
        "colab": {
          "base_uri": "https://localhost:8080/",
          "height": 478
        },
        "id": "n0hNLdbqyZyO",
        "outputId": "bae3e307-cd57-4ae9-f529-3a6522e568a2"
      },
      "outputs": [
        {
          "data": {
            "image/png": "[encoded data removed]",
            "text/plain": [
              "<Figure size 432x288 with 1 Axes>"
            ]
          },
          "metadata": {},
          "output_type": "display_data"
        }
      ],
      "source": [
        "# Visualización de resultados\n",
        "plt.style.use(\"fivethirtyeight\")\n",
        "plt.plot(range(2, 11), silhouette_coefficients)\n",
        "plt.xticks(range(2, 11))\n",
        "plt.xlabel(\"Number of Clusters\")\n",
        "plt.ylabel(\"Silhouette Coefficient\")\n",
        "plt.show()"
      ]
    }
  ],
  "metadata": {
    "colab": {
      "provenance": []
    },
    "kernelspec": {
      "display_name": "Python 3",
      "name": "python3"
    },
    "language_info": {
      "codemirror_mode": {
        "name": "ipython",
        "version": 3
      },
      "file_extension": ".py",
      "mimetype": "text/x-python",
      "name": "python",
      "nbconvert_exporter": "python",
      "pygments_lexer": "ipython3",
      "version": "3.9.7"
    }
  },
  "nbformat": 4,
  "nbformat_minor": 0
}
