{
  "cells": [
    {
      "cell_type": "markdown",
      "metadata": {
        "id": "XsAM-jgNAXvz"
      },
      "source": [
        "# Taller de repaso: Aprendizaje no supervisado"
      ]
    },
    {
      "cell_type": "markdown",
      "metadata": {
        "id": "Ns8esRwXAXv1"
      },
      "source": [
        "## Preparación del notebook"
      ]
    },
    {
      "cell_type": "code",
      "execution_count": null,
      "metadata": {
        "id": "ccXJEQN8AXv1"
      },
      "outputs": [],
      "source": [
        "import numpy as np\n",
        "import matplotlib.pyplot as plt\n",
        "import pandas as pd\n",
        "import seaborn as sns\n",
        "\n",
        "from sklearn.preprocessing import LabelEncoder, StandardScaler\n",
        "from sklearn.metrics import silhouette_score, calinski_harabasz_score\n",
        "#!pip install kneed\n",
        "from kneed import KneeLocator\n",
        "\n",
        "from scipy.spatial.distance import cdist\n",
        "from sklearn.cluster import KMeans, DBSCAN\n",
        "from sklearn.mixture import GaussianMixture\n",
        "from sklearn.decomposition import PCA, FactorAnalysis\n",
        "\n",
        "#!pip install factor_analyzer\n",
        "from factor_analyzer import FactorAnalyzer"
      ]
    },
    {
      "cell_type": "code",
      "execution_count": null,
      "metadata": {
        "id": "iKIl0Ll8AXv2"
      },
      "outputs": [],
      "source": [
        "import warnings\n",
        "warnings.filterwarnings('ignore')"
      ]
    },
    {
      "cell_type": "markdown",
      "metadata": {
        "id": "6SgoAPl2AXv3"
      },
      "source": [
        "## Lectura del dataset\n",
        "\n",
        "Este conjunto de datos contiene una encuesta sobre la satisfacción de los pasajeros de una compañía aérea. ¿Qué factores están altamente correlacionados con un pasajero satisfecho (o insatisfecho)?"
      ]
    },
    {
      "cell_type": "code",
      "execution_count": null,
      "metadata": {
        "colab": {
          "base_uri": "https://localhost:8080/",
          "height": 394
        },
        "id": "t-CkuqBcAXv3",
        "outputId": "6840a583-6d06-418e-ca65-a2fb87801055"
      },
      "outputs": [],
      "source": [
        "# Lectura del dataset\n",
        "df = pd.read_csv('https://raw.githubusercontent.com/mlondono-oc/LEA2/main/Modulo-3/data/train.csv')\n",
        "df.head()"
      ]
    },
    {
      "cell_type": "code",
      "execution_count": null,
      "metadata": {
        "colab": {
          "base_uri": "https://localhost:8080/"
        },
        "id": "L_bhfc6yAXv3",
        "outputId": "7a7cc86c-4015-4f60-cd1a-29fecf3aabae"
      },
      "outputs": [],
      "source": [
        "#Información general de las variables\n",
        "df.info()"
      ]
    },
    {
      "cell_type": "code",
      "execution_count": null,
      "metadata": {
        "id": "cYIhQpdrAXv4"
      },
      "outputs": [],
      "source": [
        "# Eliminación de variables no significativas\n",
        "df.drop(['Unnamed: 0', 'id', ], axis=1, inplace=True)"
      ]
    },
    {
      "cell_type": "code",
      "execution_count": null,
      "metadata": {},
      "outputs": [],
      "source": [
        "# Muestra mas pequeña de datos\n",
        "df_sample = df.sample(n=2500, random_state=123)\n",
        "df_sample.reset_index(drop=True, inplace=True)\n",
        "df_sample.shape"
      ]
    },
    {
      "cell_type": "markdown",
      "metadata": {
        "id": "lfyAq1bqAXv4"
      },
      "source": [
        "## EDA"
      ]
    },
    {
      "cell_type": "code",
      "execution_count": null,
      "metadata": {
        "colab": {
          "base_uri": "https://localhost:8080/"
        },
        "id": "smSvHzQHAXv4",
        "outputId": "95c41401-1bdb-4306-9e5d-48260ff85dd1"
      },
      "outputs": [],
      "source": [
        "# Comprobación de valores nulos\n",
        "df_sample.isnull().sum()"
      ]
    },
    {
      "cell_type": "code",
      "execution_count": null,
      "metadata": {
        "colab": {
          "base_uri": "https://localhost:8080/",
          "height": 1000
        },
        "id": "aTYewl4xAXv4",
        "outputId": "cdf75ec9-5cc3-4118-aafe-169bb5a06009"
      },
      "outputs": [],
      "source": [
        "# Matriz de correlación\n",
        "plt.figure(figsize=(15,8))\n",
        "c= df_sample.corr()\n",
        "sns.heatmap(c, annot=True)"
      ]
    },
    {
      "cell_type": "code",
      "execution_count": null,
      "metadata": {
        "id": "qBRSrFaSAXv4"
      },
      "outputs": [],
      "source": [
        "# Eliminación de columna altamente correlacionada\n",
        "df_sample.drop(['Arrival Delay in Minutes'], axis=1, inplace=True)"
      ]
    },
    {
      "cell_type": "code",
      "execution_count": null,
      "metadata": {
        "colab": {
          "base_uri": "https://localhost:8080/",
          "height": 574
        },
        "id": "Dm9MPd87AXv5",
        "outputId": "a8d411ee-b8cc-4c84-9cfb-0a8fb6240b5e"
      },
      "outputs": [],
      "source": [
        "# Estilo de las gráficas\n",
        "sns.set_theme(style='whitegrid', palette='Blues')\n",
        "\n",
        "# Variable satisfacción\n",
        "plt.figure(figsize=(8, 6))\n",
        "ax = sns.countplot(x='satisfaction', data=df_sample)\n",
        "plt.title('Barplot of Satisfaction (Target)', fontsize=14)\n",
        "plt.xlabel('Satisfaction (Target)', fontsize=13)\n",
        "plt.ylabel('Count', fontsize=13)\n",
        "plt.show()"
      ]
    },
    {
      "cell_type": "code",
      "execution_count": null,
      "metadata": {
        "colab": {
          "base_uri": "https://localhost:8080/"
        },
        "id": "8z1N1ZzSAXv5",
        "outputId": "eebb99b1-0829-4670-f7d0-e287f2e165b4"
      },
      "outputs": [],
      "source": [
        "# Veamos primero la puntuación media de cada clase, en las 14 variables que se encuestaron\n",
        "eco = df_sample[df_sample['Class']=='Eco'][df_sample.columns[6:20]].mean().mean()\n",
        "eco_plus = df_sample[df_sample['Class']=='Eco Plus'][df_sample.columns[6:20]].mean().mean()\n",
        "business = df_sample[df_sample['Class']=='Business'][df_sample.columns[6:20]].mean().mean()\n",
        "print(eco, eco_plus, business)"
      ]
    },
    {
      "cell_type": "code",
      "execution_count": null,
      "metadata": {
        "colab": {
          "base_uri": "https://localhost:8080/",
          "height": 210
        },
        "id": "-ORaNtJoAXv5",
        "outputId": "f685575e-59a6-4b2e-c961-56640d699273"
      },
      "outputs": [],
      "source": [
        "df_sample.groupby('Class')[df_sample.columns[6:20]].mean()"
      ]
    },
    {
      "cell_type": "code",
      "execution_count": null,
      "metadata": {
        "colab": {
          "base_uri": "https://localhost:8080/",
          "height": 1000
        },
        "id": "L_jnasqLAXv5",
        "outputId": "1cd8cc41-3f56-449d-badb-91d47440ec72"
      },
      "outputs": [],
      "source": [
        "# Variable Categoricas\n",
        "cat_cols = ['Gender', 'Customer Type', 'Type of Travel', 'Class']\n",
        "\n",
        "fig, axs = plt.subplots(nrows=2, ncols=2, figsize=(14, 10))\n",
        "axs = axs.ravel()\n",
        "\n",
        "i=0\n",
        "for col in cat_cols:\n",
        "\n",
        "    # define location\n",
        "    plt.subplot(2, 2, i+1)\n",
        "\n",
        "    # create plot\n",
        "    ax = plt.gca()\n",
        "    axs[i] = sns.countplot(x = col, hue = 'satisfaction', data = df_sample)\n",
        "\n",
        "    # remove legend\n",
        "    ax.legend('')\n",
        "\n",
        "    i += 1\n",
        "\n",
        "# add legend\n",
        "axs[1].legend(loc='upper right', fontsize=16)\n",
        "\n",
        "plt.tight_layout()\n",
        "plt.show()"
      ]
    },
    {
      "cell_type": "code",
      "execution_count": null,
      "metadata": {
        "id": "C85SfKi9AXv6"
      },
      "outputs": [],
      "source": [
        "# Codificación de variable satisfacción\n",
        "df_sample['satisfaction'] = df_sample['satisfaction'].map({'neutral or dissatisfied':0, 'satisfied':1})"
      ]
    },
    {
      "cell_type": "code",
      "execution_count": null,
      "metadata": {
        "colab": {
          "base_uri": "https://localhost:8080/"
        },
        "id": "nlbXjZGSAXv6",
        "outputId": "4d87c330-e9a7-4196-878b-7fefdf23b046"
      },
      "outputs": [],
      "source": [
        "#  Revisión Clase Eco\n",
        "eco_proportion = len(df_sample[df_sample['Class']=='Eco'])/len(df_sample)\n",
        "bad_proportion = len(df_sample[df_sample['Class']=='Eco']['satisfaction']==0)/len(df_sample[df_sample['satisfaction']==0])\n",
        "print(eco_proportion*100, bad_proportion*100)"
      ]
    },
    {
      "cell_type": "markdown",
      "metadata": {
        "id": "TM38oehIAXv6"
      },
      "source": [
        "## Pre procesamiento de los datos"
      ]
    },
    {
      "cell_type": "code",
      "execution_count": null,
      "metadata": {
        "colab": {
          "base_uri": "https://localhost:8080/",
          "height": 228
        },
        "id": "oy5ZG1p9AXv6",
        "outputId": "c6414a88-300a-4023-f733-d6fa59b06c44"
      },
      "outputs": [],
      "source": [
        "# Metodología 1\n",
        "train_df1 = df_sample.copy()\n",
        "train_df1['Gender'] = train_df1['Gender'].map({'Female':0, 'Male':1})\n",
        "train_df1['Customer Type'] = train_df1['Customer Type'].map({'disloyal Customer':0, 'Loyal Customer':1})\n",
        "train_df1['Type of Travel'] = train_df1['Type of Travel'].map({'Personal Travel':0, 'Business travel':1})\n",
        "train_df1['Class'] = train_df1['Class'].map({'Eco':1, 'Eco Plus':2, 'Business':3})\n",
        "\n",
        "train_df1.head(3)"
      ]
    },
    {
      "cell_type": "code",
      "execution_count": null,
      "metadata": {
        "colab": {
          "base_uri": "https://localhost:8080/",
          "height": 228
        },
        "id": "IUlapsX5AXv6",
        "outputId": "340517c8-5540-40af-e586-3812b7756fc9"
      },
      "outputs": [],
      "source": [
        "# Metodología 2\n",
        "train_df2 = df_sample.copy()\n",
        "train_df2['Gender'] = train_df2['Gender'].map({'Female':0, 'Male':1})\n",
        "train_df2['Customer Type'] = train_df2['Customer Type'].map({'disloyal Customer':0, 'Loyal Customer':1})\n",
        "train_df2['Type of Travel'] = train_df2['Type of Travel'].map({'Personal Travel':0, 'Business travel':1})\n",
        "\n",
        "# Calcular la frecuencia de cada categoría Class\n",
        "frecuencia = train_df2['Class'].value_counts(normalize=True)\n",
        "# Aplicar la codificación de frecuencia\n",
        "train_df2['Class'] = train_df2['Class'].map(frecuencia)\n",
        "\n",
        "train_df2.head(3)"
      ]
    },
    {
      "cell_type": "code",
      "execution_count": null,
      "metadata": {
        "colab": {
          "base_uri": "https://localhost:8080/"
        },
        "id": "ox44iZJxAXv7",
        "outputId": "cec27431-0bb6-489d-8d3b-97ed8e8b3d6f"
      },
      "outputs": [],
      "source": [
        "train_df1.shape"
      ]
    },
    {
      "cell_type": "code",
      "execution_count": null,
      "metadata": {
        "colab": {
          "base_uri": "https://localhost:8080/",
          "height": 1000
        },
        "id": "kXf5l_kIAXv7",
        "outputId": "94a97456-a1cc-47ec-bcd5-44c4ccafced0"
      },
      "outputs": [],
      "source": [
        "train_df1.hist(figsize=(14,10), bins=15)\n",
        "plt.tight_layout()\n",
        "plt.show()"
      ]
    },
    {
      "cell_type": "code",
      "execution_count": null,
      "metadata": {
        "colab": {
          "base_uri": "https://localhost:8080/",
          "height": 143
        },
        "id": "SS1oar3yAXv7",
        "outputId": "a05ec169-42be-425d-e5f1-a8cfd0e547a0"
      },
      "outputs": [],
      "source": [
        "# Escalado de variables numéricas\n",
        "train_cols = train_df1[['Age', 'Flight Distance', 'Departure Delay in Minutes']]\n",
        "\n",
        "scaler = StandardScaler()\n",
        "scaled_train_df1 = pd.DataFrame(scaler.fit_transform(train_cols), columns = train_cols.columns)\n",
        "scaled_train_df1.head(3)"
      ]
    },
    {
      "cell_type": "code",
      "execution_count": null,
      "metadata": {
        "colab": {
          "base_uri": "https://localhost:8080/",
          "height": 228
        },
        "id": "LTR3nkQDAXv7",
        "outputId": "238e9bf0-7ce2-4868-8804-629f667f59bc"
      },
      "outputs": [],
      "source": [
        "#  Union de data numéricas  y categórica\n",
        "cols = ['Age', 'Flight Distance', 'Departure Delay in Minutes']\n",
        "train_df1[cols] = scaled_train_df1\n",
        "train_df2[cols] = scaled_train_df1\n",
        "train_df1.head(3)"
      ]
    },
    {
      "cell_type": "code",
      "execution_count": null,
      "metadata": {
        "colab": {
          "base_uri": "https://localhost:8080/",
          "height": 228
        },
        "id": "BKYWZ2rQAXv7",
        "outputId": "10d60c0e-47a7-422f-996d-69cb641863c2"
      },
      "outputs": [],
      "source": [
        "train_df2.head(3)"
      ]
    },
    {
      "cell_type": "code",
      "execution_count": null,
      "metadata": {
        "colab": {
          "base_uri": "https://localhost:8080/",
          "height": 1000
        },
        "id": "lv7sbWgsAXv8",
        "outputId": "710c0811-0699-49a2-901b-d3bf418def71"
      },
      "outputs": [],
      "source": [
        "# Tratamiento de valores atípicos\n",
        "train_df1_out = train_df1.copy()\n",
        "\n",
        "# Sentar las bases de un \"mosaico boxplot de 6x4 (para cubrir 22 variables)\":\n",
        "box_locs=pd.DataFrame(\n",
        "{\"vert\":sorted(list(range(0,6))*4),\n",
        " \"horiz\":list(range(0,4))*6}\n",
        ")\n",
        "\n",
        "fig,axs=plt.subplots(ncols=4,nrows=6,figsize=(20,20))\n",
        "\n",
        "for idx,i in enumerate(train_df1_out.columns):\n",
        "    sns.boxplot(y=train_df1_out[i],ax=axs[box_locs.iloc[idx,0]][box_locs.iloc[idx,1]])"
      ]
    },
    {
      "cell_type": "code",
      "execution_count": null,
      "metadata": {
        "id": "y7-6DjEcAXv8"
      },
      "outputs": [],
      "source": [
        "\n"
      ]
    },
    {
      "cell_type": "code",
      "execution_count": null,
      "metadata": {
        "colab": {
          "base_uri": "https://localhost:8080/"
        },
        "id": "TH7KAq0zAXv8",
        "outputId": "53f90fb2-61f3-482f-ab57-bd680faabfa1"
      },
      "outputs": [],
      "source": [
        "train_df1_out.shape"
      ]
    },
    {
      "cell_type": "code",
      "execution_count": null,
      "metadata": {
        "colab": {
          "base_uri": "https://localhost:8080/"
        },
        "id": "o9ZHZyIRAXv8",
        "outputId": "3df2c217-d899-40b8-d827-3a0b4814290c"
      },
      "outputs": [],
      "source": [
        "train_df1.shape"
      ]
    },
    {
      "cell_type": "markdown",
      "metadata": {
        "id": "wjyNRL9zAXv8"
      },
      "source": [
        "## Reducción dimensionalidad"
      ]
    },
    {
      "cell_type": "code",
      "execution_count": null,
      "metadata": {
        "colab": {
          "base_uri": "https://localhost:8080/"
        },
        "id": "KGSKFdtzAXv8",
        "outputId": "6e11b59f-3634-4f27-b24c-da290b9c42a1"
      },
      "outputs": [],
      "source": [
        "#Cree un dataset reducido que proporcione el 85% de la varianza de entrada que debe explicarse\n",
        "pca = PCA(n_components=0.85).fit(train_df1_out)\n",
        "\n",
        "#Veamos cuántas componentes ha conservado PCA:\n",
        "pca.n_components_"
      ]
    },
    {
      "cell_type": "code",
      "execution_count": null,
      "metadata": {
        "colab": {
          "base_uri": "https://localhost:8080/",
          "height": 445
        },
        "id": "tWDr3edZAXv9",
        "outputId": "97c1077e-e561-4a66-d92b-b378038149ca"
      },
      "outputs": [],
      "source": [
        "# --- Varianza explicada ---\n",
        "PCA_variance = pd.DataFrame({'Varianza explicada (%)':\n",
        "                             pca.explained_variance_ratio_*100})\n",
        "\n",
        "fig, ax = plt.subplots(1, 1, figsize = (7, 5))\n",
        "\n",
        "bar = sns.barplot(x = ['PC ' + str(i) for i in range(1, 12)],\n",
        "                  y = PCA_variance['Varianza explicada (%)'],\n",
        "                  linewidth = 1.5, edgecolor = 'k', color = '#4bafb8',\n",
        "                  alpha = 0.8)\n",
        "\n",
        "plt.show()"
      ]
    },
    {
      "cell_type": "code",
      "execution_count": null,
      "metadata": {
        "colab": {
          "base_uri": "https://localhost:8080/",
          "height": 394
        },
        "id": "mkAb8UxTAXv9",
        "outputId": "c8a9aa4a-c755-4bef-bc9e-ef150a812877"
      },
      "outputs": [],
      "source": [
        "PCA_variance"
      ]
    },
    {
      "cell_type": "code",
      "execution_count": null,
      "metadata": {
        "colab": {
          "base_uri": "https://localhost:8080/"
        },
        "id": "chx1tdxIAXv9",
        "outputId": "1fa1325e-8688-4522-b401-1d25b91511f5"
      },
      "outputs": [],
      "source": [
        "#Por último, transforme \"train_df1_out\" de 22 columnas X_pca\n",
        "X_pca = pca.fit_transform(train_df1_out)\n",
        "X_pca"
      ]
    },
    {
      "cell_type": "markdown",
      "metadata": {
        "id": "3iw9ejjZAXv9"
      },
      "source": [
        "## Clustering Algorithm: K-Means"
      ]
    },
    {
      "cell_type": "markdown",
      "metadata": {
        "id": "mGLb0RmiAXv9"
      },
      "source": [
        "### Dataset  Original Escalado"
      ]
    },
    {
      "cell_type": "code",
      "execution_count": null,
      "metadata": {
        "id": "znxuytoFAXv-"
      },
      "outputs": [],
      "source": [
        "# Número optimo de K\n",
        "inertia_list = []\n",
        "\n",
        "for i in range(1, 11):\n",
        "    kmeans = KMeans(n_clusters=i, init='k-means++', random_state=3)\n",
        "    kmeans.fit(train_df1_out)\n",
        "    inertia_list.append(kmeans.inertia_)"
      ]
    },
    {
      "cell_type": "code",
      "execution_count": null,
      "metadata": {
        "colab": {
          "base_uri": "https://localhost:8080/",
          "height": 487
        },
        "id": "q9c3fC1UAXv-",
        "outputId": "d577a50f-3b70-4982-b3bf-601bf1fc37b0"
      },
      "outputs": [],
      "source": [
        "# plot the inertia curve\n",
        "plt.plot(range(1,11),inertia_list)\n",
        "plt.scatter(range(1,11),inertia_list)\n",
        "plt.xlabel(\"Number of Clusters\", size=10)\n",
        "plt.ylabel(\"Inertia Value\", size=10)\n",
        "plt.title(\"Different Inertia Values for Different Number of Clusters\", size=12)\n",
        "plt.show()"
      ]
    },
    {
      "cell_type": "code",
      "execution_count": null,
      "metadata": {
        "colab": {
          "base_uri": "https://localhost:8080/"
        },
        "id": "rsLr7YtuAXv-",
        "outputId": "5201937c-07ac-49a5-8af9-a19e5cbfd7fb"
      },
      "outputs": [],
      "source": [
        "# Seleccion automatica del numero k\n",
        "kl = KneeLocator(range(1, 11),\n",
        "                 inertia_list, curve=\"convex\",\n",
        "                 direction=\"decreasing\")\n",
        "kl.elbow"
      ]
    },
    {
      "cell_type": "code",
      "execution_count": null,
      "metadata": {
        "colab": {
          "base_uri": "https://localhost:8080/",
          "height": 75
        },
        "id": "pwLOAauaAXv-",
        "outputId": "3b5d5970-841f-44c8-e4c7-2a71335adb09"
      },
      "outputs": [],
      "source": [
        "kmeans_constants = {\"init\": \"k-means++\", \"n_init\": 100, \"max_iter\": 500, \"random_state\": 42}\n",
        "\n",
        "# --- Modelo K-means ---\n",
        "model_kmeans = KMeans(n_clusters = 4, **kmeans_constants)\n",
        "model_kmeans.fit(train_df1_out)"
      ]
    },
    {
      "cell_type": "markdown",
      "metadata": {
        "id": "XbQe4AdaAXv-"
      },
      "source": [
        "**Evaluación del algoritmos**\n",
        "\n",
        "**Calinski Harabasz Score:**\n",
        "\n",
        "El índice Calinski-Harabasz se basa en la comparación de la relación ponderada entre la suma de los cuadrados (la medida de la separación del clúster) y la suma de los cuadrados dentro del clúster (la medida de cómo se empaquetan estrechamente los puntos dentro de un clúster).\n",
        "\n",
        "Las soluciones de clúster con valores más grandes del índice corresponden a soluciones \"mejores\" que las soluciones de clúster con valores más pequeños."
      ]
    },
    {
      "cell_type": "code",
      "execution_count": null,
      "metadata": {
        "colab": {
          "base_uri": "https://localhost:8080/"
        },
        "id": "it6vfgFlAXv_",
        "outputId": "6272c3f0-4135-4c06-e5d7-5e4c222ee5d1"
      },
      "outputs": [],
      "source": [
        "# --- Evaluación del modelo kmeans ---\n",
        "print(\" ### K-MEANS ###\")\n",
        "print('Inertia: ', model_kmeans.inertia_)\n",
        "print('Silhouette Score: ', silhouette_score(train_df1_out, model_kmeans.labels_))\n",
        "print('Calinski harabasz score: ', calinski_harabasz_score(train_df1_out, model_kmeans.labels_))"
      ]
    },
    {
      "cell_type": "code",
      "execution_count": null,
      "metadata": {
        "colab": {
          "base_uri": "https://localhost:8080/"
        },
        "id": "ADPCIByfAXv_",
        "outputId": "d560dc99-5a17-4439-9e03-c1c80863986c"
      },
      "outputs": [],
      "source": [
        "# Predicción de los clusters\n",
        "Cluster_1 = model_kmeans.fit_predict(train_df1_out)\n",
        "Cluster_1"
      ]
    },
    {
      "cell_type": "code",
      "execution_count": null,
      "metadata": {
        "colab": {
          "base_uri": "https://localhost:8080/",
          "height": 290
        },
        "id": "sDfCb-UqAXv_",
        "outputId": "45df3536-7853-4d33-e12a-c99086c1a5d7"
      },
      "outputs": [],
      "source": [
        "# Vamos a adjuntar 'Cluster_1' como una nueva variable a 'train_df1_out':\n",
        "df_final = train_df1_out.copy()\n",
        "df_final['Cluster_1']= Cluster_1\n",
        "\n",
        "# A partir de ahora, sólo trabajaremos con \"df_final\"\n",
        "df_final.head()"
      ]
    },
    {
      "cell_type": "code",
      "execution_count": null,
      "metadata": {
        "colab": {
          "base_uri": "https://localhost:8080/"
        },
        "id": "tNg1HVYGAXv_",
        "outputId": "e846cea5-33e0-49ee-e967-6751c4fd7922"
      },
      "outputs": [],
      "source": [
        "df_final.Cluster_1.unique()"
      ]
    },
    {
      "cell_type": "markdown",
      "metadata": {
        "id": "vphZbFg9AXwA"
      },
      "source": [
        "### Dataset Reducido"
      ]
    },
    {
      "cell_type": "code",
      "execution_count": null,
      "metadata": {
        "id": "NaqzPCOzAXwA"
      },
      "outputs": [],
      "source": [
        "# Número optimo de K\n",
        "inertia_list = []\n",
        "\n",
        "for i in range(1, 11):\n",
        "    kmeans = KMeans(n_clusters=i, init='k-means++', random_state=3)\n",
        "    kmeans.fit(X_pca)\n",
        "    inertia_list.append(kmeans.inertia_)"
      ]
    },
    {
      "cell_type": "code",
      "execution_count": null,
      "metadata": {
        "colab": {
          "base_uri": "https://localhost:8080/",
          "height": 487
        },
        "id": "SHUeadDcAXwA",
        "outputId": "6188b2dd-7565-494d-fff1-9e24d3afdd4c"
      },
      "outputs": [],
      "source": [
        "# plot the inertia curve\n",
        "plt.plot(range(1,11),inertia_list)\n",
        "plt.scatter(range(1,11),inertia_list)\n",
        "plt.xlabel(\"Number of Clusters\", size=10)\n",
        "plt.ylabel(\"Inertia Value\", size=10)\n",
        "plt.title(\"Different Inertia Values for Different Number of Clusters\", size=12)\n",
        "plt.show()"
      ]
    },
    {
      "cell_type": "code",
      "execution_count": null,
      "metadata": {
        "colab": {
          "base_uri": "https://localhost:8080/"
        },
        "id": "F-Qo2cNWAXwA",
        "outputId": "ed852254-59a9-4a8f-a502-771559f5b602"
      },
      "outputs": [],
      "source": [
        "# Seleccion automatica del numero k\n",
        "kl = KneeLocator(range(1, 11),\n",
        "                 inertia_list, curve=\"convex\",\n",
        "                 direction=\"decreasing\")\n",
        "kl.elbow"
      ]
    },
    {
      "cell_type": "code",
      "execution_count": null,
      "metadata": {
        "colab": {
          "base_uri": "https://localhost:8080/",
          "height": 75
        },
        "id": "Rc3nTL9aEjQg",
        "outputId": "5e7fd40d-9b3e-4383-bc40-40de8caf4f47"
      },
      "outputs": [],
      "source": [
        "kmeans_constants = {\"init\": \"k-means++\", \"n_init\": 100, \"max_iter\": 500, \"random_state\": 42}\n",
        "\n",
        "# --- Modelo K-means ---\n",
        "model_kmeans_pca = KMeans(n_clusters = 4, **kmeans_constants)\n",
        "model_kmeans_pca.fit(X_pca)"
      ]
    },
    {
      "cell_type": "code",
      "execution_count": null,
      "metadata": {
        "colab": {
          "base_uri": "https://localhost:8080/"
        },
        "id": "TNQnwQwjAXwA",
        "outputId": "8a08c67c-01d6-4a63-8327-28f8928eb974"
      },
      "outputs": [],
      "source": [
        "# --- Evaluación del modelo kmeans ---\n",
        "print(\" ### K-MEANS ###\")\n",
        "print('Inertia: ', model_kmeans_pca.inertia_)\n",
        "print('Silhouette Score: ', silhouette_score(X_pca, model_kmeans_pca.labels_))\n",
        "print('Calinski harabasz score: ', calinski_harabasz_score(X_pca, model_kmeans_pca.labels_))"
      ]
    },
    {
      "cell_type": "code",
      "execution_count": null,
      "metadata": {
        "colab": {
          "base_uri": "https://localhost:8080/",
          "height": 228
        },
        "id": "C5Z2UBblEsyf",
        "outputId": "6d642757-40a0-4c6f-d647-1d449eee7f16"
      },
      "outputs": [],
      "source": [
        "# Predicción de los clusters\n",
        "Cluster_2 = model_kmeans.fit_predict(X_pca)\n",
        "\n",
        "df_final['Cluster_2']= Cluster_2\n",
        "\n",
        "# A partir de ahora, sólo trabajaremos con \"df_final\"\n",
        "df_final.head(3)"
      ]
    },
    {
      "cell_type": "code",
      "execution_count": null,
      "metadata": {
        "colab": {
          "base_uri": "https://localhost:8080/",
          "height": 1000
        },
        "id": "K8d8DTePFZbd",
        "outputId": "7953b016-32c2-4a68-e9b5-a1edf8a9f742"
      },
      "outputs": [],
      "source": [
        "# 3d scatterplot using matplotlib\n",
        "\n",
        "fig = plt.figure(figsize = (15,15))\n",
        "ax = fig.add_subplot(111, projection='3d')\n",
        "ax.scatter(X_pca[Cluster_2 == 0,0],X_pca[Cluster_2 == 0,1],X_pca[Cluster_2 == 0,2], s = 40 , color = 'blue', label = \"cluster 0\")\n",
        "ax.scatter(X_pca[Cluster_2 == 1,0],X_pca[Cluster_2 == 1,1],X_pca[Cluster_2 == 1,2], s = 40 , color = 'orange', label = \"cluster 1\")\n",
        "ax.scatter(X_pca[Cluster_2 == 2,0],X_pca[Cluster_2 == 2,1],X_pca[Cluster_2 == 2,2], s = 40 , color = 'green', label = \"cluster 2\")\n",
        "ax.scatter(X_pca[Cluster_2 == 3,0],X_pca[Cluster_2 == 3,1],X_pca[Cluster_2 == 3,2], s = 40 , color = 'purple', label = \"cluster 3\")\n",
        "ax.set_xlabel('PC1')\n",
        "ax.set_ylabel('PC2')\n",
        "ax.set_zlabel('PC3')\n",
        "ax.legend()\n",
        "plt.show()"
      ]
    },
    {
      "cell_type": "markdown",
      "metadata": {},
      "source": [
        "## Clustering Algorithm: Hierarchical Clustering"
      ]
    },
    {
      "cell_type": "code",
      "execution_count": null,
      "metadata": {},
      "outputs": [],
      "source": [
        "from scipy.cluster.hierarchy import dendrogram, linkage\n",
        "# Estilo de las gráficas\n",
        "sns.set_theme()\n",
        "\n",
        "# Función de vinculación para agrupar datos según similud\n",
        "Z = linkage(train_df1_out, method='ward')\n",
        "\n",
        "plt.figure(figsize=(13, 12))\n",
        "dendrogram(\n",
        "    Z,\n",
        "    orientation='right',\n",
        "    distance_sort='descending',\n",
        "    show_leaf_counts=False,\n",
        "    leaf_font_size=16\n",
        ")\n",
        "plt.show()"
      ]
    },
    {
      "cell_type": "code",
      "execution_count": null,
      "metadata": {},
      "outputs": [],
      "source": [
        "from sklearn.cluster import AgglomerativeClustering\n",
        "\n",
        "model_hc = AgglomerativeClustering(n_clusters = 4, metric = 'euclidean', linkage = 'ward')\n",
        "model_hc.fit(train_df1_out)\n",
        "\n",
        "# --- Evaluación del modelo kmeans ---\n",
        "print(\" ### HIERARCHICAL CLUSTERING ###\")\n",
        "print('Silhouette Score: ', silhouette_score(train_df1_out, model_hc.labels_))\n",
        "print('Calinski harabasz score: ', calinski_harabasz_score(train_df1_out, model_hc.labels_))"
      ]
    },
    {
      "cell_type": "code",
      "execution_count": null,
      "metadata": {},
      "outputs": [],
      "source": [
        "# Predicción de los clusters\n",
        "Cluster_3 = model_hc.fit_predict(train_df1_out)\n",
        "\n",
        "df_final['Cluster_3']= Cluster_3\n",
        "\n",
        "# A partir de ahora, sólo trabajaremos con \"df_final\"\n",
        "df_final.head(3)"
      ]
    },
    {
      "cell_type": "markdown",
      "metadata": {
        "id": "YN084PPjGX33"
      },
      "source": [
        "## Clustering Algorithm: DBSCAN"
      ]
    },
    {
      "cell_type": "markdown",
      "metadata": {
        "id": "WsNWJHSdGol3"
      },
      "source": [
        "### Dataset Original"
      ]
    },
    {
      "cell_type": "code",
      "execution_count": null,
      "metadata": {
        "colab": {
          "base_uri": "https://localhost:8080/"
        },
        "id": "wJ2PRbB_GkIH",
        "outputId": "8060eba3-9440-436e-aa40-26d41baf4565"
      },
      "outputs": [],
      "source": [
        "from sklearn.neighbors import NearestNeighbors\n",
        "\n",
        "# --- Selección de hiperparámetros eps ---\n",
        "\n",
        "# --- Gráfica de distancias K --\n",
        "neighbors = NearestNeighbors(n_neighbors = 2)\n",
        "neighbors.fit(train_df1_out)\n",
        "\n",
        "distances, *other = neighbors.kneighbors(train_df1_out)\n",
        "distances = distances[:, 1]\n",
        "print(distances.shape)\n",
        "distances = np.sort(distances, axis = 0)"
      ]
    },
    {
      "cell_type": "code",
      "execution_count": null,
      "metadata": {
        "colab": {
          "base_uri": "https://localhost:8080/",
          "height": 445
        },
        "id": "ibaeF218JFR7",
        "outputId": "1ad07ef4-4673-4f9c-c3ec-e523a39afde3"
      },
      "outputs": [],
      "source": [
        "plt.style.use('seaborn')\n",
        "plt.figure(figsize = (8, 5))\n",
        "plt.plot(distances, color = 'red')\n",
        "plt.ylabel('Distancia al K vecino más cercano')\n",
        "plt.show()"
      ]
    },
    {
      "cell_type": "code",
      "execution_count": null,
      "metadata": {
        "colab": {
          "base_uri": "https://localhost:8080/"
        },
        "id": "xLoyXk2vJKPv",
        "outputId": "262b7170-1e9b-4db6-ac91-cbedeeb2ac25"
      },
      "outputs": [],
      "source": [
        "# --- Selección del punto de curvatura máxima ---\n",
        "kl = KneeLocator(range(len(distances)), distances, curve = 'convex', direction = 'increasing')\n",
        "kl.elbow"
      ]
    },
    {
      "cell_type": "code",
      "execution_count": null,
      "metadata": {
        "colab": {
          "base_uri": "https://localhost:8080/"
        },
        "id": "_X-okeDtJNFV",
        "outputId": "c3bec2a7-bace-4eda-dfd9-9ea69b33229d"
      },
      "outputs": [],
      "source": [
        "# --- Epsilon óptimo --\n",
        "epsilon = distances[kl.elbow]\n",
        "epsilon"
      ]
    },
    {
      "cell_type": "code",
      "execution_count": null,
      "metadata": {
        "colab": {
          "base_uri": "https://localhost:8080/",
          "height": 716
        },
        "id": "HJFBOzVGJVPm",
        "outputId": "c2039f50-b3ed-4b83-aed7-ec0bad6e666b"
      },
      "outputs": [],
      "source": [
        "# --- Selección de hiperparámetros min_sample ---\n",
        "silhoutte_coefs = []\n",
        "\n",
        "for min_points in [5, 8, 10, 15, 20, 30]:\n",
        "    model_d = DBSCAN(eps = epsilon, min_samples = min_points)\n",
        "    model_d.fit(train_df1_out)\n",
        "    silhoutte_coefs.append(silhouette_score(train_df1_out, model_d.labels_))\n",
        "\n",
        "plt.figure(figsize = (12, 8))\n",
        "plt.plot([5, 8, 10, 15, 20, 30], silhoutte_coefs, color = 'r', marker = '^')\n",
        "plt.xlabel('Muestras mínimas de cada cluster')\n",
        "plt.ylabel('Silhoutte Score')\n",
        "plt.title('Silhoutte Score - Min Samples de Clusters')\n",
        "plt.show()"
      ]
    },
    {
      "cell_type": "code",
      "execution_count": null,
      "metadata": {
        "colab": {
          "base_uri": "https://localhost:8080/",
          "height": 75
        },
        "id": "afrKKxS5JyRk",
        "outputId": "962c71c0-8b53-49c5-bcd7-d6efb22e71b6"
      },
      "outputs": [],
      "source": [
        "# --- Modelo DBSCAN ---\n",
        "model_db = DBSCAN(eps = epsilon, min_samples = 5, n_jobs=-1)\n",
        "model_db.fit(train_df1_out)"
      ]
    },
    {
      "cell_type": "code",
      "execution_count": null,
      "metadata": {
        "colab": {
          "base_uri": "https://localhost:8080/"
        },
        "id": "63b1a6zqKhi_",
        "outputId": "536cac16-f25b-40e1-8b6b-a7b2bf8a6c7e"
      },
      "outputs": [],
      "source": [
        "# --- Evaluación del modelo DBSCAN ---\n",
        "print(\" ### DBSCAN ###\")\n",
        "print('Silhouette Score: ', silhouette_score(train_df1_out, model_db.labels_))\n",
        "print('Calinski harabasz score: ', calinski_harabasz_score(train_df1_out, model_db.labels_))"
      ]
    },
    {
      "cell_type": "code",
      "execution_count": null,
      "metadata": {
        "colab": {
          "base_uri": "https://localhost:8080/",
          "height": 228
        },
        "id": "qF8qKov7NbTK",
        "outputId": "ede864bb-3b5f-47ce-c659-c2e8519ba1ec"
      },
      "outputs": [],
      "source": [
        "# Predicción de los clusters\n",
        "Cluster_4 = model_db.fit_predict(train_df1_out)\n",
        "\n",
        "df_final['Cluster_4']= Cluster_4\n",
        "\n",
        "# A partir de ahora, sólo trabajaremos con \"df_final\"\n",
        "df_final.head(3)"
      ]
    },
    {
      "cell_type": "code",
      "execution_count": null,
      "metadata": {
        "colab": {
          "base_uri": "https://localhost:8080/"
        },
        "id": "HFaLd0EjRyuR",
        "outputId": "3a7eedf2-63ff-4169-9ccc-877bdb058afc"
      },
      "outputs": [],
      "source": [
        "df_final['Cluster_4'].value_counts()"
      ]
    },
    {
      "cell_type": "markdown",
      "metadata": {
        "id": "h4dHIm9HN46r"
      },
      "source": [
        "### Dataset reducido"
      ]
    },
    {
      "cell_type": "code",
      "execution_count": null,
      "metadata": {
        "colab": {
          "base_uri": "https://localhost:8080/"
        },
        "id": "LBwwWHPjOD4E",
        "outputId": "7f4ebaae-1342-4997-bc7e-b4d064c83a2e"
      },
      "outputs": [],
      "source": [
        "# --- Selección de hiperparámetros eps ---\n",
        "\n",
        "# --- Gráfica de distancias K --\n",
        "neighbors = NearestNeighbors(n_neighbors = 2)\n",
        "neighbors.fit(X_pca)\n",
        "\n",
        "distances, *other = neighbors.kneighbors(X_pca)\n",
        "distances = distances[:, 1]\n",
        "print(distances.shape)\n",
        "distances = np.sort(distances, axis = 0)\n",
        "distances"
      ]
    },
    {
      "cell_type": "code",
      "execution_count": null,
      "metadata": {
        "colab": {
          "base_uri": "https://localhost:8080/",
          "height": 448
        },
        "id": "4MBd_BEuo1WM",
        "outputId": "65ab7e48-677d-4bac-f9c7-46429da390ea"
      },
      "outputs": [],
      "source": [
        "plt.style.use('seaborn')\n",
        "plt.figure(figsize = (8, 5))\n",
        "plt.plot(distances, color = 'red')\n",
        "plt.ylabel('Distancia al K vecino más cercano')\n",
        "plt.show()"
      ]
    },
    {
      "cell_type": "code",
      "execution_count": null,
      "metadata": {
        "colab": {
          "base_uri": "https://localhost:8080/"
        },
        "id": "7ck-38ciOPPT",
        "outputId": "4cbb8718-8504-4560-c0b3-dfacd9fada31"
      },
      "outputs": [],
      "source": [
        "# --- Selección del punto de curvatura máxima ---\n",
        "kl = KneeLocator(range(len(distances)), distances, curve = 'convex', direction = 'increasing')\n",
        "kl.elbow"
      ]
    },
    {
      "cell_type": "code",
      "execution_count": null,
      "metadata": {
        "colab": {
          "base_uri": "https://localhost:8080/"
        },
        "id": "6jWx76tFOR_q",
        "outputId": "7e39f760-9043-45b5-daf2-a95a6a6dd49f"
      },
      "outputs": [],
      "source": [
        "# --- Epsilon óptimo --\n",
        "epsilon = distances[kl.elbow]\n",
        "epsilon"
      ]
    },
    {
      "cell_type": "code",
      "execution_count": null,
      "metadata": {
        "colab": {
          "base_uri": "https://localhost:8080/",
          "height": 716
        },
        "id": "q7LLRjteOUw-",
        "outputId": "17e59e93-7745-49e4-d3fa-9a5fe1e79ea0"
      },
      "outputs": [],
      "source": [
        "# --- Selección de hiperparámetros min_sample ---\n",
        "silhoutte_coefs = []\n",
        "\n",
        "for min_points in [5, 8, 10, 15, 20, 30]:\n",
        "    model_d = DBSCAN(eps = epsilon, min_samples = min_points)\n",
        "    model_d.fit(X_pca)\n",
        "    silhoutte_coefs.append(silhouette_score(X_pca, model_d.labels_))\n",
        "\n",
        "plt.figure(figsize = (12, 8))\n",
        "plt.plot([5, 8, 10, 15, 20, 30], silhoutte_coefs, color = 'r', marker = '^')\n",
        "plt.xlabel('Muestras mínimas de cada cluster')\n",
        "plt.ylabel('Silhoutte Score')\n",
        "plt.title('Silhoutte Score - Min Samples de Clusters')\n",
        "plt.show()"
      ]
    },
    {
      "cell_type": "code",
      "execution_count": null,
      "metadata": {
        "colab": {
          "base_uri": "https://localhost:8080/",
          "height": 75
        },
        "id": "skQjdWZ-ObpK",
        "outputId": "00480acc-60f4-4e0d-878d-76a3d262955e"
      },
      "outputs": [],
      "source": [
        "# --- Modelo DBSCAN ---\n",
        "model_db_pca = DBSCAN(eps = 2.65, min_samples = 7)\n",
        "model_db_pca.fit(X_pca)"
      ]
    },
    {
      "cell_type": "code",
      "execution_count": null,
      "metadata": {
        "colab": {
          "base_uri": "https://localhost:8080/"
        },
        "id": "opeI_XqkOhAu",
        "outputId": "82fc8147-ac57-4483-b21c-b42e3088ee97"
      },
      "outputs": [],
      "source": [
        "# --- Evaluación del modelo DBSCAN ---\n",
        "print(\" ### DBSCAN ###\")\n",
        "print('Silhouette Score: ', silhouette_score(X_pca, model_db_pca.labels_))\n",
        "print('Calinski harabasz score: ', calinski_harabasz_score(X_pca, model_db_pca.labels_))"
      ]
    },
    {
      "cell_type": "code",
      "execution_count": null,
      "metadata": {
        "colab": {
          "base_uri": "https://localhost:8080/",
          "height": 228
        },
        "id": "TywR-WFeOtj5",
        "outputId": "0c7caea1-017c-4ec3-bb6d-3c8ee828049b"
      },
      "outputs": [],
      "source": [
        "# Predicción de los clusters\n",
        "Cluster_5 = model_db_pca.fit_predict(X_pca)\n",
        "\n",
        "df_final['Cluster_5']= Cluster_5\n",
        "\n",
        "# A partir de ahora, sólo trabajaremos con \"df_final\"\n",
        "df_final.head(3)"
      ]
    },
    {
      "cell_type": "code",
      "execution_count": null,
      "metadata": {
        "colab": {
          "base_uri": "https://localhost:8080/"
        },
        "id": "rqFPSg0GxWX-",
        "outputId": "7f9e3334-c2d1-4757-e0d6-a948abf3bc6f"
      },
      "outputs": [],
      "source": [
        "df_final['Cluster_5'].value_counts()"
      ]
    },
    {
      "cell_type": "code",
      "execution_count": null,
      "metadata": {
        "colab": {
          "base_uri": "https://localhost:8080/",
          "height": 1000
        },
        "id": "ZsFiR8n-O1YS",
        "outputId": "b0cba11a-38a5-46a9-ac83-668c8984661e"
      },
      "outputs": [],
      "source": [
        "# 3d scatterplot using matplotlib\n",
        "\n",
        "fig = plt.figure(figsize = (15,15))\n",
        "ax = fig.add_subplot(111, projection='3d')\n",
        "ax.scatter(X_pca[Cluster_4 == 0,0],X_pca[Cluster_4 == 0,1],X_pca[Cluster_4 == 0,2], s = 40 , color = 'blue', label = \"cluster 0\")\n",
        "ax.scatter(X_pca[Cluster_4 == -1,0],X_pca[Cluster_4 == -1,1],X_pca[Cluster_4 == -1,2], s = 40 , color = 'orange', label = \"outliers\")\n",
        "ax.set_xlabel('PC1')\n",
        "ax.set_ylabel('PC2')\n",
        "ax.set_zlabel('PC3')\n",
        "ax.legend()\n",
        "plt.show()"
      ]
    },
    {
      "cell_type": "markdown",
      "metadata": {
        "id": "Mcbuw496ntde"
      },
      "source": [
        "## Clustering Algorithm: Gaussian Mixture Model"
      ]
    },
    {
      "cell_type": "markdown",
      "metadata": {
        "id": "pQNp2ebIpI2O"
      },
      "source": [
        "### Dataset Original"
      ]
    },
    {
      "cell_type": "code",
      "execution_count": null,
      "metadata": {
        "colab": {
          "base_uri": "https://localhost:8080/",
          "height": 535
        },
        "id": "cYOTSYmBn3KP",
        "outputId": "81382c98-a8a9-44bb-c43c-3a093fe086da"
      },
      "outputs": [],
      "source": [
        "# --- Estimación de hiperparámetros ---\n",
        "\n",
        "n_components = np.arange(2, 12)\n",
        "\n",
        "models_g = [GaussianMixture(n_components=n, random_state=123).fit(train_df1_out) for n in n_components]\n",
        "\n",
        "plt.plot(n_components, [m.bic(train_df1_out) for m in models_g], label=\"BIC\")\n",
        "plt.plot(n_components, [m.aic(train_df1_out) for m in models_g], label=\"AIC\")\n",
        "plt.legend()\n",
        "plt.xlabel(\"Número de Clusters\")"
      ]
    },
    {
      "cell_type": "code",
      "execution_count": null,
      "metadata": {
        "id": "UACn3C2goYmb"
      },
      "outputs": [],
      "source": [
        "# --- Modelo GMM ---\n",
        "model_gmm = GaussianMixture(n_components=6, random_state=123, covariance_type = 'full').fit(train_df1_out)"
      ]
    },
    {
      "cell_type": "code",
      "execution_count": null,
      "metadata": {
        "colab": {
          "base_uri": "https://localhost:8080/"
        },
        "id": "ETAxKI4_ofc3",
        "outputId": "23115978-e959-448f-8aa0-42326e119930"
      },
      "outputs": [],
      "source": [
        "# --- Evaluación del modelo GMM ---\n",
        "labels_ = model_gmm.predict(train_df1_out)\n",
        "\n",
        "print(\" ### DBSCAN ###\")\n",
        "print('Silhouette Score: ', silhouette_score(train_df1_out, labels_))\n",
        "print('Calinski harabasz score: ', calinski_harabasz_score(train_df1_out, labels_))"
      ]
    },
    {
      "cell_type": "code",
      "execution_count": null,
      "metadata": {
        "colab": {
          "base_uri": "https://localhost:8080/",
          "height": 228
        },
        "id": "amVJtcwds6mF",
        "outputId": "dc2d5618-caf2-4001-9ed7-fa9fddde03b9"
      },
      "outputs": [],
      "source": [
        "# Predicción de los clusters\n",
        "Cluster_6 = model_gmm.fit_predict(train_df1_out)\n",
        "\n",
        "df_final['Cluster_6']= Cluster_6\n",
        "\n",
        "# A partir de ahora, sólo trabajaremos con \"df_final\"\n",
        "df_final.head(3)"
      ]
    },
    {
      "cell_type": "code",
      "execution_count": null,
      "metadata": {
        "colab": {
          "base_uri": "https://localhost:8080/"
        },
        "id": "xSpaatpGy3hc",
        "outputId": "21584f66-c3ef-4ec9-a5aa-5a7ba1bc9fdf"
      },
      "outputs": [],
      "source": [
        "df_final['Cluster_6'].value_counts()"
      ]
    },
    {
      "cell_type": "markdown",
      "metadata": {
        "id": "irzKDjfttCCV"
      },
      "source": [
        "### Dataset reducido"
      ]
    },
    {
      "cell_type": "code",
      "execution_count": null,
      "metadata": {
        "colab": {
          "base_uri": "https://localhost:8080/",
          "height": 535
        },
        "id": "ZWTYrZ8NtE2F",
        "outputId": "3cb69df8-ca0d-43fb-d7b2-76777bb9411b"
      },
      "outputs": [],
      "source": [
        "# --- Estimación de hiperparámetros ---\n",
        "\n",
        "n_components = np.arange(2, 20)\n",
        "\n",
        "models_g = [GaussianMixture(n_components=n, random_state=123).fit(X_pca) for n in n_components]\n",
        "\n",
        "plt.plot(n_components, [m.bic(X_pca) for m in models_g], label=\"BIC\")\n",
        "plt.plot(n_components, [m.aic(X_pca) for m in models_g], label=\"AIC\")\n",
        "plt.legend()\n",
        "plt.xlabel(\"Número de Clusters\")"
      ]
    },
    {
      "cell_type": "code",
      "execution_count": null,
      "metadata": {
        "id": "ZjZ3M1c-tQ8M"
      },
      "outputs": [],
      "source": [
        "# --- Modelo GMM ---\n",
        "model_gmm_pca = GaussianMixture(n_components=5, random_state=123, covariance_type = 'full').fit(X_pca)"
      ]
    },
    {
      "cell_type": "code",
      "execution_count": null,
      "metadata": {
        "colab": {
          "base_uri": "https://localhost:8080/"
        },
        "id": "o8LoXTTIzcwE",
        "outputId": "6e8dc9bb-ca54-4842-e927-c6420448112a"
      },
      "outputs": [],
      "source": [
        "# --- Evaluación del modelo GMM ---\n",
        "labels_ = model_gmm_pca.predict(X_pca)\n",
        "\n",
        "print(\" ### DBSCAN ###\")\n",
        "print('Silhouette Score: ', silhouette_score(X_pca, labels_))\n",
        "print('Calinski harabasz score: ', calinski_harabasz_score(X_pca, labels_))"
      ]
    },
    {
      "cell_type": "code",
      "execution_count": null,
      "metadata": {
        "colab": {
          "base_uri": "https://localhost:8080/",
          "height": 228
        },
        "id": "fRk7i0pozgHr",
        "outputId": "08025f38-dd4e-4fd4-f2fa-9c89eb1c8a9b"
      },
      "outputs": [],
      "source": [
        "# Predicción de los clusters\n",
        "Cluster_7 = model_gmm_pca.fit_predict(X_pca)\n",
        "\n",
        "df_final['Cluster_7'] = Cluster_7\n",
        "\n",
        "# A partir de ahora, sólo trabajaremos con \"df_final\"\n",
        "df_final.head(3)"
      ]
    },
    {
      "cell_type": "code",
      "execution_count": null,
      "metadata": {
        "colab": {
          "base_uri": "https://localhost:8080/"
        },
        "id": "H_gKb8Qr3q_1",
        "outputId": "7b53b9f5-5fc3-4967-b0eb-9f9ebf45a388"
      },
      "outputs": [],
      "source": [
        "df_final['Cluster_7'].value_counts()"
      ]
    },
    {
      "cell_type": "code",
      "execution_count": null,
      "metadata": {
        "colab": {
          "base_uri": "https://localhost:8080/",
          "height": 1000
        },
        "id": "zPyV4Afuzpxu",
        "outputId": "d4d79be6-6d9b-4e5b-8327-730e271dbe5e"
      },
      "outputs": [],
      "source": [
        "# 3d scatterplot using matplotlib\n",
        "\n",
        "fig = plt.figure(figsize = (15,15))\n",
        "ax = fig.add_subplot(111, projection='3d')\n",
        "ax.scatter(X_pca[Cluster_7 == 0,0],X_pca[Cluster_7 == 0,1],X_pca[Cluster_7 == 0,2], s = 40 , color = 'blue', label = \"cluster 0\")\n",
        "ax.scatter(X_pca[Cluster_7 == 1,0],X_pca[Cluster_7 == 1,1],X_pca[Cluster_7 == 1,2], s = 40 , color = 'orange', label = \"cluster 1\")\n",
        "ax.scatter(X_pca[Cluster_7 == 2,0],X_pca[Cluster_7 == 2,1],X_pca[Cluster_7 == 2,2], s = 40 , color = 'green', label = \"cluster 2\")\n",
        "ax.scatter(X_pca[Cluster_7 == 3,0],X_pca[Cluster_7 == 3,1],X_pca[Cluster_7 == 3,2], s = 40 , color = 'purple', label = \"cluster 3\")\n",
        "ax.scatter(X_pca[Cluster_7 == 4,0],X_pca[Cluster_7 == 4,1],X_pca[Cluster_7 == 4,2], s = 40 , color = 'red', label = \"cluster 4\")\n",
        "ax.set_xlabel('PC1')\n",
        "ax.set_ylabel('PC2')\n",
        "ax.set_zlabel('PC3')\n",
        "ax.legend()\n",
        "plt.show()"
      ]
    },
    {
      "cell_type": "code",
      "execution_count": null,
      "metadata": {
        "colab": {
          "base_uri": "https://localhost:8080/",
          "height": 1000
        },
        "id": "lwEkyziZ3UDC",
        "outputId": "28a1388d-a5af-4f08-b680-50a89b6a11e9"
      },
      "outputs": [],
      "source": [
        "# 3d scatterplot using matplotlib\n",
        "\n",
        "fig = plt.figure(figsize = (15,15))\n",
        "ax = fig.add_subplot(111, projection='3d')\n",
        "ax.scatter(X_pca[Cluster_7 == 0,0],X_pca[Cluster_7 == 0,1], s = 40 , color = 'blue', label = \"cluster 0\")\n",
        "ax.scatter(X_pca[Cluster_7 == 1,0],X_pca[Cluster_7 == 1,1], s = 40 , color = 'orange', label = \"cluster 1\")\n",
        "ax.scatter(X_pca[Cluster_7 == 2,0],X_pca[Cluster_7 == 2,1], s = 40 , color = 'green', label = \"cluster 2\")\n",
        "ax.scatter(X_pca[Cluster_7 == 3,0],X_pca[Cluster_7 == 3,1], s = 40 , color = 'purple', label = \"cluster 3\")\n",
        "ax.scatter(X_pca[Cluster_7 == 4,0],X_pca[Cluster_7 == 4,1], s = 40 , color = 'red', label = \"cluster 4\")\n",
        "ax.set_xlabel('PC1')\n",
        "ax.set_ylabel('PC2')\n",
        "ax.legend()\n",
        "plt.show()"
      ]
    }
  ],
  "metadata": {
    "colab": {
      "collapsed_sections": [
        "Ns8esRwXAXv1",
        "6SgoAPl2AXv3",
        "lfyAq1bqAXv4",
        "TM38oehIAXv6",
        "wjyNRL9zAXv8",
        "mGLb0RmiAXv9",
        "vphZbFg9AXwA",
        "WsNWJHSdGol3",
        "h4dHIm9HN46r"
      ],
      "provenance": []
    },
    "kernelspec": {
      "display_name": "base",
      "language": "python",
      "name": "python3"
    },
    "language_info": {
      "codemirror_mode": {
        "name": "ipython",
        "version": 3
      },
      "file_extension": ".py",
      "mimetype": "text/x-python",
      "name": "python",
      "nbconvert_exporter": "python",
      "pygments_lexer": "ipython3",
      "version": "3.9.7"
    }
  },
  "nbformat": 4,
  "nbformat_minor": 0
}
