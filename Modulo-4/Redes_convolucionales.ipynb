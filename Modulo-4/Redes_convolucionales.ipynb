{
 "cells": [
  {
   "cell_type": "code",
   "execution_count": 1,
   "metadata": {},
   "outputs": [
    {
     "name": "stderr",
     "output_type": "stream",
     "text": [
      "2024-05-22 19:38:54.908450: I tensorflow/core/platform/cpu_feature_guard.cc:193] This TensorFlow binary is optimized with oneAPI Deep Neural Network Library (oneDNN) to use the following CPU instructions in performance-critical operations:  AVX2 FMA\n",
      "To enable them in other operations, rebuild TensorFlow with the appropriate compiler flags.\n"
     ]
    }
   ],
   "source": [
    "### Carga de paquetes y librerias\n",
    "#!pip install keras-tuner\n",
    "import numpy as np\n",
    "import matplotlib.pyplot as plt\n",
    "\n",
    "import tensorflow as tf #Framework para deep learning\n",
    "from tensorflow import keras #API que contiene la mayoría de funciones para las RN"
   ]
  },
  {
   "cell_type": "code",
   "execution_count": 2,
   "metadata": {},
   "outputs": [],
   "source": [
    "### Carga de datos fasion_mnist\n",
    "(x_train, y_train), (x_test, y_test) = keras.datasets.fashion_mnist.load_data()\n",
    "\n",
    "### Estandarización de los datos\n",
    "x_train2 = x_train/255 # Valores entre 0 y 1\n",
    "x_test2 = x_test/255"
   ]
  },
  {
   "cell_type": "code",
   "execution_count": 6,
   "metadata": {},
   "outputs": [],
   "source": [
    "## Definición de la arquitectura CNN\n",
    "model_cnn = keras.models.Sequential()\n",
    "\n",
    "# Definición de la primera capa convolucional\n",
    "model_cnn.add(\n",
    "    keras.layers.Conv2D(\n",
    "        filters= 32,\n",
    "        kernel_size= (3,3),\n",
    "        strides= (2,2),\n",
    "        activation= 'relu',\n",
    "        input_shape=(28,28,1)\n",
    "        )\n",
    ")\n",
    "\n",
    "# Definición de la capa de agrupación\n",
    "model_cnn.add(\n",
    "    keras.layers.MaxPooling2D(\n",
    "        pool_size=(2,2),\n",
    "        strides=(2,2)\n",
    "    )\n",
    ")\n",
    "\n",
    "## La salida de la capa anterior es un tensor (vector) de 2D, Se debe convertir a 1D\n",
    "# antes de pasar a las capas densas\n",
    "model_cnn.add(\n",
    "    keras.layers.Flatten()\n",
    ")\n",
    "\n",
    "## Adicion de las capas densas (totalmente conectadas) - Cabecera de clasificación\n",
    "model_cnn.add(\n",
    "    keras.layers.Dense(\n",
    "        units=128,\n",
    "        activation='relu'\n",
    "    )\n",
    ")\n",
    "\n",
    "# Definición de capa de salida\n",
    "model_cnn.add(\n",
    "    keras.layers.Dense(\n",
    "        units=10,\n",
    "        activation='softmax'\n",
    "    )\n",
    ")"
   ]
  },
  {
   "cell_type": "code",
   "execution_count": 14,
   "metadata": {},
   "outputs": [
    {
     "name": "stdout",
     "output_type": "stream",
     "text": [
      "Model: \"sequential_3\"\n",
      "_________________________________________________________________\n",
      " Layer (type)                Output Shape              Param #   \n",
      "=================================================================\n",
      " conv2d_2 (Conv2D)           (None, 13, 13, 32)        320       \n",
      "                                                                 \n",
      " max_pooling2d (MaxPooling2D  (None, 6, 6, 32)         0         \n",
      " )                                                               \n",
      "                                                                 \n",
      " flatten (Flatten)           (None, 1152)              0         \n",
      "                                                                 \n",
      " dense (Dense)               (None, 128)               147584    \n",
      "                                                                 \n",
      " dense_1 (Dense)             (None, 10)                1290      \n",
      "                                                                 \n",
      "=================================================================\n",
      "Total params: 149,194\n",
      "Trainable params: 149,194\n",
      "Non-trainable params: 0\n",
      "_________________________________________________________________\n"
     ]
    }
   ],
   "source": [
    "## Compilación del modelo\n",
    "model_cnn.compile(\n",
    "    optimizer='adam',\n",
    "    loss='sparse_categorical_crossentropy',\n",
    "    metrics=['accuracy']\n",
    ")\n",
    "\n",
    "model_cnn.summary()"
   ]
  },
  {
   "cell_type": "code",
   "execution_count": 11,
   "metadata": {},
   "outputs": [
    {
     "name": "stdout",
     "output_type": "stream",
     "text": [
      "You must install pydot (`pip install pydot`) and install graphviz (see instructions at https://graphviz.gitlab.io/download/) for plot_model to work.\n"
     ]
    }
   ],
   "source": [
    "#%pip install pydot\n",
    "keras.utils.plot_model(\n",
    "    model_cnn,\n",
    "    to_file='modelo_cnn1.png',\n",
    "    show_shapes=True\n",
    ")"
   ]
  },
  {
   "cell_type": "code",
   "execution_count": 15,
   "metadata": {},
   "outputs": [
    {
     "name": "stdout",
     "output_type": "stream",
     "text": [
      "Epoch 1/3\n",
      "1500/1500 [==============================] - 10s 6ms/step - loss: 0.5170 - accuracy: 0.8159 - val_loss: 0.4032 - val_accuracy: 0.8589\n",
      "Epoch 2/3\n",
      "1500/1500 [==============================] - 8s 5ms/step - loss: 0.3641 - accuracy: 0.8681 - val_loss: 0.3635 - val_accuracy: 0.8674\n",
      "Epoch 3/3\n",
      "1500/1500 [==============================] - 8s 5ms/step - loss: 0.3215 - accuracy: 0.8826 - val_loss: 0.3376 - val_accuracy: 0.8792\n"
     ]
    }
   ],
   "source": [
    "## Entrenamiento de la Red Neuronal\n",
    "history = model_cnn.fit(\n",
    "    x_train2,\n",
    "    y_train,\n",
    "    epochs=3,\n",
    "    #validation_data=(x_test2, y_test)\n",
    "    validation_split=0.2\n",
    ")"
   ]
  },
  {
   "cell_type": "code",
   "execution_count": 18,
   "metadata": {},
   "outputs": [
    {
     "name": "stdout",
     "output_type": "stream",
     "text": [
      "313/313 [==============================] - 1s 2ms/step\n"
     ]
    }
   ],
   "source": [
    "## Evaluación de la red con dataset de test\n",
    "from sklearn.metrics import classification_report\n",
    "class_name= [\"T-shirt/top\", \"Trouser\", \"Pullover\", \"Dress\", \"Coat\", \"Sandal\", \"Shirt\", \"Sneaker\", \"Bag\", \"Ankle boot\"]\n",
    "\n",
    "y_hat = np.argmax(model_cnn.predict(x_test2), axis=1)"
   ]
  },
  {
   "cell_type": "code",
   "execution_count": 23,
   "metadata": {},
   "outputs": [
    {
     "name": "stdout",
     "output_type": "stream",
     "text": [
      "              precision    recall  f1-score   support\n",
      "\n",
      " T-shirt/top       0.85      0.79      0.82      1000\n",
      "     Trouser       0.98      0.97      0.98      1000\n",
      "    Pullover       0.82      0.78      0.80      1000\n",
      "       Dress       0.87      0.91      0.89      1000\n",
      "        Coat       0.84      0.69      0.76      1000\n",
      "      Sandal       0.97      0.96      0.96      1000\n",
      "       Shirt       0.58      0.72      0.64      1000\n",
      "     Sneaker       0.95      0.92      0.94      1000\n",
      "         Bag       0.98      0.97      0.97      1000\n",
      "  Ankle boot       0.92      0.96      0.94      1000\n",
      "\n",
      "    accuracy                           0.87     10000\n",
      "   macro avg       0.88      0.87      0.87     10000\n",
      "weighted avg       0.88      0.87      0.87     10000\n",
      "\n"
     ]
    }
   ],
   "source": [
    "print(classification_report(y_test, y_hat, target_names=class_name))"
   ]
  },
  {
   "cell_type": "code",
   "execution_count": 28,
   "metadata": {},
   "outputs": [
    {
     "data": {
      "image/png": "[encoded data removed]",
      "text/plain": [
       "<Figure size 1152x576 with 10 Axes>"
      ]
     },
     "metadata": {},
     "output_type": "display_data"
    }
   ],
   "source": [
    "errors = np.nonzero(y_hat != y_test)[0]\n",
    "# Visualizar las primeras 10 predicciones erroneas\n",
    "plt.figure(figsize=(16, 8))\n",
    "for i, incorrect in enumerate(errors[0:10]):\n",
    "    plt.subplot(2,5, i+1)\n",
    "    plt.xticks([])\n",
    "    plt.yticks([])\n",
    "    plt.imshow(x_test[incorrect].reshape(28,28), cmap = 'Reds')\n",
    "    plt.title(\"Prediccion: {}\".format(class_name[y_hat[incorrect]]))\n",
    "    plt.xlabel(\"Real: {}\".format(class_name[y_test[incorrect]]))"
   ]
  }
 ],
 "metadata": {
  "kernelspec": {
   "display_name": "base",
   "language": "python",
   "name": "python3"
  },
  "language_info": {
   "codemirror_mode": {
    "name": "ipython",
    "version": 3
   },
   "file_extension": ".py",
   "mimetype": "text/x-python",
   "name": "python",
   "nbconvert_exporter": "python",
   "pygments_lexer": "ipython3",
   "version": "3.9.7"
  }
 },
 "nbformat": 4,
 "nbformat_minor": 2
}
