{
 "cells": [
  {
   "cell_type": "code",
   "execution_count": 1,
   "metadata": {},
   "outputs": [
    {
     "name": "stderr",
     "output_type": "stream",
     "text": [
      "2024-05-20 19:25:01.206437: I tensorflow/core/platform/cpu_feature_guard.cc:193] This TensorFlow binary is optimized with oneAPI Deep Neural Network Library (oneDNN) to use the following CPU instructions in performance-critical operations:  AVX2 FMA\n",
      "To enable them in other operations, rebuild TensorFlow with the appropriate compiler flags.\n"
     ]
    }
   ],
   "source": [
    "### Carga de paquetes y librerias\n",
    "#!pip install keras-tuner\n",
    "import numpy as np\n",
    "import matplotlib.pyplot as plt\n",
    "\n",
    "import tensorflow as tf #Framework para deep learning\n",
    "from tensorflow import keras #API que contiene la mayoría de funciones para las RN\n",
    "from keras_tuner.tuners import RandomSearch"
   ]
  },
  {
   "cell_type": "code",
   "execution_count": 2,
   "metadata": {},
   "outputs": [],
   "source": [
    "### Carga de datos fasion_mnist\n",
    "(x_train, y_train), (x_test, y_test) = keras.datasets.fashion_mnist.load_data()\n",
    "\n",
    "### Estandarización de los datos\n",
    "x_train2 = x_train/255 # Valores entre 0 y 1\n",
    "x_test2 = x_test/255"
   ]
  },
  {
   "cell_type": "markdown",
   "metadata": {},
   "source": [
    "# Definicion del modelo para Tunear"
   ]
  },
  {
   "cell_type": "code",
   "execution_count": 9,
   "metadata": {},
   "outputs": [],
   "source": [
    "def build_model(hp):\n",
    "    model = keras.Sequential()\n",
    "    model.add(keras.layers.Flatten(input_shape=(28,28)))\n",
    "\n",
    "    ## Definición de la primera Capa Oculta con ajute de hiperparametros\n",
    "    ## Elegir numero optimo de neuronas\n",
    "    hp_unit_1 = hp.Int('unit_1', min_value=32, max_value=512, step=32)\n",
    "    model.add(keras.layers.Dense(units=hp_unit_1, activation='relu'))\n",
    "\n",
    "    ## Definición de capa de dropout\n",
    "    ## Elegir el dropout rate optimo - Regularizacion\n",
    "    hp_dropout_rate = hp.Float('dropout_rate', min_value=0.1, max_value=0.3, step=0.1)\n",
    "    model.add(keras.layers.Dropout(hp_dropout_rate))\n",
    "\n",
    "    ## Definición de segunda capa oculta con ajuste de hiperparametros\n",
    "    ## Elegir funcion de activacion optima\n",
    "    hp_activation_2 = hp.Choice('activation', values=['relu', 'tanh'])\n",
    "    hp_unit_2 = hp.Int('unit_2', min_value=32, max_value=512, step=32)\n",
    "    model.add(keras.layers.Dense(units=hp_unit_2, activation=hp_activation_2))\n",
    "\n",
    "    ## Definicion de la capa de salida\n",
    "    model.add(keras.layers.Dense(10, activation='softmax'))\n",
    "\n",
    "    ## Definicion de la tasa de aprendizaje (learning_rate) del optimizador\n",
    "    ## Elegir un valor optimo entre 0.1, 0.01, 0.001, 0.0001\n",
    "    hp_learning_rate = hp.Choice('learning_rate', values=[0.1, 0.01, 0.001, 0.0001])\n",
    "\n",
    "    model.compile(\n",
    "        optimizer=keras.optimizers.Adam(learning_rate=hp_learning_rate),\n",
    "        loss='sparse_categorical_crossentropy',\n",
    "        metrics=['accuracy']\n",
    "    )\n",
    "\n",
    "    return model"
   ]
  },
  {
   "cell_type": "code",
   "execution_count": 10,
   "metadata": {},
   "outputs": [],
   "source": [
    "### Definición del Tuner\n",
    "tuner = RandomSearch(\n",
    "    build_model,\n",
    "    objective='val_accuracy',\n",
    "    max_trials=5,\n",
    "    executions_per_trial=2,\n",
    "    directory='results_tuner',\n",
    "    project_name='Demo'\n",
    ")"
   ]
  },
  {
   "cell_type": "code",
   "execution_count": 12,
   "metadata": {},
   "outputs": [
    {
     "name": "stdout",
     "output_type": "stream",
     "text": [
      "Trial 5 Complete [00h 01m 36s]\n",
      "val_accuracy: 0.14910000190138817\n",
      "\n",
      "Best val_accuracy So Far: 0.8814999759197235\n",
      "Total elapsed time: 00h 07m 13s\n"
     ]
    }
   ],
   "source": [
    "## Ejecutar tuning de hiperparametros\n",
    "tuner.search(x_train2, y_train, epochs=5, validation_data=(x_test2, y_test))"
   ]
  },
  {
   "cell_type": "code",
   "execution_count": 15,
   "metadata": {},
   "outputs": [
    {
     "data": {
      "text/plain": [
       "'relu'"
      ]
     },
     "execution_count": 15,
     "metadata": {},
     "output_type": "execute_result"
    }
   ],
   "source": [
    "tuner.get_best_hyperparameters()[0].get('activation')"
   ]
  },
  {
   "cell_type": "code",
   "execution_count": 17,
   "metadata": {},
   "outputs": [
    {
     "name": "stdout",
     "output_type": "stream",
     "text": [
      "unit_1 320\n",
      "unit_2 448\n",
      "activation relu\n",
      "learning_rate 0.001\n"
     ]
    }
   ],
   "source": [
    "### Mostrar el mejor modelo\n",
    "for h_param in [f\"unit_{i}\" for i in range(1,3)] + ['activation'] + ['learning_rate']:\n",
    "    print(h_param, tuner.get_best_hyperparameters()[0].get(h_param))\n",
    "    \n"
   ]
  },
  {
   "cell_type": "code",
   "execution_count": null,
   "metadata": {},
   "outputs": [],
   "source": [
    "### Almacenar el mejor modelo\n",
    "best_model = tuner.get_best_models()[0]\n",
    "### Definir la arquitectura del modelo según hiperparámetros optimos\n",
    "best_model.build(x_train2.shape)\n",
    "### Resumen de la arquitectura\n",
    "best_model.summary()"
   ]
  }
 ],
 "metadata": {
  "kernelspec": {
   "display_name": "base",
   "language": "python",
   "name": "python3"
  },
  "language_info": {
   "codemirror_mode": {
    "name": "ipython",
    "version": 3
   },
   "file_extension": ".py",
   "mimetype": "text/x-python",
   "name": "python",
   "nbconvert_exporter": "python",
   "pygments_lexer": "ipython3",
   "version": "3.9.7"
  }
 },
 "nbformat": 4,
 "nbformat_minor": 2
}
