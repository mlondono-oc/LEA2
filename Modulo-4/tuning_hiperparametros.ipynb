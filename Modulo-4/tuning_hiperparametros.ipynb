{
 "cells": [
  {
   "cell_type": "code",
   "execution_count": 1,
   "metadata": {},
   "outputs": [
    {
     "name": "stderr",
     "output_type": "stream",
     "text": [
      "2024-05-20 19:25:01.206437: I tensorflow/core/platform/cpu_feature_guard.cc:193] This TensorFlow binary is optimized with oneAPI Deep Neural Network Library (oneDNN) to use the following CPU instructions in performance-critical operations:  AVX2 FMA\n",
      "To enable them in other operations, rebuild TensorFlow with the appropriate compiler flags.\n"
     ]
    }
   ],
   "source": [
    "### Carga de paquetes y librerias\n",
    "#!pip install keras-tuner\n",
    "import numpy as np\n",
    "import matplotlib.pyplot as plt\n",
    "\n",
    "import tensorflow as tf #Framework para deep learning\n",
    "from tensorflow import keras #API que contiene la mayoría de funciones para las RN\n",
    "from keras_tuner.tuners import RandomSearch\n",
    "\n",
    "keras.utils.set_random_seed(812)"
   ]
  },
  {
   "cell_type": "code",
   "execution_count": 2,
   "metadata": {},
   "outputs": [],
   "source": [
    "### Carga de datos fasion_mnist\n",
    "(x_train, y_train), (x_test, y_test) = keras.datasets.fashion_mnist.load_data()\n",
    "\n",
    "### Estandarización de los datos\n",
    "x_train2 = x_train/255 # Valores entre 0 y 1\n",
    "x_test2 = x_test/255"
   ]
  },
  {
   "cell_type": "markdown",
   "metadata": {},
   "source": [
    "# Definicion del modelo para Tunear"
   ]
  },
  {
   "cell_type": "code",
   "execution_count": 9,
   "metadata": {},
   "outputs": [],
   "source": [
    "def build_model(hp):\n",
    "    model = keras.Sequential()\n",
    "    model.add(keras.layers.Flatten(input_shape=(28,28)))\n",
    "\n",
    "    ## Definición de la primera Capa Oculta con ajute de hiperparametros\n",
    "    ## Elegir numero optimo de neuronas\n",
    "    hp_unit_1 = hp.Int('unit_1', min_value=32, max_value=512, step=32)\n",
    "    model.add(keras.layers.Dense(units=hp_unit_1, activation='relu'))\n",
    "\n",
    "    ## Definición de capa de dropout\n",
    "    ## Elegir el dropout rate optimo - Regularizacion\n",
    "    hp_dropout_rate = hp.Float('dropout_rate', min_value=0.1, max_value=0.3, step=0.1)\n",
    "    model.add(keras.layers.Dropout(hp_dropout_rate))\n",
    "\n",
    "    ## Definición de segunda capa oculta con ajuste de hiperparametros\n",
    "    ## Elegir funcion de activacion optima\n",
    "    hp_activation_2 = hp.Choice('activation', values=['relu', 'tanh'])\n",
    "    hp_unit_2 = hp.Int('unit_2', min_value=32, max_value=512, step=32)\n",
    "    model.add(keras.layers.Dense(units=hp_unit_2, activation=hp_activation_2))\n",
    "\n",
    "    ## Definicion de la capa de salida\n",
    "    model.add(keras.layers.Dense(10, activation='softmax'))\n",
    "\n",
    "    ## Definicion de la tasa de aprendizaje (learning_rate) del optimizador\n",
    "    ## Elegir un valor optimo entre 0.1, 0.01, 0.001, 0.0001\n",
    "    hp_learning_rate = hp.Choice('learning_rate', values=[0.1, 0.01, 0.001, 0.0001])\n",
    "\n",
    "    model.compile(\n",
    "        optimizer=keras.optimizers.Adam(learning_rate=hp_learning_rate),\n",
    "        loss='sparse_categorical_crossentropy',\n",
    "        metrics=['accuracy']\n",
    "    )\n",
    "\n",
    "    return model"
   ]
  },
  {
   "cell_type": "code",
   "execution_count": 10,
   "metadata": {},
   "outputs": [],
   "source": [
    "### Definición del Tuner\n",
    "tuner = RandomSearch(\n",
    "    build_model,\n",
    "    objective='val_accuracy',\n",
    "    max_trials=5,\n",
    "    executions_per_trial=2,\n",
    "    directory='results_tuner',\n",
    "    project_name='Demo'\n",
    ")"
   ]
  },
  {
   "cell_type": "code",
   "execution_count": 12,
   "metadata": {},
   "outputs": [
    {
     "name": "stdout",
     "output_type": "stream",
     "text": [
      "Trial 5 Complete [00h 01m 36s]\n",
      "val_accuracy: 0.14910000190138817\n",
      "\n",
      "Best val_accuracy So Far: 0.8814999759197235\n",
      "Total elapsed time: 00h 07m 13s\n"
     ]
    }
   ],
   "source": [
    "## Ejecutar tuning de hiperparametros\n",
    "tuner.search(x_train2, y_train, epochs=5, validation_data=(x_test2, y_test))"
   ]
  },
  {
   "cell_type": "code",
   "execution_count": 15,
   "metadata": {},
   "outputs": [
    {
     "data": {
      "text/plain": [
       "'relu'"
      ]
     },
     "execution_count": 15,
     "metadata": {},
     "output_type": "execute_result"
    }
   ],
   "source": [
    "tuner.get_best_hyperparameters()[0].get('activation')"
   ]
  },
  {
   "cell_type": "code",
   "execution_count": 19,
   "metadata": {},
   "outputs": [
    {
     "data": {
      "text/plain": [
       "0.1"
      ]
     },
     "execution_count": 19,
     "metadata": {},
     "output_type": "execute_result"
    }
   ],
   "source": [
    "tuner.get_best_hyperparameters()[0].get('dropout_rate')"
   ]
  },
  {
   "cell_type": "code",
   "execution_count": 17,
   "metadata": {},
   "outputs": [
    {
     "name": "stdout",
     "output_type": "stream",
     "text": [
      "unit_1 320\n",
      "unit_2 448\n",
      "activation relu\n",
      "learning_rate 0.001\n"
     ]
    }
   ],
   "source": [
    "### Mostrar el mejor modelo\n",
    "for h_param in [f\"unit_{i}\" for i in range(1,3)] + ['activation'] + ['learning_rate']:\n",
    "    print(h_param, tuner.get_best_hyperparameters()[0].get(h_param))"
   ]
  },
  {
   "cell_type": "code",
   "execution_count": 18,
   "metadata": {},
   "outputs": [
    {
     "name": "stdout",
     "output_type": "stream",
     "text": [
      "Model: \"sequential\"\n",
      "_________________________________________________________________\n",
      " Layer (type)                Output Shape              Param #   \n",
      "=================================================================\n",
      " flatten (Flatten)           (None, 784)               0         \n",
      "                                                                 \n",
      " dense (Dense)               (None, 320)               251200    \n",
      "                                                                 \n",
      " dropout (Dropout)           (None, 320)               0         \n",
      "                                                                 \n",
      " dense_1 (Dense)             (None, 448)               143808    \n",
      "                                                                 \n",
      " dense_2 (Dense)             (None, 10)                4490      \n",
      "                                                                 \n",
      "=================================================================\n",
      "Total params: 399,498\n",
      "Trainable params: 399,498\n",
      "Non-trainable params: 0\n",
      "_________________________________________________________________\n"
     ]
    }
   ],
   "source": [
    "### Almacenar el mejor modelo\n",
    "best_model = tuner.get_best_models()[0]\n",
    "### Definir la arquitectura del modelo según hiperparámetros optimos\n",
    "best_model.build(x_train2.shape)\n",
    "### Resumen de la arquitectura\n",
    "best_model.summary()"
   ]
  },
  {
   "cell_type": "code",
   "execution_count": 20,
   "metadata": {},
   "outputs": [
    {
     "name": "stdout",
     "output_type": "stream",
     "text": [
      "Epoch 1/10\n",
      "1875/1875 [==============================] - 11s 5ms/step - loss: 0.2864 - accuracy: 0.8929 - val_loss: 0.3408 - val_accuracy: 0.8787\n",
      "Epoch 2/10\n",
      "1875/1875 [==============================] - 8s 4ms/step - loss: 0.2757 - accuracy: 0.8963 - val_loss: 0.3491 - val_accuracy: 0.8788\n",
      "Epoch 3/10\n",
      "1875/1875 [==============================] - 8s 4ms/step - loss: 0.2656 - accuracy: 0.8997 - val_loss: 0.3299 - val_accuracy: 0.8843\n",
      "Epoch 4/10\n",
      "1875/1875 [==============================] - 8s 4ms/step - loss: 0.2552 - accuracy: 0.9026 - val_loss: 0.3279 - val_accuracy: 0.8866\n",
      "Epoch 5/10\n",
      "1875/1875 [==============================] - 9s 5ms/step - loss: 0.2465 - accuracy: 0.9074 - val_loss: 0.3430 - val_accuracy: 0.8824\n",
      "Epoch 6/10\n",
      "1875/1875 [==============================] - 10s 5ms/step - loss: 0.2435 - accuracy: 0.9086 - val_loss: 0.3413 - val_accuracy: 0.8866\n",
      "Epoch 7/10\n",
      "1875/1875 [==============================] - 9s 5ms/step - loss: 0.2352 - accuracy: 0.9099 - val_loss: 0.3386 - val_accuracy: 0.8861\n",
      "Epoch 8/10\n",
      "1875/1875 [==============================] - 8s 4ms/step - loss: 0.2290 - accuracy: 0.9127 - val_loss: 0.3392 - val_accuracy: 0.8816\n",
      "Epoch 9/10\n",
      "1875/1875 [==============================] - 7s 4ms/step - loss: 0.2228 - accuracy: 0.9146 - val_loss: 0.3308 - val_accuracy: 0.8865\n",
      "Epoch 10/10\n",
      "1875/1875 [==============================] - 9s 5ms/step - loss: 0.2158 - accuracy: 0.9181 - val_loss: 0.3225 - val_accuracy: 0.8929\n",
      "Best epoch: 10\n"
     ]
    }
   ],
   "source": [
    "### Ajuste de la red neuronal con hiperparámetros optimos\n",
    "history = best_model.fit(x_train2, y_train, epochs=10, validation_data = (x_test2, y_test))\n",
    "\n",
    "### Cual es el epoch con max val_accuracy\n",
    "val_accuracy_per_epoch = history.history['val_accuracy']\n",
    "best_epoch = val_accuracy_per_epoch.index(max(val_accuracy_per_epoch))+1\n",
    "print(f\"Best epoch: {best_epoch}\")"
   ]
  },
  {
   "cell_type": "code",
   "execution_count": 23,
   "metadata": {},
   "outputs": [
    {
     "name": "stdout",
     "output_type": "stream",
     "text": [
      "313/313 [==============================] - 1s 2ms/step - loss: 0.3225 - accuracy: 0.8929\n",
      "Test accuracy:  0.8928999900817871\n"
     ]
    }
   ],
   "source": [
    "### Utilizar el metodo evaluate para evaluar la red neuronal\n",
    "test_loss, test_accuracy = best_model.evaluate(x_test2, y_test)\n",
    "print('Test accuracy: ', test_accuracy)"
   ]
  }
 ],
 "metadata": {
  "kernelspec": {
   "display_name": "base",
   "language": "python",
   "name": "python3"
  },
  "language_info": {
   "codemirror_mode": {
    "name": "ipython",
    "version": 3
   },
   "file_extension": ".py",
   "mimetype": "text/x-python",
   "name": "python",
   "nbconvert_exporter": "python",
   "pygments_lexer": "ipython3",
   "version": "3.9.7"
  }
 },
 "nbformat": 4,
 "nbformat_minor": 2
}
